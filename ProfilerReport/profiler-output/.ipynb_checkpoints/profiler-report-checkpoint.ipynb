{
 "cells": [
  {
   "cell_type": "markdown",
   "metadata": {
    "papermill": {
     "duration": 0.017211,
     "end_time": "2021-12-03T21:44:32.907247",
     "exception": false,
     "start_time": "2021-12-03T21:44:32.890036",
     "status": "completed"
    },
    "tags": []
   },
   "source": [
    "# SageMaker Debugger Profiling Report\n",
    "\n",
    "SageMaker Debugger auto generated this report. You can generate similar reports on all supported training jobs. The report provides summary of training job, system resource usage statistics, framework metrics, rules summary, and detailed analysis from each rule. The graphs and tables are interactive. \n",
    "\n",
    "**Legal disclaimer:** This report and any recommendations are provided for informational purposes only and are not definitive. You are responsible for making your own independent assessment of the information.\n"
   ]
  },
  {
   "cell_type": "code",
   "execution_count": 1,
   "metadata": {
    "execution": {
     "iopub.execute_input": "2021-12-03T21:44:32.947291Z",
     "iopub.status.busy": "2021-12-03T21:44:32.946798Z",
     "iopub.status.idle": "2021-12-03T21:44:33.543979Z",
     "shell.execute_reply": "2021-12-03T21:44:33.543402Z"
    },
    "papermill": {
     "duration": 0.620519,
     "end_time": "2021-12-03T21:44:33.544104",
     "exception": false,
     "start_time": "2021-12-03T21:44:32.923585",
     "status": "completed"
    },
    "tags": [
     "hide-output",
     "hide-input"
    ]
   },
   "outputs": [
    {
     "name": "stdout",
     "output_type": "stream",
     "text": [
      "[2021-12-03 21:44:33.536 ip-10-0-199-162.ec2.internal:650 INFO utils.py:27] RULE_JOB_STOP_SIGNAL_FILENAME: /opt/ml/processing/input/profiler/signals/ProfilerReport\n"
     ]
    }
   ],
   "source": [
    "import json\n",
    "import pandas as pd\n",
    "import glob\n",
    "import matplotlib.pyplot as plt\n",
    "import numpy as np\n",
    "import datetime\n",
    "from smdebug.profiler.utils import us_since_epoch_to_human_readable_time, ns_since_epoch_to_human_readable_time\n",
    "from smdebug.core.utils import setup_profiler_report\n"
   ]
  },
  {
   "cell_type": "code",
   "execution_count": 2,
   "metadata": {
    "execution": {
     "iopub.execute_input": "2021-12-03T21:44:33.585227Z",
     "iopub.status.busy": "2021-12-03T21:44:33.584708Z",
     "iopub.status.idle": "2021-12-03T21:44:33.775775Z",
     "shell.execute_reply": "2021-12-03T21:44:33.776156Z"
    },
    "papermill": {
     "duration": 0.213526,
     "end_time": "2021-12-03T21:44:33.776300",
     "exception": false,
     "start_time": "2021-12-03T21:44:33.562774",
     "status": "completed"
    },
    "tags": [
     "hide-input"
    ]
   },
   "outputs": [
    {
     "data": {
      "application/javascript": [
       "\n",
       "(function(root) {\n",
       "  function now() {\n",
       "    return new Date();\n",
       "  }\n",
       "\n",
       "  var force = true;\n",
       "\n",
       "  if (typeof root._bokeh_onload_callbacks === \"undefined\" || force === true) {\n",
       "    root._bokeh_onload_callbacks = [];\n",
       "    root._bokeh_is_loading = undefined;\n",
       "  }\n",
       "\n",
       "  var JS_MIME_TYPE = 'application/javascript';\n",
       "  var HTML_MIME_TYPE = 'text/html';\n",
       "  var EXEC_MIME_TYPE = 'application/vnd.bokehjs_exec.v0+json';\n",
       "  var CLASS_NAME = 'output_bokeh rendered_html';\n",
       "\n",
       "  /**\n",
       "   * Render data to the DOM node\n",
       "   */\n",
       "  function render(props, node) {\n",
       "    var script = document.createElement(\"script\");\n",
       "    node.appendChild(script);\n",
       "  }\n",
       "\n",
       "  /**\n",
       "   * Handle when an output is cleared or removed\n",
       "   */\n",
       "  function handleClearOutput(event, handle) {\n",
       "    var cell = handle.cell;\n",
       "\n",
       "    var id = cell.output_area._bokeh_element_id;\n",
       "    var server_id = cell.output_area._bokeh_server_id;\n",
       "    // Clean up Bokeh references\n",
       "    if (id != null && id in Bokeh.index) {\n",
       "      Bokeh.index[id].model.document.clear();\n",
       "      delete Bokeh.index[id];\n",
       "    }\n",
       "\n",
       "    if (server_id !== undefined) {\n",
       "      // Clean up Bokeh references\n",
       "      var cmd = \"from bokeh.io.state import curstate; print(curstate().uuid_to_server['\" + server_id + \"'].get_sessions()[0].document.roots[0]._id)\";\n",
       "      cell.notebook.kernel.execute(cmd, {\n",
       "        iopub: {\n",
       "          output: function(msg) {\n",
       "            var id = msg.content.text.trim();\n",
       "            if (id in Bokeh.index) {\n",
       "              Bokeh.index[id].model.document.clear();\n",
       "              delete Bokeh.index[id];\n",
       "            }\n",
       "          }\n",
       "        }\n",
       "      });\n",
       "      // Destroy server and session\n",
       "      var cmd = \"import bokeh.io.notebook as ion; ion.destroy_server('\" + server_id + \"')\";\n",
       "      cell.notebook.kernel.execute(cmd);\n",
       "    }\n",
       "  }\n",
       "\n",
       "  /**\n",
       "   * Handle when a new output is added\n",
       "   */\n",
       "  function handleAddOutput(event, handle) {\n",
       "    var output_area = handle.output_area;\n",
       "    var output = handle.output;\n",
       "\n",
       "    // limit handleAddOutput to display_data with EXEC_MIME_TYPE content only\n",
       "    if ((output.output_type != \"display_data\") || (!output.data.hasOwnProperty(EXEC_MIME_TYPE))) {\n",
       "      return\n",
       "    }\n",
       "\n",
       "    var toinsert = output_area.element.find(\".\" + CLASS_NAME.split(' ')[0]);\n",
       "\n",
       "    if (output.metadata[EXEC_MIME_TYPE][\"id\"] !== undefined) {\n",
       "      toinsert[toinsert.length - 1].firstChild.textContent = output.data[JS_MIME_TYPE];\n",
       "      // store reference to embed id on output_area\n",
       "      output_area._bokeh_element_id = output.metadata[EXEC_MIME_TYPE][\"id\"];\n",
       "    }\n",
       "    if (output.metadata[EXEC_MIME_TYPE][\"server_id\"] !== undefined) {\n",
       "      var bk_div = document.createElement(\"div\");\n",
       "      bk_div.innerHTML = output.data[HTML_MIME_TYPE];\n",
       "      var script_attrs = bk_div.children[0].attributes;\n",
       "      for (var i = 0; i < script_attrs.length; i++) {\n",
       "        toinsert[toinsert.length - 1].firstChild.setAttribute(script_attrs[i].name, script_attrs[i].value);\n",
       "        toinsert[toinsert.length - 1].firstChild.textContent = bk_div.children[0].textContent\n",
       "      }\n",
       "      // store reference to server id on output_area\n",
       "      output_area._bokeh_server_id = output.metadata[EXEC_MIME_TYPE][\"server_id\"];\n",
       "    }\n",
       "  }\n",
       "\n",
       "  function register_renderer(events, OutputArea) {\n",
       "\n",
       "    function append_mime(data, metadata, element) {\n",
       "      // create a DOM node to render to\n",
       "      var toinsert = this.create_output_subarea(\n",
       "        metadata,\n",
       "        CLASS_NAME,\n",
       "        EXEC_MIME_TYPE\n",
       "      );\n",
       "      this.keyboard_manager.register_events(toinsert);\n",
       "      // Render to node\n",
       "      var props = {data: data, metadata: metadata[EXEC_MIME_TYPE]};\n",
       "      render(props, toinsert[toinsert.length - 1]);\n",
       "      element.append(toinsert);\n",
       "      return toinsert\n",
       "    }\n",
       "\n",
       "    /* Handle when an output is cleared or removed */\n",
       "    events.on('clear_output.CodeCell', handleClearOutput);\n",
       "    events.on('delete.Cell', handleClearOutput);\n",
       "\n",
       "    /* Handle when a new output is added */\n",
       "    events.on('output_added.OutputArea', handleAddOutput);\n",
       "\n",
       "    /**\n",
       "     * Register the mime type and append_mime function with output_area\n",
       "     */\n",
       "    OutputArea.prototype.register_mime_type(EXEC_MIME_TYPE, append_mime, {\n",
       "      /* Is output safe? */\n",
       "      safe: true,\n",
       "      /* Index of renderer in `output_area.display_order` */\n",
       "      index: 0\n",
       "    });\n",
       "  }\n",
       "\n",
       "  // register the mime type if in Jupyter Notebook environment and previously unregistered\n",
       "  if (root.Jupyter !== undefined) {\n",
       "    var events = require('base/js/events');\n",
       "    var OutputArea = require('notebook/js/outputarea').OutputArea;\n",
       "\n",
       "    if (OutputArea.prototype.mime_types().indexOf(EXEC_MIME_TYPE) == -1) {\n",
       "      register_renderer(events, OutputArea);\n",
       "    }\n",
       "  }\n",
       "\n",
       "  \n",
       "  if (typeof (root._bokeh_timeout) === \"undefined\" || force === true) {\n",
       "    root._bokeh_timeout = Date.now() + 5000;\n",
       "    root._bokeh_failed_load = false;\n",
       "  }\n",
       "\n",
       "  var NB_LOAD_WARNING = {'data': {'text/html':\n",
       "     \"<div style='background-color: #fdd'>\\n\"+\n",
       "     \"<p>\\n\"+\n",
       "     \"BokehJS does not appear to have successfully loaded. If loading BokehJS from CDN, this \\n\"+\n",
       "     \"may be due to a slow or bad network connection. Possible fixes:\\n\"+\n",
       "     \"</p>\\n\"+\n",
       "     \"<ul>\\n\"+\n",
       "     \"<li>re-rerun `output_notebook()` to attempt to load from CDN again, or</li>\\n\"+\n",
       "     \"<li>use INLINE resources instead, as so:</li>\\n\"+\n",
       "     \"</ul>\\n\"+\n",
       "     \"<code>\\n\"+\n",
       "     \"from bokeh.resources import INLINE\\n\"+\n",
       "     \"output_notebook(resources=INLINE)\\n\"+\n",
       "     \"</code>\\n\"+\n",
       "     \"</div>\"}};\n",
       "\n",
       "  function display_loaded() {\n",
       "    var el = document.getElementById(null);\n",
       "    if (el != null) {\n",
       "      el.textContent = \"BokehJS is loading...\";\n",
       "    }\n",
       "    if (root.Bokeh !== undefined) {\n",
       "      if (el != null) {\n",
       "        el.textContent = \"BokehJS \" + root.Bokeh.version + \" successfully loaded.\";\n",
       "      }\n",
       "    } else if (Date.now() < root._bokeh_timeout) {\n",
       "      setTimeout(display_loaded, 100)\n",
       "    }\n",
       "  }\n",
       "\n",
       "\n",
       "  function run_callbacks() {\n",
       "    try {\n",
       "      root._bokeh_onload_callbacks.forEach(function(callback) {\n",
       "        if (callback != null)\n",
       "          callback();\n",
       "      });\n",
       "    } finally {\n",
       "      delete root._bokeh_onload_callbacks\n",
       "    }\n",
       "    console.debug(\"Bokeh: all callbacks have finished\");\n",
       "  }\n",
       "\n",
       "  function load_libs(css_urls, js_urls, callback) {\n",
       "    if (css_urls == null) css_urls = [];\n",
       "    if (js_urls == null) js_urls = [];\n",
       "\n",
       "    root._bokeh_onload_callbacks.push(callback);\n",
       "    if (root._bokeh_is_loading > 0) {\n",
       "      console.debug(\"Bokeh: BokehJS is being loaded, scheduling callback at\", now());\n",
       "      return null;\n",
       "    }\n",
       "    if (js_urls == null || js_urls.length === 0) {\n",
       "      run_callbacks();\n",
       "      return null;\n",
       "    }\n",
       "    console.debug(\"Bokeh: BokehJS not loaded, scheduling load and callback at\", now());\n",
       "    root._bokeh_is_loading = css_urls.length + js_urls.length;\n",
       "\n",
       "    function on_load() {\n",
       "      root._bokeh_is_loading--;\n",
       "      if (root._bokeh_is_loading === 0) {\n",
       "        console.debug(\"Bokeh: all BokehJS libraries/stylesheets loaded\");\n",
       "        run_callbacks()\n",
       "      }\n",
       "    }\n",
       "\n",
       "    function on_error() {\n",
       "      console.error(\"failed to load \" + url);\n",
       "    }\n",
       "\n",
       "    for (var i = 0; i < css_urls.length; i++) {\n",
       "      var url = css_urls[i];\n",
       "      const element = document.createElement(\"link\");\n",
       "      element.onload = on_load;\n",
       "      element.onerror = on_error;\n",
       "      element.rel = \"stylesheet\";\n",
       "      element.type = \"text/css\";\n",
       "      element.href = url;\n",
       "      console.debug(\"Bokeh: injecting link tag for BokehJS stylesheet: \", url);\n",
       "      document.body.appendChild(element);\n",
       "    }\n",
       "\n",
       "    const hashes = {\"https://cdn.bokeh.org/bokeh/release/bokeh-2.2.3.min.js\": \"T2yuo9Oe71Cz/I4X9Ac5+gpEa5a8PpJCDlqKYO0CfAuEszu1JrXLl8YugMqYe3sM\", \"https://cdn.bokeh.org/bokeh/release/bokeh-widgets-2.2.3.min.js\": \"98GDGJ0kOMCUMUePhksaQ/GYgB3+NH9h996V88sh3aOiUNX3N+fLXAtry6xctSZ6\", \"https://cdn.bokeh.org/bokeh/release/bokeh-tables-2.2.3.min.js\": \"89bArO+nlbP3sgakeHjCo1JYxYR5wufVgA3IbUvDY+K7w4zyxJqssu7wVnfeKCq8\"};\n",
       "\n",
       "    for (var i = 0; i < js_urls.length; i++) {\n",
       "      var url = js_urls[i];\n",
       "      var element = document.createElement('script');\n",
       "      element.onload = on_load;\n",
       "      element.onerror = on_error;\n",
       "      element.async = false;\n",
       "      element.src = url;\n",
       "      if (url in hashes) {\n",
       "        element.crossOrigin = \"anonymous\";\n",
       "        element.integrity = \"sha384-\" + hashes[url];\n",
       "      }\n",
       "      console.debug(\"Bokeh: injecting script tag for BokehJS library: \", url);\n",
       "      document.head.appendChild(element);\n",
       "    }\n",
       "  };\n",
       "\n",
       "  function inject_raw_css(css) {\n",
       "    const element = document.createElement(\"style\");\n",
       "    element.appendChild(document.createTextNode(css));\n",
       "    document.body.appendChild(element);\n",
       "  }\n",
       "\n",
       "  \n",
       "  var js_urls = [\"https://cdn.bokeh.org/bokeh/release/bokeh-2.2.3.min.js\", \"https://cdn.bokeh.org/bokeh/release/bokeh-widgets-2.2.3.min.js\", \"https://cdn.bokeh.org/bokeh/release/bokeh-tables-2.2.3.min.js\"];\n",
       "  var css_urls = [];\n",
       "  \n",
       "\n",
       "  var inline_js = [\n",
       "    function(Bokeh) {\n",
       "      Bokeh.set_log_level(\"info\");\n",
       "    },\n",
       "    function(Bokeh) {\n",
       "    \n",
       "    \n",
       "    }\n",
       "  ];\n",
       "\n",
       "  function run_inline_js() {\n",
       "    \n",
       "    if (root.Bokeh !== undefined || force === true) {\n",
       "      \n",
       "    for (var i = 0; i < inline_js.length; i++) {\n",
       "      inline_js[i].call(root, root.Bokeh);\n",
       "    }\n",
       "    } else if (Date.now() < root._bokeh_timeout) {\n",
       "      setTimeout(run_inline_js, 100);\n",
       "    } else if (!root._bokeh_failed_load) {\n",
       "      console.log(\"Bokeh: BokehJS failed to load within specified timeout.\");\n",
       "      root._bokeh_failed_load = true;\n",
       "    } else if (force !== true) {\n",
       "      var cell = $(document.getElementById(null)).parents('.cell').data().cell;\n",
       "      cell.output_area.append_execute_result(NB_LOAD_WARNING)\n",
       "    }\n",
       "\n",
       "  }\n",
       "\n",
       "  if (root._bokeh_is_loading === 0) {\n",
       "    console.debug(\"Bokeh: BokehJS loaded, going straight to plotting\");\n",
       "    run_inline_js();\n",
       "  } else {\n",
       "    load_libs(css_urls, js_urls, function() {\n",
       "      console.debug(\"Bokeh: BokehJS plotting callback run at\", now());\n",
       "      run_inline_js();\n",
       "    });\n",
       "  }\n",
       "}(window));"
      ],
      "application/vnd.bokehjs_load.v0+json": "\n(function(root) {\n  function now() {\n    return new Date();\n  }\n\n  var force = true;\n\n  if (typeof root._bokeh_onload_callbacks === \"undefined\" || force === true) {\n    root._bokeh_onload_callbacks = [];\n    root._bokeh_is_loading = undefined;\n  }\n\n  \n\n  \n  if (typeof (root._bokeh_timeout) === \"undefined\" || force === true) {\n    root._bokeh_timeout = Date.now() + 5000;\n    root._bokeh_failed_load = false;\n  }\n\n  var NB_LOAD_WARNING = {'data': {'text/html':\n     \"<div style='background-color: #fdd'>\\n\"+\n     \"<p>\\n\"+\n     \"BokehJS does not appear to have successfully loaded. If loading BokehJS from CDN, this \\n\"+\n     \"may be due to a slow or bad network connection. Possible fixes:\\n\"+\n     \"</p>\\n\"+\n     \"<ul>\\n\"+\n     \"<li>re-rerun `output_notebook()` to attempt to load from CDN again, or</li>\\n\"+\n     \"<li>use INLINE resources instead, as so:</li>\\n\"+\n     \"</ul>\\n\"+\n     \"<code>\\n\"+\n     \"from bokeh.resources import INLINE\\n\"+\n     \"output_notebook(resources=INLINE)\\n\"+\n     \"</code>\\n\"+\n     \"</div>\"}};\n\n  function display_loaded() {\n    var el = document.getElementById(null);\n    if (el != null) {\n      el.textContent = \"BokehJS is loading...\";\n    }\n    if (root.Bokeh !== undefined) {\n      if (el != null) {\n        el.textContent = \"BokehJS \" + root.Bokeh.version + \" successfully loaded.\";\n      }\n    } else if (Date.now() < root._bokeh_timeout) {\n      setTimeout(display_loaded, 100)\n    }\n  }\n\n\n  function run_callbacks() {\n    try {\n      root._bokeh_onload_callbacks.forEach(function(callback) {\n        if (callback != null)\n          callback();\n      });\n    } finally {\n      delete root._bokeh_onload_callbacks\n    }\n    console.debug(\"Bokeh: all callbacks have finished\");\n  }\n\n  function load_libs(css_urls, js_urls, callback) {\n    if (css_urls == null) css_urls = [];\n    if (js_urls == null) js_urls = [];\n\n    root._bokeh_onload_callbacks.push(callback);\n    if (root._bokeh_is_loading > 0) {\n      console.debug(\"Bokeh: BokehJS is being loaded, scheduling callback at\", now());\n      return null;\n    }\n    if (js_urls == null || js_urls.length === 0) {\n      run_callbacks();\n      return null;\n    }\n    console.debug(\"Bokeh: BokehJS not loaded, scheduling load and callback at\", now());\n    root._bokeh_is_loading = css_urls.length + js_urls.length;\n\n    function on_load() {\n      root._bokeh_is_loading--;\n      if (root._bokeh_is_loading === 0) {\n        console.debug(\"Bokeh: all BokehJS libraries/stylesheets loaded\");\n        run_callbacks()\n      }\n    }\n\n    function on_error() {\n      console.error(\"failed to load \" + url);\n    }\n\n    for (var i = 0; i < css_urls.length; i++) {\n      var url = css_urls[i];\n      const element = document.createElement(\"link\");\n      element.onload = on_load;\n      element.onerror = on_error;\n      element.rel = \"stylesheet\";\n      element.type = \"text/css\";\n      element.href = url;\n      console.debug(\"Bokeh: injecting link tag for BokehJS stylesheet: \", url);\n      document.body.appendChild(element);\n    }\n\n    const hashes = {\"https://cdn.bokeh.org/bokeh/release/bokeh-2.2.3.min.js\": \"T2yuo9Oe71Cz/I4X9Ac5+gpEa5a8PpJCDlqKYO0CfAuEszu1JrXLl8YugMqYe3sM\", \"https://cdn.bokeh.org/bokeh/release/bokeh-widgets-2.2.3.min.js\": \"98GDGJ0kOMCUMUePhksaQ/GYgB3+NH9h996V88sh3aOiUNX3N+fLXAtry6xctSZ6\", \"https://cdn.bokeh.org/bokeh/release/bokeh-tables-2.2.3.min.js\": \"89bArO+nlbP3sgakeHjCo1JYxYR5wufVgA3IbUvDY+K7w4zyxJqssu7wVnfeKCq8\"};\n\n    for (var i = 0; i < js_urls.length; i++) {\n      var url = js_urls[i];\n      var element = document.createElement('script');\n      element.onload = on_load;\n      element.onerror = on_error;\n      element.async = false;\n      element.src = url;\n      if (url in hashes) {\n        element.crossOrigin = \"anonymous\";\n        element.integrity = \"sha384-\" + hashes[url];\n      }\n      console.debug(\"Bokeh: injecting script tag for BokehJS library: \", url);\n      document.head.appendChild(element);\n    }\n  };\n\n  function inject_raw_css(css) {\n    const element = document.createElement(\"style\");\n    element.appendChild(document.createTextNode(css));\n    document.body.appendChild(element);\n  }\n\n  \n  var js_urls = [\"https://cdn.bokeh.org/bokeh/release/bokeh-2.2.3.min.js\", \"https://cdn.bokeh.org/bokeh/release/bokeh-widgets-2.2.3.min.js\", \"https://cdn.bokeh.org/bokeh/release/bokeh-tables-2.2.3.min.js\"];\n  var css_urls = [];\n  \n\n  var inline_js = [\n    function(Bokeh) {\n      Bokeh.set_log_level(\"info\");\n    },\n    function(Bokeh) {\n    \n    \n    }\n  ];\n\n  function run_inline_js() {\n    \n    if (root.Bokeh !== undefined || force === true) {\n      \n    for (var i = 0; i < inline_js.length; i++) {\n      inline_js[i].call(root, root.Bokeh);\n    }\n    } else if (Date.now() < root._bokeh_timeout) {\n      setTimeout(run_inline_js, 100);\n    } else if (!root._bokeh_failed_load) {\n      console.log(\"Bokeh: BokehJS failed to load within specified timeout.\");\n      root._bokeh_failed_load = true;\n    } else if (force !== true) {\n      var cell = $(document.getElementById(null)).parents('.cell').data().cell;\n      cell.output_area.append_execute_result(NB_LOAD_WARNING)\n    }\n\n  }\n\n  if (root._bokeh_is_loading === 0) {\n    console.debug(\"Bokeh: BokehJS loaded, going straight to plotting\");\n    run_inline_js();\n  } else {\n    load_libs(css_urls, js_urls, function() {\n      console.debug(\"Bokeh: BokehJS plotting callback run at\", now());\n      run_inline_js();\n    });\n  }\n}(window));"
     },
     "metadata": {},
     "output_type": "display_data"
    }
   ],
   "source": [
    "import bokeh\n",
    "from bokeh.io import output_notebook, show\n",
    "from bokeh.layouts import column, row\n",
    "from bokeh.plotting import figure\n",
    "from bokeh.models.widgets import DataTable, DateFormatter, TableColumn\n",
    "from bokeh.models import ColumnDataSource, PreText\n",
    "from math import pi\n",
    "from bokeh.transform import cumsum\n",
    "import warnings\n",
    "from bokeh.models.widgets import Paragraph\n",
    "from bokeh.models import Legend\n",
    "from bokeh.util.warnings import BokehDeprecationWarning, BokehUserWarning\n",
    "warnings.simplefilter('ignore', BokehDeprecationWarning)\n",
    "warnings.simplefilter('ignore', BokehUserWarning)\n",
    "\n",
    "output_notebook(hide_banner=True)"
   ]
  },
  {
   "cell_type": "code",
   "execution_count": 3,
   "metadata": {
    "execution": {
     "iopub.execute_input": "2021-12-03T21:44:33.814753Z",
     "iopub.status.busy": "2021-12-03T21:44:33.814280Z",
     "iopub.status.idle": "2021-12-03T21:44:33.816474Z",
     "shell.execute_reply": "2021-12-03T21:44:33.816077Z"
    },
    "papermill": {
     "duration": 0.022761,
     "end_time": "2021-12-03T21:44:33.816578",
     "exception": false,
     "start_time": "2021-12-03T21:44:33.793817",
     "status": "completed"
    },
    "tags": [
     "parameters",
     "hide-input",
     "hide-output"
    ]
   },
   "outputs": [],
   "source": [
    "processing_job_arn = \"\""
   ]
  },
  {
   "cell_type": "code",
   "execution_count": 4,
   "id": "0cac1b3a",
   "metadata": {
    "execution": {
     "iopub.execute_input": "2021-12-03T21:44:33.856212Z",
     "iopub.status.busy": "2021-12-03T21:44:33.855738Z",
     "iopub.status.idle": "2021-12-03T21:44:33.858084Z",
     "shell.execute_reply": "2021-12-03T21:44:33.857574Z"
    },
    "papermill": {
     "duration": 0.023347,
     "end_time": "2021-12-03T21:44:33.858192",
     "exception": false,
     "start_time": "2021-12-03T21:44:33.834845",
     "status": "completed"
    },
    "tags": [
     "injected-parameters"
    ]
   },
   "outputs": [],
   "source": [
    "# Parameters\n",
    "processing_job_arn = \"arn:aws:sagemaker:us-east-1:767753516712:processing-job/dog-pytorch-train-2021-12--profilerreport-c47fdba1\"\n"
   ]
  },
  {
   "cell_type": "code",
   "execution_count": 5,
   "metadata": {
    "execution": {
     "iopub.execute_input": "2021-12-03T21:44:33.898049Z",
     "iopub.status.busy": "2021-12-03T21:44:33.897515Z",
     "iopub.status.idle": "2021-12-03T21:44:33.899788Z",
     "shell.execute_reply": "2021-12-03T21:44:33.899369Z"
    },
    "papermill": {
     "duration": 0.023703,
     "end_time": "2021-12-03T21:44:33.899892",
     "exception": false,
     "start_time": "2021-12-03T21:44:33.876189",
     "status": "completed"
    },
    "tags": [
     "hide-input",
     "hide-output"
    ]
   },
   "outputs": [],
   "source": [
    "setup_profiler_report(processing_job_arn)"
   ]
  },
  {
   "cell_type": "code",
   "execution_count": 6,
   "metadata": {
    "execution": {
     "iopub.execute_input": "2021-12-03T21:44:33.942774Z",
     "iopub.status.busy": "2021-12-03T21:44:33.942299Z",
     "iopub.status.idle": "2021-12-03T21:44:33.944361Z",
     "shell.execute_reply": "2021-12-03T21:44:33.943898Z"
    },
    "papermill": {
     "duration": 0.027168,
     "end_time": "2021-12-03T21:44:33.944476",
     "exception": false,
     "start_time": "2021-12-03T21:44:33.917308",
     "status": "completed"
    },
    "tags": [
     "hide-input"
    ]
   },
   "outputs": [],
   "source": [
    "def create_piechart(data_dict, title=None, height=400, width=400, x1=0, x2=0.1, radius=0.4, toolbar_location='right'):\n",
    "   \n",
    "    plot = figure(plot_height=height, \n",
    "                  plot_width=width,\n",
    "                  toolbar_location=toolbar_location,\n",
    "                  tools=\"hover,wheel_zoom,reset,pan\", \n",
    "                  tooltips=\"@phase:@value\", \n",
    "                  title=title,\n",
    "                  x_range=(-radius-x1, radius+x2))\n",
    "\n",
    "    data = pd.Series(data_dict).reset_index(name='value').rename(columns={'index':'phase'})\n",
    "    data['angle'] = data['value']/data['value'].sum() * 2*pi\n",
    "    data['color'] = bokeh.palettes.viridis(len(data_dict))\n",
    "\n",
    "    plot.wedge(x=0, y=0., radius=radius,\n",
    "        start_angle=cumsum('angle', include_zero=True), \n",
    "        end_angle=cumsum('angle'),\n",
    "        line_color=\"white\", \n",
    "        source=data, \n",
    "        fill_color='color', \n",
    "        legend='phase'\n",
    "              )\n",
    "    plot.legend.label_text_font_size = \"8pt\"\n",
    "    plot.legend.location = 'center_right'\n",
    "    plot.axis.axis_label=None\n",
    "    plot.axis.visible=False\n",
    "    plot.grid.grid_line_color = None\n",
    "    plot.outline_line_color = \"white\"\n",
    "    \n",
    "    return plot"
   ]
  },
  {
   "cell_type": "code",
   "execution_count": 7,
   "metadata": {
    "execution": {
     "iopub.execute_input": "2021-12-03T21:44:33.983846Z",
     "iopub.status.busy": "2021-12-03T21:44:33.983316Z",
     "iopub.status.idle": "2021-12-03T21:44:33.985375Z",
     "shell.execute_reply": "2021-12-03T21:44:33.984964Z"
    },
    "papermill": {
     "duration": 0.023602,
     "end_time": "2021-12-03T21:44:33.985475",
     "exception": false,
     "start_time": "2021-12-03T21:44:33.961873",
     "status": "completed"
    },
    "tags": [
     "hide-input"
    ]
   },
   "outputs": [],
   "source": [
    "from IPython.display import display, HTML, Markdown, Image\n",
    "def pretty_print(df):\n",
    "    raw_html = df.to_html().replace(\"\\\\n\",\"<br>\").replace('<tr>','<tr style=\"text-align: left;\">')\n",
    "    return display(HTML(raw_html))"
   ]
  },
  {
   "cell_type": "markdown",
   "metadata": {
    "papermill": {
     "duration": 0.01787,
     "end_time": "2021-12-03T21:44:34.020683",
     "exception": false,
     "start_time": "2021-12-03T21:44:34.002813",
     "status": "completed"
    },
    "tags": []
   },
   "source": [
    "## Training job summary"
   ]
  },
  {
   "cell_type": "code",
   "execution_count": 8,
   "metadata": {
    "execution": {
     "iopub.execute_input": "2021-12-03T21:44:34.060849Z",
     "iopub.status.busy": "2021-12-03T21:44:34.060317Z",
     "iopub.status.idle": "2021-12-03T21:44:34.062022Z",
     "shell.execute_reply": "2021-12-03T21:44:34.062410Z"
    },
    "papermill": {
     "duration": 0.023594,
     "end_time": "2021-12-03T21:44:34.062528",
     "exception": false,
     "start_time": "2021-12-03T21:44:34.038934",
     "status": "completed"
    },
    "tags": [
     "hide-input"
    ]
   },
   "outputs": [],
   "source": [
    "def load_report(rule_name):\n",
    "    try:\n",
    "        report = json.load(open('/opt/ml/processing/output/rule/profiler-output/profiler-reports/'+rule_name+'.json'))\n",
    "        return report\n",
    "    except FileNotFoundError:\n",
    "        print (rule_name + ' not triggered')"
   ]
  },
  {
   "cell_type": "code",
   "execution_count": 9,
   "metadata": {
    "execution": {
     "iopub.execute_input": "2021-12-03T21:44:34.108454Z",
     "iopub.status.busy": "2021-12-03T21:44:34.105489Z",
     "iopub.status.idle": "2021-12-03T21:44:34.112074Z",
     "shell.execute_reply": "2021-12-03T21:44:34.111595Z"
    },
    "papermill": {
     "duration": 0.032217,
     "end_time": "2021-12-03T21:44:34.112171",
     "exception": false,
     "start_time": "2021-12-03T21:44:34.079954",
     "status": "completed"
    },
    "tags": [
     "hide-input",
     "hide-output"
    ]
   },
   "outputs": [],
   "source": [
    "\n",
    "job_statistics = {}\n",
    "report = load_report('MaxInitializationTime')\n",
    "if report:\n",
    "    if \"first\" in report['Details'][\"step_num\"] and \"last\" in report['Details'][\"step_num\"]:\n",
    "        first_step = report['Details'][\"step_num\"][\"first\"]\n",
    "        last_step = report['Details'][\"step_num\"][\"last\"]\n",
    "    tmp = us_since_epoch_to_human_readable_time(report['Details']['job_start'] * 1000000)\n",
    "    date = datetime.datetime.strptime(tmp, '%Y-%m-%dT%H:%M:%S:%f')\n",
    "    day = date.date().strftime(\"%m/%d/%Y\")\n",
    "    hour = date.time().strftime(\"%H:%M:%S\")\n",
    "    job_statistics[\"Start time\"] = f\"{hour} {day}\"\n",
    "    tmp = us_since_epoch_to_human_readable_time(report['Details']['job_end'] * 1000000)\n",
    "    date = datetime.datetime.strptime(tmp, '%Y-%m-%dT%H:%M:%S:%f')\n",
    "    day = date.date().strftime(\"%m/%d/%Y\")\n",
    "    hour = date.time().strftime(\"%H:%M:%S\")\n",
    "    job_statistics[\"End time\"] = f\"{hour} {day}\"\n",
    "    job_duration_in_seconds = int(report['Details']['job_end'] - report['Details']['job_start']) \n",
    "    job_statistics[\"Job duration\"] = f\"{job_duration_in_seconds} seconds\"\n",
    "    if \"first\" in report['Details'][\"step_num\"] and \"last\" in report['Details'][\"step_num\"]:\n",
    "        tmp = us_since_epoch_to_human_readable_time(first_step)\n",
    "        date = datetime.datetime.strptime(tmp, '%Y-%m-%dT%H:%M:%S:%f')\n",
    "        day = date.date().strftime(\"%m/%d/%Y\")\n",
    "        hour = date.time().strftime(\"%H:%M:%S\")\n",
    "        job_statistics[\"Training loop start\"] = f\"{hour} {day}\"\n",
    "        tmp = us_since_epoch_to_human_readable_time(last_step)\n",
    "        date = datetime.datetime.strptime(tmp, '%Y-%m-%dT%H:%M:%S:%f')\n",
    "        day = date.date().strftime(\"%m/%d/%Y\")\n",
    "        hour = date.time().strftime(\"%H:%M:%S\")\n",
    "        job_statistics[\"Training loop end\"] = f\"{hour} {day}\"\n",
    "        training_loop_duration_in_seconds = int((last_step - first_step) / 1000000)\n",
    "        job_statistics[\"Training loop duration\"] = f\"{training_loop_duration_in_seconds} seconds\"\n",
    "        initialization_in_seconds = int(first_step/1000000 - report['Details']['job_start'])\n",
    "        job_statistics[\"Initialization time\"] = f\"{initialization_in_seconds} seconds\"\n",
    "        finalization_in_seconds = int(np.abs(report['Details']['job_end'] - last_step/1000000))\n",
    "        job_statistics[\"Finalization time\"] = f\"{finalization_in_seconds} seconds\"\n",
    "        initialization_perc = int(initialization_in_seconds / job_duration_in_seconds * 100)\n",
    "        job_statistics[\"Initialization\"] = f\"{initialization_perc} %\"\n",
    "        training_loop_perc = int(training_loop_duration_in_seconds / job_duration_in_seconds * 100)\n",
    "        job_statistics[\"Training loop\"] = f\"{training_loop_perc} %\"\n",
    "        finalization_perc = int(finalization_in_seconds / job_duration_in_seconds * 100)\n",
    "        job_statistics[\"Finalization\"] = f\"{finalization_perc} %\""
   ]
  },
  {
   "cell_type": "code",
   "execution_count": 10,
   "metadata": {
    "execution": {
     "iopub.execute_input": "2021-12-03T21:44:34.176282Z",
     "iopub.status.busy": "2021-12-03T21:44:34.158758Z",
     "iopub.status.idle": "2021-12-03T21:44:34.196820Z",
     "shell.execute_reply": "2021-12-03T21:44:34.197218Z"
    },
    "papermill": {
     "duration": 0.067363,
     "end_time": "2021-12-03T21:44:34.197341",
     "exception": false,
     "start_time": "2021-12-03T21:44:34.129978",
     "status": "completed"
    },
    "tags": [
     "hide-input"
    ]
   },
   "outputs": [
    {
     "data": {
      "text/html": [
       "\n",
       "\n",
       "\n",
       "\n",
       "\n",
       "\n",
       "  <div class=\"bk-root\" id=\"a1aff4b0-5efa-444a-8ebd-5c3af94dfc34\" data-root-id=\"1052\"></div>\n"
      ]
     },
     "metadata": {},
     "output_type": "display_data"
    },
    {
     "data": {
      "application/javascript": [
       "(function(root) {\n",
       "  function embed_document(root) {\n",
       "    \n",
       "  var docs_json = {\"b769a24a-277c-4861-b7c8-30c244fa84b7\":{\"roots\":{\"references\":[{\"attributes\":{\"children\":[{\"id\":\"1050\"},{\"id\":\"1051\"}]},\"id\":\"1052\",\"type\":\"Column\"},{\"attributes\":{},\"id\":\"1010\",\"type\":\"DataRange1d\"},{\"attributes\":{\"data\":{\"0\":[\"Start time\",\"End time\",\"Job duration\",\"Training loop start\",\"Training loop end\",\"Training loop duration\",\"Initialization time\",\"Finalization time\",\"Initialization\",\"Training loop\",\"Finalization\"],\"1\":[\"21:20:52 12/03/2021\",\"21:43:59 12/03/2021\",\"1387 seconds\",\"21:26:11 12/03/2021\",\"21:43:55 12/03/2021\",\"1064 seconds\",\"318 seconds\",\"4 seconds\",\"22 %\",\"76 %\",\"0 %\"],\"index\":[0,1,2,3,4,5,6,7,8,9,10]},\"selected\":{\"id\":\"1055\"},\"selection_policy\":{\"id\":\"1054\"}},\"id\":\"1001\",\"type\":\"ColumnDataSource\"},{\"attributes\":{},\"id\":\"1059\",\"type\":\"StringFormatter\"},{\"attributes\":{\"data\":{\"angle\":{\"__ndarray__\":\"aWwT+HOR9j/+UT9Wnn0TQAAAAAAAAAAA\",\"dtype\":\"float64\",\"order\":\"little\",\"shape\":[3]},\"color\":[\"#440154\",\"#208F8C\",\"#FDE724\"],\"index\":[0,1,2],\"phase\":[\"Initialization\",\"Training loop\",\"Finalization\"],\"value\":[22,76,0]},\"selected\":{\"id\":\"1047\"},\"selection_policy\":{\"id\":\"1046\"}},\"id\":\"1035\",\"type\":\"ColumnDataSource\"},{\"attributes\":{\"editor\":{\"id\":\"1056\"},\"field\":\"0\",\"formatter\":{\"id\":\"1057\"},\"title\":\"\"},\"id\":\"1002\",\"type\":\"TableColumn\"},{\"attributes\":{\"axis_label\":null,\"formatter\":{\"id\":\"1043\"},\"ticker\":{\"id\":\"1017\"},\"visible\":false},\"id\":\"1016\",\"type\":\"LinearAxis\"},{\"attributes\":{\"end_angle\":{\"expr\":{\"id\":\"1034\"},\"units\":\"rad\"},\"fill_color\":{\"field\":\"color\"},\"line_color\":{\"value\":\"white\"},\"radius\":{\"units\":\"data\",\"value\":0.15},\"start_angle\":{\"expr\":{\"id\":\"1033\"},\"units\":\"rad\"},\"x\":{\"value\":0},\"y\":{\"value\":0.0}},\"id\":\"1037\",\"type\":\"Wedge\"},{\"attributes\":{},\"id\":\"1021\",\"type\":\"BasicTicker\"},{\"attributes\":{},\"id\":\"1047\",\"type\":\"Selection\"},{\"attributes\":{},\"id\":\"1017\",\"type\":\"BasicTicker\"},{\"attributes\":{},\"id\":\"1045\",\"type\":\"BasicTickFormatter\"},{\"attributes\":{\"source\":{\"id\":\"1001\"}},\"id\":\"1005\",\"type\":\"CDSView\"},{\"attributes\":{\"axis\":{\"id\":\"1016\"},\"grid_line_color\":null,\"ticker\":null},\"id\":\"1019\",\"type\":\"Grid\"},{\"attributes\":{\"items\":[{\"id\":\"1049\"}],\"label_text_font_size\":\"8pt\",\"location\":\"center_right\"},\"id\":\"1048\",\"type\":\"Legend\"},{\"attributes\":{\"field\":\"angle\",\"include_zero\":true},\"id\":\"1033\",\"type\":\"CumSum\"},{\"attributes\":{\"axis\":{\"id\":\"1020\"},\"dimension\":1,\"grid_line_color\":null,\"ticker\":null},\"id\":\"1023\",\"type\":\"Grid\"},{\"attributes\":{},\"id\":\"1046\",\"type\":\"UnionRenderers\"},{\"attributes\":{\"columns\":[{\"id\":\"1002\"},{\"id\":\"1003\"}],\"height\":380,\"source\":{\"id\":\"1001\"},\"view\":{\"id\":\"1005\"},\"width\":450},\"id\":\"1004\",\"type\":\"DataTable\"},{\"attributes\":{\"axis_label\":null,\"formatter\":{\"id\":\"1045\"},\"ticker\":{\"id\":\"1021\"},\"visible\":false},\"id\":\"1020\",\"type\":\"LinearAxis\"},{\"attributes\":{},\"id\":\"1056\",\"type\":\"StringEditor\"},{\"attributes\":{},\"id\":\"1058\",\"type\":\"StringEditor\"},{\"attributes\":{},\"id\":\"1054\",\"type\":\"UnionRenderers\"},{\"attributes\":{\"source\":{\"id\":\"1035\"}},\"id\":\"1040\",\"type\":\"CDSView\"},{\"attributes\":{\"active_drag\":\"auto\",\"active_inspect\":\"auto\",\"active_multi\":null,\"active_scroll\":\"auto\",\"active_tap\":\"auto\",\"tools\":[{\"id\":\"1024\"},{\"id\":\"1025\"},{\"id\":\"1026\"},{\"id\":\"1027\"}]},\"id\":\"1028\",\"type\":\"Toolbar\"},{\"attributes\":{},\"id\":\"1055\",\"type\":\"Selection\"},{\"attributes\":{\"label\":{\"field\":\"phase\"},\"renderers\":[{\"id\":\"1039\"}]},\"id\":\"1049\",\"type\":\"LegendItem\"},{\"attributes\":{\"end_angle\":{\"expr\":{\"id\":\"1034\"},\"units\":\"rad\"},\"fill_alpha\":{\"value\":0.1},\"fill_color\":{\"field\":\"color\"},\"line_alpha\":{\"value\":0.1},\"line_color\":{\"value\":\"white\"},\"radius\":{\"units\":\"data\",\"value\":0.15},\"start_angle\":{\"expr\":{\"id\":\"1033\"},\"units\":\"rad\"},\"x\":{\"value\":0},\"y\":{\"value\":0.0}},\"id\":\"1038\",\"type\":\"Wedge\"},{\"attributes\":{\"callback\":null,\"tooltips\":\"@phase:@value\"},\"id\":\"1024\",\"type\":\"HoverTool\"},{\"attributes\":{\"data_source\":{\"id\":\"1035\"},\"glyph\":{\"id\":\"1037\"},\"hover_glyph\":null,\"muted_glyph\":null,\"nonselection_glyph\":{\"id\":\"1038\"},\"selection_glyph\":null,\"view\":{\"id\":\"1040\"}},\"id\":\"1039\",\"type\":\"GlyphRenderer\"},{\"attributes\":{\"below\":[{\"id\":\"1016\"}],\"center\":[{\"id\":\"1019\"},{\"id\":\"1023\"},{\"id\":\"1048\"}],\"left\":[{\"id\":\"1020\"}],\"outline_line_color\":\"white\",\"plot_height\":350,\"plot_width\":500,\"renderers\":[{\"id\":\"1039\"}],\"title\":null,\"toolbar\":{\"id\":\"1028\"},\"toolbar_location\":null,\"x_range\":{\"id\":\"1008\"},\"x_scale\":{\"id\":\"1012\"},\"y_range\":{\"id\":\"1010\"},\"y_scale\":{\"id\":\"1014\"}},\"id\":\"1006\",\"subtype\":\"Figure\",\"type\":\"Plot\"},{\"attributes\":{\"text\":\"The following table gives a summary about the training job. The table includes information about when the training job started and ended, how much time initialization, training loop and finalization took. \\n Your training job started on 12/03/2021 at 21:20:52 and ran for 1387 seconds.\",\"width\":800},\"id\":\"1050\",\"type\":\"Paragraph\"},{\"attributes\":{},\"id\":\"1025\",\"type\":\"WheelZoomTool\"},{\"attributes\":{},\"id\":\"1057\",\"type\":\"StringFormatter\"},{\"attributes\":{},\"id\":\"1014\",\"type\":\"LinearScale\"},{\"attributes\":{},\"id\":\"1026\",\"type\":\"ResetTool\"},{\"attributes\":{},\"id\":\"1012\",\"type\":\"LinearScale\"},{\"attributes\":{},\"id\":\"1027\",\"type\":\"PanTool\"},{\"attributes\":{\"end\":0.3,\"start\":-0.3},\"id\":\"1008\",\"type\":\"Range1d\"},{\"attributes\":{},\"id\":\"1043\",\"type\":\"BasicTickFormatter\"},{\"attributes\":{\"field\":\"angle\"},\"id\":\"1034\",\"type\":\"CumSum\"},{\"attributes\":{\"children\":[{\"id\":\"1004\"},{\"id\":\"1006\"}]},\"id\":\"1051\",\"type\":\"Row\"},{\"attributes\":{\"editor\":{\"id\":\"1058\"},\"field\":\"1\",\"formatter\":{\"id\":\"1059\"},\"title\":\"Job Statistics\"},\"id\":\"1003\",\"type\":\"TableColumn\"}],\"root_ids\":[\"1052\"]},\"title\":\"Bokeh Application\",\"version\":\"2.2.3\"}};\n",
       "  var render_items = [{\"docid\":\"b769a24a-277c-4861-b7c8-30c244fa84b7\",\"root_ids\":[\"1052\"],\"roots\":{\"1052\":\"a1aff4b0-5efa-444a-8ebd-5c3af94dfc34\"}}];\n",
       "  root.Bokeh.embed.embed_items_notebook(docs_json, render_items);\n",
       "\n",
       "  }\n",
       "  if (root.Bokeh !== undefined) {\n",
       "    embed_document(root);\n",
       "  } else {\n",
       "    var attempts = 0;\n",
       "    var timer = setInterval(function(root) {\n",
       "      if (root.Bokeh !== undefined) {\n",
       "        clearInterval(timer);\n",
       "        embed_document(root);\n",
       "      } else {\n",
       "        attempts++;\n",
       "        if (attempts > 100) {\n",
       "          clearInterval(timer);\n",
       "          console.log(\"Bokeh: ERROR: Unable to run BokehJS code because BokehJS library is missing\");\n",
       "        }\n",
       "      }\n",
       "    }, 10, root)\n",
       "  }\n",
       "})(window);"
      ],
      "application/vnd.bokehjs_exec.v0+json": ""
     },
     "metadata": {
      "application/vnd.bokehjs_exec.v0+json": {
       "id": "1052"
      }
     },
     "output_type": "display_data"
    }
   ],
   "source": [
    "if report:\n",
    "    text =  \"\"\"The following table gives a summary about the training job. The table includes information about when the training job started and ended, how much time initialization, training loop and finalization took.\"\"\"\n",
    "    if len(job_statistics) > 0:\n",
    "        df = pd.DataFrame.from_dict(job_statistics, orient='index')\n",
    "        start_time = us_since_epoch_to_human_readable_time(report['Details']['job_start'] * 1000000)\n",
    "        date = datetime.datetime.strptime(start_time, '%Y-%m-%dT%H:%M:%S:%f')\n",
    "        day = date.date().strftime(\"%m/%d/%Y\")\n",
    "        hour = date.time().strftime(\"%H:%M:%S\")\n",
    "        duration = job_duration_in_seconds\n",
    "        text = f\"\"\"{text} \\n Your training job started on {day} at {hour} and ran for {duration} seconds.\"\"\"\n",
    "\n",
    "        #pretty_print(df)\n",
    "        if \"first\" in report['Details'][\"step_num\"] and \"last\" in report['Details'][\"step_num\"]:\n",
    "            if finalization_perc  < 0:\n",
    "                job_statistics[\"Finalization%\"]  = 0\n",
    "            if training_loop_perc < 0:\n",
    "                job_statistics[\"Training loop\"] = 0\n",
    "            if initialization_perc < 0:\n",
    "                job_statistics[\"Initialization\"] = 0\n",
    "        else:\n",
    "            text = f\"\"\"{text} \\n Your training job started on {day} at {hour} and ran for {duration} seconds.\"\"\"\n",
    "            \n",
    "    if len(job_statistics) > 0:\n",
    "        df2 = df.reset_index()\n",
    "        df2.columns = [\"0\", \"1\"]\n",
    "        source = ColumnDataSource(data=df2)\n",
    "        columns = [TableColumn(field='0', title=\"\"),\n",
    "                   TableColumn(field='1', title=\"Job Statistics\"),]\n",
    "        table = DataTable(source=source, columns=columns, width=450, height=380)\n",
    "\n",
    "    plot = None\n",
    "\n",
    "    if \"Initialization\" in job_statistics:\n",
    "        piechart_data = {}\n",
    "        piechart_data[\"Initialization\"] = initialization_perc  \n",
    "        piechart_data[\"Training loop\"]  = training_loop_perc\n",
    "        piechart_data[\"Finalization\"]  = finalization_perc \n",
    "\n",
    "        plot = create_piechart(piechart_data, \n",
    "                               height=350,\n",
    "                               width=500,\n",
    "                               x1=0.15,\n",
    "                               x2=0.15,\n",
    "                               radius=0.15, \n",
    "                               toolbar_location=None)\n",
    "\n",
    "    if plot != None:\n",
    "        paragraph = Paragraph(text=f\"\"\"{text}\"\"\", width = 800)\n",
    "        show(column(paragraph, row(table, plot)))\n",
    "    else:\n",
    "        paragraph = Paragraph(text=f\"\"\"{text}. No step information was profiled from your training job. The time spent on initialization and finalization cannot be computed.\"\"\" , width = 800)\n",
    "        show(column(paragraph, row(table)))"
   ]
  },
  {
   "cell_type": "markdown",
   "metadata": {
    "papermill": {
     "duration": 0.018141,
     "end_time": "2021-12-03T21:44:34.233918",
     "exception": false,
     "start_time": "2021-12-03T21:44:34.215777",
     "status": "completed"
    },
    "tags": []
   },
   "source": [
    "## System usage statistics"
   ]
  },
  {
   "cell_type": "code",
   "execution_count": 11,
   "metadata": {
    "execution": {
     "iopub.execute_input": "2021-12-03T21:44:34.273926Z",
     "iopub.status.busy": "2021-12-03T21:44:34.273457Z",
     "iopub.status.idle": "2021-12-03T21:44:34.275470Z",
     "shell.execute_reply": "2021-12-03T21:44:34.275858Z"
    },
    "papermill": {
     "duration": 0.023879,
     "end_time": "2021-12-03T21:44:34.275980",
     "exception": false,
     "start_time": "2021-12-03T21:44:34.252101",
     "status": "completed"
    },
    "tags": [
     "hide-input"
    ]
   },
   "outputs": [],
   "source": [
    "report = load_report('OverallSystemUsage')"
   ]
  },
  {
   "cell_type": "code",
   "execution_count": 12,
   "metadata": {
    "execution": {
     "iopub.execute_input": "2021-12-03T21:44:34.324337Z",
     "iopub.status.busy": "2021-12-03T21:44:34.323837Z",
     "iopub.status.idle": "2021-12-03T21:44:34.325650Z",
     "shell.execute_reply": "2021-12-03T21:44:34.326019Z"
    },
    "papermill": {
     "duration": 0.031515,
     "end_time": "2021-12-03T21:44:34.326147",
     "exception": false,
     "start_time": "2021-12-03T21:44:34.294632",
     "status": "completed"
    },
    "tags": [
     "hide-input"
    ]
   },
   "outputs": [],
   "source": [
    "text1 = ''\n",
    "if report:\n",
    "    if \"GPU\" in report[\"Details\"]:\n",
    "        for node_id in report[\"Details\"][\"GPU\"]:\n",
    "            gpu_p95 = report[\"Details\"][\"GPU\"][node_id][\"p95\"]\n",
    "            gpu_p50 = report[\"Details\"][\"GPU\"][node_id][\"p50\"]\n",
    "            cpu_p95 = report[\"Details\"][\"CPU\"][node_id][\"p95\"]\n",
    "            cpu_p50 = report[\"Details\"][\"CPU\"][node_id][\"p50\"]\n",
    "            \n",
    "            if gpu_p95 < 70 and cpu_p95 < 70:\n",
    "                text1 = f\"\"\"{text1}The 95th percentile of the total GPU utilization on node {node_id} is only {int(gpu_p95)}%. \n",
    "                The 95th percentile of the total CPU utilization is only {int(cpu_p95)}%. Node {node_id} is underutilized. \n",
    "                You may want to consider switching to a smaller instance type.\"\"\"\n",
    "            elif gpu_p95 < 70 and cpu_p95 > 70:\n",
    "                text1 = f\"\"\"{text1}The 95th percentile of the total GPU utilization on node {node_id} is only {int(gpu_p95)}%. \n",
    "                However, the 95th percentile of the total CPU utilization is {int(cpu_p95)}%. GPUs on node {node_id} are underutilized, \n",
    "                likely because of CPU bottlenecks.\"\"\"\n",
    "            elif gpu_p50 > 70:\n",
    "                text1 = f\"\"\"{text1}The median total GPU utilization on node {node_id} is {int(gpu_p50)}%. \n",
    "                GPUs on node {node_id} are well utilized.\"\"\"\n",
    "            else:\n",
    "                text1 = f\"\"\"{text1}The median total GPU utilization on node {node_id} is {int(gpu_p50)}%. \n",
    "                The median total CPU utilization is {int(cpu_p50)}%.\"\"\"\n",
    "    else:\n",
    "        for node_id in report[\"Details\"][\"CPU\"]:\n",
    "            cpu_p95 = report[\"Details\"][\"CPU\"][node_id][\"p95\"]\n",
    "            if cpu_p95 > 70:\n",
    "                text1 = f\"\"\"{text1}The 95th percentile of the total CPU utilization on node {node_id} is {int**(cpu_p95)}%. CPUs on node {node_id} are well utilized.\"\"\"\n",
    "    text1 = Paragraph(text=f\"\"\"{text1}\"\"\", width=1100)\n",
    "    text2 = Paragraph(text=f\"\"\"The following table shows statistics of resource utilization per worker (node), \n",
    "    such as the total CPU and GPU utilization, and the memory utilization on CPU and GPU. \n",
    "    The table also includes the total I/O wait time and the total amount of data sent or received in bytes.\n",
    "    The table shows min and max values as well as p99, p90 and p50 percentiles.\"\"\", width=900)\n"
   ]
  },
  {
   "cell_type": "code",
   "execution_count": 13,
   "metadata": {
    "execution": {
     "iopub.execute_input": "2021-12-03T21:44:34.373373Z",
     "iopub.status.busy": "2021-12-03T21:44:34.372124Z",
     "iopub.status.idle": "2021-12-03T21:44:34.392258Z",
     "shell.execute_reply": "2021-12-03T21:44:34.392629Z"
    },
    "papermill": {
     "duration": 0.047879,
     "end_time": "2021-12-03T21:44:34.392760",
     "exception": false,
     "start_time": "2021-12-03T21:44:34.344881",
     "status": "completed"
    },
    "tags": [
     "hide-input"
    ]
   },
   "outputs": [
    {
     "data": {
      "text/html": [
       "\n",
       "\n",
       "\n",
       "\n",
       "\n",
       "\n",
       "  <div class=\"bk-root\" id=\"0a2e849b-4965-41f9-95cc-f2400ec9979e\" data-root-id=\"1145\"></div>\n"
      ]
     },
     "metadata": {},
     "output_type": "display_data"
    },
    {
     "data": {
      "application/javascript": [
       "(function(root) {\n",
       "  function embed_document(root) {\n",
       "    \n",
       "  var docs_json = {\"ef6498b5-261c-4bc4-8d51-fa1f72560ce1\":{\"roots\":{\"references\":[{\"attributes\":{\"children\":[{\"id\":\"1131\"},{\"id\":\"1132\"},{\"id\":\"1144\"}]},\"id\":\"1145\",\"type\":\"Column\"},{\"attributes\":{},\"id\":\"1171\",\"type\":\"StringEditor\"},{\"attributes\":{\"source\":{\"id\":\"1133\"}},\"id\":\"1143\",\"type\":\"CDSView\"},{\"attributes\":{},\"id\":\"1172\",\"type\":\"StringFormatter\"},{\"attributes\":{},\"id\":\"1169\",\"type\":\"StringEditor\"},{\"attributes\":{},\"id\":\"1173\",\"type\":\"StringEditor\"},{\"attributes\":{\"editor\":{\"id\":\"1173\"},\"field\":\"p50\",\"formatter\":{\"id\":\"1174\"},\"title\":\"p50\"},\"id\":\"1140\",\"type\":\"TableColumn\"},{\"attributes\":{},\"id\":\"1164\",\"type\":\"StringFormatter\"},{\"attributes\":{},\"id\":\"1159\",\"type\":\"UnionRenderers\"},{\"attributes\":{},\"id\":\"1174\",\"type\":\"StringFormatter\"},{\"attributes\":{\"text\":\"The 95th percentile of the total GPU utilization on node algo-1 is only 0%. \\n                However, the 95th percentile of the total CPU utilization is 77%. GPUs on node algo-1 are underutilized, \\n                likely because of CPU bottlenecks.\",\"width\":1100},\"id\":\"1131\",\"type\":\"Paragraph\"},{\"attributes\":{},\"id\":\"1163\",\"type\":\"StringEditor\"},{\"attributes\":{\"columns\":[{\"id\":\"1134\"},{\"id\":\"1135\"},{\"id\":\"1136\"},{\"id\":\"1137\"},{\"id\":\"1138\"},{\"id\":\"1139\"},{\"id\":\"1140\"},{\"id\":\"1141\"}],\"height\":180,\"source\":{\"id\":\"1133\"},\"view\":{\"id\":\"1143\"},\"width\":800},\"id\":\"1142\",\"type\":\"DataTable\"},{\"attributes\":{},\"id\":\"1160\",\"type\":\"Selection\"},{\"attributes\":{},\"id\":\"1170\",\"type\":\"StringFormatter\"},{\"attributes\":{},\"id\":\"1165\",\"type\":\"StringEditor\"},{\"attributes\":{\"editor\":{\"id\":\"1169\"},\"field\":\"p99\",\"formatter\":{\"id\":\"1170\"},\"title\":\"p99\"},\"id\":\"1138\",\"type\":\"TableColumn\"},{\"attributes\":{\"data\":{\"Node\":[\"algo-1\",\"algo-1\",\"algo-1\",\"algo-1\",\"algo-1\",\"algo-1\"],\"index\":[0,1,2,3,4,5],\"level_0\":[0,1,2,3,4,5],\"max\":{\"__ndarray__\":\"AAAAAAAAAAAAAAAAAAAAAAAAAAAAAFlAuB6F61G4MkAAAAAAAAAAAAAAAAAA4FhA\",\"dtype\":\"float64\",\"order\":\"little\",\"shape\":[6]},\"metric\":[\"Network\",\"GPU\",\"CPU\",\"CPU memory\",\"GPU memory\",\"I/O\"],\"min\":{\"__ndarray__\":\"AAAAAAAAAAAAAAAAAAAAAAAAAAAAAAAArkfhehSuG0AAAAAAAAAAAAAAAAAAAAAA\",\"dtype\":\"float64\",\"order\":\"little\",\"shape\":[6]},\"p50\":{\"__ndarray__\":\"AAAAAAAAAAAAAAAAAAAAAOF6FK5HwUlAKVyPwvUoL0AAAAAAAAAAAAAAAAAAAAAA\",\"dtype\":\"float64\",\"order\":\"little\",\"shape\":[6]},\"p95\":{\"__ndarray__\":\"AAAAAAAAAAAAAAAAAAAAAOF6FK5HcVNApHA9CtejMUAAAAAAAAAAAArXo3A9CjdA\",\"dtype\":\"float64\",\"order\":\"little\",\"shape\":[6]},\"p99\":{\"__ndarray__\":\"AAAAAAAAAAAAAAAAAAAAAEjhehSu51VASOF6FK5HMkAAAAAAAAAAAOF6FK5HAVJA\",\"dtype\":\"float64\",\"order\":\"little\",\"shape\":[6]},\"unit\":[\"bytes\",\"percentage\",\"percentage\",\"percentage\",\"percentage\",\"percentage\"]},\"selected\":{\"id\":\"1160\"},\"selection_policy\":{\"id\":\"1159\"}},\"id\":\"1133\",\"type\":\"ColumnDataSource\"},{\"attributes\":{},\"id\":\"1167\",\"type\":\"StringEditor\"},{\"attributes\":{\"editor\":{\"id\":\"1171\"},\"field\":\"p95\",\"formatter\":{\"id\":\"1172\"},\"title\":\"p95\"},\"id\":\"1139\",\"type\":\"TableColumn\"},{\"attributes\":{},\"id\":\"1166\",\"type\":\"StringFormatter\"},{\"attributes\":{\"editor\":{\"id\":\"1165\"},\"field\":\"unit\",\"formatter\":{\"id\":\"1166\"},\"title\":\"unit\"},\"id\":\"1136\",\"type\":\"TableColumn\"},{\"attributes\":{\"editor\":{\"id\":\"1175\"},\"field\":\"min\",\"formatter\":{\"id\":\"1176\"},\"title\":\"min\"},\"id\":\"1141\",\"type\":\"TableColumn\"},{\"attributes\":{},\"id\":\"1168\",\"type\":\"StringFormatter\"},{\"attributes\":{},\"id\":\"1176\",\"type\":\"StringFormatter\"},{\"attributes\":{\"children\":[{\"id\":\"1142\"}]},\"id\":\"1144\",\"type\":\"Row\"},{\"attributes\":{\"editor\":{\"id\":\"1167\"},\"field\":\"max\",\"formatter\":{\"id\":\"1168\"},\"title\":\"max\"},\"id\":\"1137\",\"type\":\"TableColumn\"},{\"attributes\":{\"text\":\"The following table shows statistics of resource utilization per worker (node), \\n    such as the total CPU and GPU utilization, and the memory utilization on CPU and GPU. \\n    The table also includes the total I/O wait time and the total amount of data sent or received in bytes.\\n    The table shows min and max values as well as p99, p90 and p50 percentiles.\",\"width\":900},\"id\":\"1132\",\"type\":\"Paragraph\"},{\"attributes\":{\"editor\":{\"id\":\"1163\"},\"field\":\"metric\",\"formatter\":{\"id\":\"1164\"},\"title\":\"metric\"},\"id\":\"1135\",\"type\":\"TableColumn\"},{\"attributes\":{},\"id\":\"1175\",\"type\":\"StringEditor\"},{\"attributes\":{\"editor\":{\"id\":\"1161\"},\"field\":\"Node\",\"formatter\":{\"id\":\"1162\"},\"title\":\"node\"},\"id\":\"1134\",\"type\":\"TableColumn\"},{\"attributes\":{},\"id\":\"1162\",\"type\":\"StringFormatter\"},{\"attributes\":{},\"id\":\"1161\",\"type\":\"StringEditor\"}],\"root_ids\":[\"1145\"]},\"title\":\"Bokeh Application\",\"version\":\"2.2.3\"}};\n",
       "  var render_items = [{\"docid\":\"ef6498b5-261c-4bc4-8d51-fa1f72560ce1\",\"root_ids\":[\"1145\"],\"roots\":{\"1145\":\"0a2e849b-4965-41f9-95cc-f2400ec9979e\"}}];\n",
       "  root.Bokeh.embed.embed_items_notebook(docs_json, render_items);\n",
       "\n",
       "  }\n",
       "  if (root.Bokeh !== undefined) {\n",
       "    embed_document(root);\n",
       "  } else {\n",
       "    var attempts = 0;\n",
       "    var timer = setInterval(function(root) {\n",
       "      if (root.Bokeh !== undefined) {\n",
       "        clearInterval(timer);\n",
       "        embed_document(root);\n",
       "      } else {\n",
       "        attempts++;\n",
       "        if (attempts > 100) {\n",
       "          clearInterval(timer);\n",
       "          console.log(\"Bokeh: ERROR: Unable to run BokehJS code because BokehJS library is missing\");\n",
       "        }\n",
       "      }\n",
       "    }, 10, root)\n",
       "  }\n",
       "})(window);"
      ],
      "application/vnd.bokehjs_exec.v0+json": ""
     },
     "metadata": {
      "application/vnd.bokehjs_exec.v0+json": {
       "id": "1145"
      }
     },
     "output_type": "display_data"
    }
   ],
   "source": [
    "pd.set_option('display.float_format', lambda x: '%.2f' % x)\n",
    "rows = [] \n",
    "units = {\"CPU\": \"percentage\", \"CPU memory\": \"percentage\", \"GPU\": \"percentage\", \"Network\": \"bytes\", \"GPU memory\": \"percentage\", \"I/O\": \"percentage\"}\n",
    "if report:\n",
    "    for metric in report['Details']:\n",
    "        for node_id in report['Details'][metric]:\n",
    "            values = report['Details'][metric][node_id]\n",
    "            rows.append([node_id, metric, units[metric], values['max'], values['p99'], values['p95'], values['p50'], values['min']])\n",
    "\n",
    "    df = pd.DataFrame(rows) \n",
    "    df.columns = ['Node', 'metric', 'unit', 'max', 'p99', 'p95', 'p50', 'min']\n",
    "    df2 = df.reset_index()\n",
    "    source = ColumnDataSource(data=df2)\n",
    "    columns = [TableColumn(field='Node', title=\"node\"),\n",
    "               TableColumn(field='metric', title=\"metric\"),\n",
    "               TableColumn(field='unit', title=\"unit\"),\n",
    "               TableColumn(field='max', title=\"max\"),\n",
    "               TableColumn(field='p99', title=\"p99\"),\n",
    "               TableColumn(field='p95', title=\"p95\"),\n",
    "               TableColumn(field='p50', title=\"p50\"),\n",
    "               TableColumn(field='min', title=\"min\"),]\n",
    "    table = DataTable(source=source, columns=columns, width=800, height=df2.shape[0]*30)\n",
    "\n",
    "    show(column( text1, text2, row(table)))"
   ]
  },
  {
   "cell_type": "code",
   "execution_count": 14,
   "metadata": {
    "execution": {
     "iopub.execute_input": "2021-12-03T21:44:34.449653Z",
     "iopub.status.busy": "2021-12-03T21:44:34.446793Z",
     "iopub.status.idle": "2021-12-03T21:44:34.539727Z",
     "shell.execute_reply": "2021-12-03T21:44:34.540101Z"
    },
    "papermill": {
     "duration": 0.128161,
     "end_time": "2021-12-03T21:44:34.540241",
     "exception": false,
     "start_time": "2021-12-03T21:44:34.412080",
     "status": "completed"
    },
    "tags": [
     "hide-input"
    ]
   },
   "outputs": [
    {
     "data": {
      "text/markdown": [
       "## Framework metrics summary"
      ],
      "text/plain": [
       "<IPython.core.display.Markdown object>"
      ]
     },
     "metadata": {},
     "output_type": "display_data"
    },
    {
     "data": {
      "text/html": [
       "\n",
       "\n",
       "\n",
       "\n",
       "\n",
       "\n",
       "  <div class=\"bk-root\" id=\"f4a2d4e7-a936-44ea-ab8d-b2e3a54194c9\" data-root-id=\"1314\"></div>\n"
      ]
     },
     "metadata": {},
     "output_type": "display_data"
    },
    {
     "data": {
      "application/javascript": [
       "(function(root) {\n",
       "  function embed_document(root) {\n",
       "    \n",
       "  var docs_json = {\"a8363dab-aa03-4861-bde8-b45541c2eb8c\":{\"roots\":{\"references\":[{\"attributes\":{\"children\":[{\"id\":\"1312\"},{\"id\":\"1313\"}]},\"id\":\"1314\",\"type\":\"Column\"},{\"attributes\":{},\"id\":\"1288\",\"type\":\"ResetTool\"},{\"attributes\":{\"label\":{\"field\":\"phase\"},\"renderers\":[{\"id\":\"1301\"}]},\"id\":\"1311\",\"type\":\"LegendItem\"},{\"attributes\":{},\"id\":\"1289\",\"type\":\"PanTool\"},{\"attributes\":{\"items\":[{\"id\":\"1311\"}],\"label_text_font_size\":\"8pt\",\"location\":\"center_right\"},\"id\":\"1310\",\"type\":\"Legend\"},{\"attributes\":{\"data_source\":{\"id\":\"1297\"},\"glyph\":{\"id\":\"1299\"},\"hover_glyph\":null,\"muted_glyph\":null,\"nonselection_glyph\":{\"id\":\"1300\"},\"selection_glyph\":null,\"view\":{\"id\":\"1302\"}},\"id\":\"1301\",\"type\":\"GlyphRenderer\"},{\"attributes\":{},\"id\":\"1307\",\"type\":\"BasicTickFormatter\"},{\"attributes\":{\"text\":\"The ratio between the time spent on the TRAIN/EVAL phase and others\"},\"id\":\"1268\",\"type\":\"Title\"},{\"attributes\":{},\"id\":\"1309\",\"type\":\"Selection\"},{\"attributes\":{\"axis_label\":null,\"formatter\":{\"id\":\"1305\"},\"ticker\":{\"id\":\"1279\"},\"visible\":false},\"id\":\"1278\",\"type\":\"LinearAxis\"},{\"attributes\":{},\"id\":\"1283\",\"type\":\"BasicTicker\"},{\"attributes\":{},\"id\":\"1279\",\"type\":\"BasicTicker\"},{\"attributes\":{\"source\":{\"id\":\"1297\"}},\"id\":\"1302\",\"type\":\"CDSView\"},{\"attributes\":{},\"id\":\"1308\",\"type\":\"UnionRenderers\"},{\"attributes\":{\"below\":[{\"id\":\"1278\"}],\"center\":[{\"id\":\"1281\"},{\"id\":\"1285\"},{\"id\":\"1310\"}],\"left\":[{\"id\":\"1282\"}],\"outline_line_color\":\"white\",\"plot_height\":350,\"renderers\":[{\"id\":\"1301\"}],\"title\":{\"id\":\"1268\"},\"toolbar\":{\"id\":\"1290\"},\"x_range\":{\"id\":\"1270\"},\"x_scale\":{\"id\":\"1274\"},\"y_range\":{\"id\":\"1272\"},\"y_scale\":{\"id\":\"1276\"}},\"id\":\"1267\",\"subtype\":\"Figure\",\"type\":\"Plot\"},{\"attributes\":{\"axis\":{\"id\":\"1278\"},\"grid_line_color\":null,\"ticker\":null},\"id\":\"1281\",\"type\":\"Grid\"},{\"attributes\":{},\"id\":\"1276\",\"type\":\"LinearScale\"},{\"attributes\":{\"end_angle\":{\"expr\":{\"id\":\"1296\"},\"units\":\"rad\"},\"fill_color\":{\"field\":\"color\"},\"line_color\":{\"value\":\"white\"},\"radius\":{\"units\":\"data\",\"value\":0.3},\"start_angle\":{\"expr\":{\"id\":\"1295\"},\"units\":\"rad\"},\"x\":{\"value\":0},\"y\":{\"value\":0.0}},\"id\":\"1299\",\"type\":\"Wedge\"},{\"attributes\":{\"axis\":{\"id\":\"1282\"},\"dimension\":1,\"grid_line_color\":null,\"ticker\":null},\"id\":\"1285\",\"type\":\"Grid\"},{\"attributes\":{\"axis_label\":null,\"formatter\":{\"id\":\"1307\"},\"ticker\":{\"id\":\"1283\"},\"visible\":false},\"id\":\"1282\",\"type\":\"LinearAxis\"},{\"attributes\":{\"active_drag\":\"auto\",\"active_inspect\":\"auto\",\"active_multi\":null,\"active_scroll\":\"auto\",\"active_tap\":\"auto\",\"tools\":[{\"id\":\"1286\"},{\"id\":\"1287\"},{\"id\":\"1288\"},{\"id\":\"1289\"}]},\"id\":\"1290\",\"type\":\"Toolbar\"},{\"attributes\":{\"text\":\"The following two pie charts show the time spent on the TRAIN phase, the EVAL phase, \\n            and others. The 'others' includes the time spent between steps (after one step has finished and before\\n            the next step has started). Ideally, most of the training time should be spent on the \\n            TRAIN and EVAL phases. If TRAIN/EVAL were not specified in the training script, steps will be recorded as \\n            GLOBAL.\",\"width\":1100},\"id\":\"1312\",\"type\":\"Paragraph\"},{\"attributes\":{\"children\":[{\"id\":\"1267\"}]},\"id\":\"1313\",\"type\":\"Row\"},{\"attributes\":{},\"id\":\"1274\",\"type\":\"LinearScale\"},{\"attributes\":{\"field\":\"angle\"},\"id\":\"1296\",\"type\":\"CumSum\"},{\"attributes\":{},\"id\":\"1305\",\"type\":\"BasicTickFormatter\"},{\"attributes\":{},\"id\":\"1272\",\"type\":\"DataRange1d\"},{\"attributes\":{\"callback\":null,\"tooltips\":\"@phase:@value\"},\"id\":\"1286\",\"type\":\"HoverTool\"},{\"attributes\":{\"data\":{\"angle\":{\"__ndarray__\":\"+5fPCFRBGUA342qLtFifvw==\",\"dtype\":\"float64\",\"order\":\"little\",\"shape\":[2]},\"color\":[\"#440154\",\"#FDE724\"],\"index\":[0,1],\"phase\":[\"Step:ModeKeys.GLOBAL\",\"others\"],\"value\":{\"__ndarray__\":\"tZRpUi4fWUDetJRpUi7fvw==\",\"dtype\":\"float64\",\"order\":\"little\",\"shape\":[2]}},\"selected\":{\"id\":\"1309\"},\"selection_policy\":{\"id\":\"1308\"}},\"id\":\"1297\",\"type\":\"ColumnDataSource\"},{\"attributes\":{\"end_angle\":{\"expr\":{\"id\":\"1296\"},\"units\":\"rad\"},\"fill_alpha\":{\"value\":0.1},\"fill_color\":{\"field\":\"color\"},\"line_alpha\":{\"value\":0.1},\"line_color\":{\"value\":\"white\"},\"radius\":{\"units\":\"data\",\"value\":0.3},\"start_angle\":{\"expr\":{\"id\":\"1295\"},\"units\":\"rad\"},\"x\":{\"value\":0},\"y\":{\"value\":0.0}},\"id\":\"1300\",\"type\":\"Wedge\"},{\"attributes\":{\"field\":\"angle\",\"include_zero\":true},\"id\":\"1295\",\"type\":\"CumSum\"},{\"attributes\":{},\"id\":\"1287\",\"type\":\"WheelZoomTool\"},{\"attributes\":{\"end\":0.8999999999999999,\"start\":-0.5},\"id\":\"1270\",\"type\":\"Range1d\"}],\"root_ids\":[\"1314\"]},\"title\":\"Bokeh Application\",\"version\":\"2.2.3\"}};\n",
       "  var render_items = [{\"docid\":\"a8363dab-aa03-4861-bde8-b45541c2eb8c\",\"root_ids\":[\"1314\"],\"roots\":{\"1314\":\"f4a2d4e7-a936-44ea-ab8d-b2e3a54194c9\"}}];\n",
       "  root.Bokeh.embed.embed_items_notebook(docs_json, render_items);\n",
       "\n",
       "  }\n",
       "  if (root.Bokeh !== undefined) {\n",
       "    embed_document(root);\n",
       "  } else {\n",
       "    var attempts = 0;\n",
       "    var timer = setInterval(function(root) {\n",
       "      if (root.Bokeh !== undefined) {\n",
       "        clearInterval(timer);\n",
       "        embed_document(root);\n",
       "      } else {\n",
       "        attempts++;\n",
       "        if (attempts > 100) {\n",
       "          clearInterval(timer);\n",
       "          console.log(\"Bokeh: ERROR: Unable to run BokehJS code because BokehJS library is missing\");\n",
       "        }\n",
       "      }\n",
       "    }, 10, root)\n",
       "  }\n",
       "})(window);"
      ],
      "application/vnd.bokehjs_exec.v0+json": ""
     },
     "metadata": {
      "application/vnd.bokehjs_exec.v0+json": {
       "id": "1314"
      }
     },
     "output_type": "display_data"
    },
    {
     "data": {
      "text/html": [
       "\n",
       "\n",
       "\n",
       "\n",
       "\n",
       "\n",
       "  <div class=\"bk-root\" id=\"e51c6ba8-cbf2-45b6-af9e-e6772142b24c\" data-root-id=\"1480\"></div>\n"
      ]
     },
     "metadata": {},
     "output_type": "display_data"
    },
    {
     "data": {
      "application/javascript": [
       "(function(root) {\n",
       "  function embed_document(root) {\n",
       "    \n",
       "  var docs_json = {\"c53d4821-c02b-4dad-84d3-f13ff912e7b3\":{\"roots\":{\"references\":[{\"attributes\":{\"children\":[{\"id\":\"1478\"},{\"id\":\"1479\"}]},\"id\":\"1480\",\"type\":\"Column\"},{\"attributes\":{\"items\":[{\"id\":\"1432\"}],\"label_text_font_size\":\"8pt\",\"location\":\"center_right\"},\"id\":\"1431\",\"type\":\"Legend\"},{\"attributes\":{\"end\":0.8999999999999999,\"start\":-0.5},\"id\":\"1391\",\"type\":\"Range1d\"},{\"attributes\":{\"field\":\"angle\"},\"id\":\"1417\",\"type\":\"CumSum\"},{\"attributes\":{\"data_source\":{\"id\":\"1418\"},\"glyph\":{\"id\":\"1420\"},\"hover_glyph\":null,\"muted_glyph\":null,\"nonselection_glyph\":{\"id\":\"1421\"},\"selection_glyph\":null,\"view\":{\"id\":\"1423\"}},\"id\":\"1422\",\"type\":\"GlyphRenderer\"},{\"attributes\":{\"axis\":{\"id\":\"1448\"},\"dimension\":1,\"grid_line_color\":null,\"ticker\":null},\"id\":\"1451\",\"type\":\"Grid\"},{\"attributes\":{\"axis_label\":null,\"formatter\":{\"id\":\"1426\"},\"ticker\":{\"id\":\"1400\"},\"visible\":false},\"id\":\"1399\",\"type\":\"LinearAxis\"},{\"attributes\":{\"data\":{\"angle\":{\"__ndarray__\":\"GC1EVPshGUA=\",\"dtype\":\"float64\",\"order\":\"little\",\"shape\":[1]},\"color\":[\"#440154\"],\"index\":[0],\"phase\":[\"cpu_functions\"],\"value\":{\"__ndarray__\":\"AAAAAAAAWUA=\",\"dtype\":\"float64\",\"order\":\"little\",\"shape\":[1]}},\"selected\":{\"id\":\"1430\"},\"selection_policy\":{\"id\":\"1429\"}},\"id\":\"1418\",\"type\":\"ColumnDataSource\"},{\"attributes\":{},\"id\":\"1430\",\"type\":\"Selection\"},{\"attributes\":{},\"id\":\"1397\",\"type\":\"LinearScale\"},{\"attributes\":{\"end_angle\":{\"expr\":{\"id\":\"1462\"},\"units\":\"rad\"},\"fill_color\":{\"field\":\"color\"},\"line_color\":{\"value\":\"white\"},\"radius\":{\"units\":\"data\",\"value\":0.3},\"start_angle\":{\"expr\":{\"id\":\"1461\"},\"units\":\"rad\"},\"x\":{\"value\":0},\"y\":{\"value\":0.0}},\"id\":\"1465\",\"type\":\"Wedge\"},{\"attributes\":{},\"id\":\"1449\",\"type\":\"BasicTicker\"},{\"attributes\":{\"active_drag\":\"auto\",\"active_inspect\":\"auto\",\"active_multi\":null,\"active_scroll\":\"auto\",\"active_tap\":\"auto\",\"tools\":[{\"id\":\"1452\"},{\"id\":\"1453\"},{\"id\":\"1454\"},{\"id\":\"1455\"}]},\"id\":\"1456\",\"type\":\"Toolbar\"},{\"attributes\":{},\"id\":\"1442\",\"type\":\"LinearScale\"},{\"attributes\":{},\"id\":\"1410\",\"type\":\"PanTool\"},{\"attributes\":{},\"id\":\"1429\",\"type\":\"UnionRenderers\"},{\"attributes\":{\"axis_label\":null,\"formatter\":{\"id\":\"1471\"},\"ticker\":{\"id\":\"1445\"},\"visible\":false},\"id\":\"1444\",\"type\":\"LinearAxis\"},{\"attributes\":{},\"id\":\"1393\",\"type\":\"DataRange1d\"},{\"attributes\":{\"text\":\"The following piechart shows a breakdown of the CPU/GPU operators. \\n                It shows that 100% of training time was spent on executing the \\\"cpu_functions\\\" operator.\",\"width\":1100},\"id\":\"1478\",\"type\":\"Paragraph\"},{\"attributes\":{\"end_angle\":{\"expr\":{\"id\":\"1417\"},\"units\":\"rad\"},\"fill_alpha\":{\"value\":0.1},\"fill_color\":{\"field\":\"color\"},\"line_alpha\":{\"value\":0.1},\"line_color\":{\"value\":\"white\"},\"radius\":{\"units\":\"data\",\"value\":0.3},\"start_angle\":{\"expr\":{\"id\":\"1416\"},\"units\":\"rad\"},\"x\":{\"value\":0},\"y\":{\"value\":0.0}},\"id\":\"1421\",\"type\":\"Wedge\"},{\"attributes\":{\"end_angle\":{\"expr\":{\"id\":\"1417\"},\"units\":\"rad\"},\"fill_color\":{\"field\":\"color\"},\"line_color\":{\"value\":\"white\"},\"radius\":{\"units\":\"data\",\"value\":0.3},\"start_angle\":{\"expr\":{\"id\":\"1416\"},\"units\":\"rad\"},\"x\":{\"value\":0},\"y\":{\"value\":0.0}},\"id\":\"1420\",\"type\":\"Wedge\"},{\"attributes\":{\"axis\":{\"id\":\"1403\"},\"dimension\":1,\"grid_line_color\":null,\"ticker\":null},\"id\":\"1406\",\"type\":\"Grid\"},{\"attributes\":{\"items\":[{\"id\":\"1477\"}],\"label_text_font_size\":\"8pt\",\"location\":\"center_right\"},\"id\":\"1476\",\"type\":\"Legend\"},{\"attributes\":{\"data\":{\"angle\":{\"__ndarray__\":\"yKr4Lcj7ej85sTfMQP1rP/gnH7q8FxlA\",\"dtype\":\"float64\",\"order\":\"little\",\"shape\":[3]},\"color\":[\"#440154\",\"#208F8C\",\"#FDE724\"],\"index\":[0,1,2],\"phase\":[\"DataLoaderIterInitialize\",\"DataLoaderIter\",\"Forward\"],\"value\":{\"__ndarray__\":\"syq6OkzXuj96tBy5aNerP94t2j/P9VhA\",\"dtype\":\"float64\",\"order\":\"little\",\"shape\":[3]}},\"selected\":{\"id\":\"1475\"},\"selection_policy\":{\"id\":\"1474\"}},\"id\":\"1463\",\"type\":\"ColumnDataSource\"},{\"attributes\":{\"axis_label\":null,\"formatter\":{\"id\":\"1428\"},\"ticker\":{\"id\":\"1404\"},\"visible\":false},\"id\":\"1403\",\"type\":\"LinearAxis\"},{\"attributes\":{},\"id\":\"1404\",\"type\":\"BasicTicker\"},{\"attributes\":{\"callback\":null,\"tooltips\":\"@phase:@value\"},\"id\":\"1452\",\"type\":\"HoverTool\"},{\"attributes\":{\"axis\":{\"id\":\"1399\"},\"grid_line_color\":null,\"ticker\":null},\"id\":\"1402\",\"type\":\"Grid\"},{\"attributes\":{},\"id\":\"1438\",\"type\":\"DataRange1d\"},{\"attributes\":{\"axis\":{\"id\":\"1444\"},\"grid_line_color\":null,\"ticker\":null},\"id\":\"1447\",\"type\":\"Grid\"},{\"attributes\":{\"field\":\"angle\"},\"id\":\"1462\",\"type\":\"CumSum\"},{\"attributes\":{\"children\":[{\"id\":\"1388\"},{\"id\":\"1433\"}]},\"id\":\"1479\",\"type\":\"Row\"},{\"attributes\":{},\"id\":\"1400\",\"type\":\"BasicTicker\"},{\"attributes\":{},\"id\":\"1453\",\"type\":\"WheelZoomTool\"},{\"attributes\":{},\"id\":\"1445\",\"type\":\"BasicTicker\"},{\"attributes\":{},\"id\":\"1471\",\"type\":\"BasicTickFormatter\"},{\"attributes\":{},\"id\":\"1454\",\"type\":\"ResetTool\"},{\"attributes\":{\"field\":\"angle\",\"include_zero\":true},\"id\":\"1461\",\"type\":\"CumSum\"},{\"attributes\":{},\"id\":\"1455\",\"type\":\"PanTool\"},{\"attributes\":{\"active_drag\":\"auto\",\"active_inspect\":\"auto\",\"active_multi\":null,\"active_scroll\":\"auto\",\"active_tap\":\"auto\",\"tools\":[{\"id\":\"1407\"},{\"id\":\"1408\"},{\"id\":\"1409\"},{\"id\":\"1410\"}]},\"id\":\"1411\",\"type\":\"Toolbar\"},{\"attributes\":{\"end\":0.8999999999999999,\"start\":-0.5},\"id\":\"1436\",\"type\":\"Range1d\"},{\"attributes\":{\"source\":{\"id\":\"1418\"}},\"id\":\"1423\",\"type\":\"CDSView\"},{\"attributes\":{\"end_angle\":{\"expr\":{\"id\":\"1462\"},\"units\":\"rad\"},\"fill_alpha\":{\"value\":0.1},\"fill_color\":{\"field\":\"color\"},\"line_alpha\":{\"value\":0.1},\"line_color\":{\"value\":\"white\"},\"radius\":{\"units\":\"data\",\"value\":0.3},\"start_angle\":{\"expr\":{\"id\":\"1461\"},\"units\":\"rad\"},\"x\":{\"value\":0},\"y\":{\"value\":0.0}},\"id\":\"1466\",\"type\":\"Wedge\"},{\"attributes\":{\"text\":\"General framework operations\"},\"id\":\"1434\",\"type\":\"Title\"},{\"attributes\":{},\"id\":\"1474\",\"type\":\"UnionRenderers\"},{\"attributes\":{\"callback\":null,\"tooltips\":\"@phase:@value\"},\"id\":\"1407\",\"type\":\"HoverTool\"},{\"attributes\":{\"text\":\"The ratio between the time spent on CPU/GPU operators\"},\"id\":\"1389\",\"type\":\"Title\"},{\"attributes\":{},\"id\":\"1428\",\"type\":\"BasicTickFormatter\"},{\"attributes\":{\"data_source\":{\"id\":\"1463\"},\"glyph\":{\"id\":\"1465\"},\"hover_glyph\":null,\"muted_glyph\":null,\"nonselection_glyph\":{\"id\":\"1466\"},\"selection_glyph\":null,\"view\":{\"id\":\"1468\"}},\"id\":\"1467\",\"type\":\"GlyphRenderer\"},{\"attributes\":{},\"id\":\"1426\",\"type\":\"BasicTickFormatter\"},{\"attributes\":{\"below\":[{\"id\":\"1444\"}],\"center\":[{\"id\":\"1447\"},{\"id\":\"1451\"},{\"id\":\"1476\"}],\"left\":[{\"id\":\"1448\"}],\"outline_line_color\":\"white\",\"plot_height\":350,\"renderers\":[{\"id\":\"1467\"}],\"title\":{\"id\":\"1434\"},\"toolbar\":{\"id\":\"1456\"},\"x_range\":{\"id\":\"1436\"},\"x_scale\":{\"id\":\"1440\"},\"y_range\":{\"id\":\"1438\"},\"y_scale\":{\"id\":\"1442\"}},\"id\":\"1433\",\"subtype\":\"Figure\",\"type\":\"Plot\"},{\"attributes\":{},\"id\":\"1408\",\"type\":\"WheelZoomTool\"},{\"attributes\":{},\"id\":\"1475\",\"type\":\"Selection\"},{\"attributes\":{},\"id\":\"1395\",\"type\":\"LinearScale\"},{\"attributes\":{\"field\":\"angle\",\"include_zero\":true},\"id\":\"1416\",\"type\":\"CumSum\"},{\"attributes\":{\"label\":{\"field\":\"phase\"},\"renderers\":[{\"id\":\"1422\"}]},\"id\":\"1432\",\"type\":\"LegendItem\"},{\"attributes\":{\"source\":{\"id\":\"1463\"}},\"id\":\"1468\",\"type\":\"CDSView\"},{\"attributes\":{\"below\":[{\"id\":\"1399\"}],\"center\":[{\"id\":\"1402\"},{\"id\":\"1406\"},{\"id\":\"1431\"}],\"left\":[{\"id\":\"1403\"}],\"outline_line_color\":\"white\",\"plot_height\":350,\"renderers\":[{\"id\":\"1422\"}],\"title\":{\"id\":\"1389\"},\"toolbar\":{\"id\":\"1411\"},\"x_range\":{\"id\":\"1391\"},\"x_scale\":{\"id\":\"1395\"},\"y_range\":{\"id\":\"1393\"},\"y_scale\":{\"id\":\"1397\"}},\"id\":\"1388\",\"subtype\":\"Figure\",\"type\":\"Plot\"},{\"attributes\":{},\"id\":\"1409\",\"type\":\"ResetTool\"},{\"attributes\":{},\"id\":\"1473\",\"type\":\"BasicTickFormatter\"},{\"attributes\":{\"label\":{\"field\":\"phase\"},\"renderers\":[{\"id\":\"1467\"}]},\"id\":\"1477\",\"type\":\"LegendItem\"},{\"attributes\":{\"axis_label\":null,\"formatter\":{\"id\":\"1473\"},\"ticker\":{\"id\":\"1449\"},\"visible\":false},\"id\":\"1448\",\"type\":\"LinearAxis\"},{\"attributes\":{},\"id\":\"1440\",\"type\":\"LinearScale\"}],\"root_ids\":[\"1480\"]},\"title\":\"Bokeh Application\",\"version\":\"2.2.3\"}};\n",
       "  var render_items = [{\"docid\":\"c53d4821-c02b-4dad-84d3-f13ff912e7b3\",\"root_ids\":[\"1480\"],\"roots\":{\"1480\":\"e51c6ba8-cbf2-45b6-af9e-e6772142b24c\"}}];\n",
       "  root.Bokeh.embed.embed_items_notebook(docs_json, render_items);\n",
       "\n",
       "  }\n",
       "  if (root.Bokeh !== undefined) {\n",
       "    embed_document(root);\n",
       "  } else {\n",
       "    var attempts = 0;\n",
       "    var timer = setInterval(function(root) {\n",
       "      if (root.Bokeh !== undefined) {\n",
       "        clearInterval(timer);\n",
       "        embed_document(root);\n",
       "      } else {\n",
       "        attempts++;\n",
       "        if (attempts > 100) {\n",
       "          clearInterval(timer);\n",
       "          console.log(\"Bokeh: ERROR: Unable to run BokehJS code because BokehJS library is missing\");\n",
       "        }\n",
       "      }\n",
       "    }, 10, root)\n",
       "  }\n",
       "})(window);"
      ],
      "application/vnd.bokehjs_exec.v0+json": ""
     },
     "metadata": {
      "application/vnd.bokehjs_exec.v0+json": {
       "id": "1480"
      }
     },
     "output_type": "display_data"
    }
   ],
   "source": [
    "report = load_report('OverallFrameworkMetrics')\n",
    "if report:\n",
    "    if 'Details' in report:\n",
    "\n",
    "        display(Markdown(f\"\"\"## Framework metrics summary\"\"\"))\n",
    "        plots = []\n",
    "        text = ''\n",
    "        if 'phase' in report['Details']:\n",
    "            text = f\"\"\"The following two pie charts show the time spent on the TRAIN phase, the EVAL phase, \n",
    "            and others. The 'others' includes the time spent between steps (after one step has finished and before\n",
    "            the next step has started). Ideally, most of the training time should be spent on the \n",
    "            TRAIN and EVAL phases. If TRAIN/EVAL were not specified in the training script, steps will be recorded as \n",
    "            GLOBAL.\"\"\"\n",
    "\n",
    "            if 'others' in report['Details']['phase']:\n",
    "                others = float(report['Details']['phase']['others'])\n",
    "\n",
    "                if others > 25:\n",
    "                    text = f\"\"\"{text} Your training job spent quite a significant amount of time ({round(others,2)}%) in phase \"others\".\n",
    "                    You should check what is happening in between the steps.\"\"\"\n",
    "\n",
    "                plot = create_piechart(report['Details']['phase'], \n",
    "                                    height=350,\n",
    "                                    width=600,\n",
    "                                    x1=0.2,\n",
    "                                    x2=0.6,\n",
    "                                    radius=0.3, \n",
    "                                    title=\"The ratio between the time spent on the TRAIN/EVAL phase and others\")\n",
    "                plots.append(plot)\n",
    "\n",
    "        if 'forward_backward' in report['Details']:\n",
    "\n",
    "            event = max(report['Details']['forward_backward'], key=report['Details']['forward_backward'].get)\n",
    "            perc = report['Details']['forward_backward'][event]\n",
    "\n",
    "            text = f\"\"\"{text} The pie chart on the right shows a more detailed breakdown. \n",
    "            It shows that {int(perc)}% of the time was spent in event \"{event}\".\"\"\"\n",
    "\n",
    "            if perc > 70:\n",
    "                text = f\"\"\"There is quite a significant difference between the time spent on forward and backward\n",
    "                pass.\"\"\"\n",
    "            else:\n",
    "                text = f\"\"\"{text} It shows that {int(perc)}% of the training time\n",
    "                was spent on \"{event}\".\"\"\"\n",
    "\n",
    "            plot = create_piechart(report['Details']['forward_backward'], \n",
    "                                height=350,\n",
    "                                width=600,\n",
    "                                x1=0.2,\n",
    "                                x2=0.6,\n",
    "                                radius=0.3, \n",
    "                                title=\"The ratio between forward and backward pass\") \n",
    "            plots.append(plot)\n",
    "\n",
    "        if len(plots) > 0:\n",
    "            paragraph = Paragraph(text=text, width=1100)\n",
    "            show(column(paragraph, row(plots)))\n",
    "\n",
    "        plots = []\n",
    "        text=''\n",
    "        if 'ratio' in report['Details'] and len(report['Details']['ratio']) > 0:\n",
    "\n",
    "            key = list(report['Details']['ratio'].keys())[0]\n",
    "            ratio = report['Details']['ratio'][key]\n",
    "\n",
    "            text = f\"\"\"The following piechart shows a breakdown of the CPU/GPU operators. \n",
    "                It shows that {int(ratio)}% of training time was spent on executing the \"{key}\" operator.\"\"\"\n",
    "\n",
    "            plot = create_piechart(report['Details']['ratio'], \n",
    "                                    height=350,\n",
    "                                    width=600,\n",
    "                                    x1=0.2,\n",
    "                                    x2=0.6,\n",
    "                                    radius=0.3, \n",
    "                                    title=\"The ratio between the time spent on CPU/GPU operators\")\n",
    "            plots.append(plot)\n",
    "\n",
    "\n",
    "        if 'general' in report['Details']:\n",
    "            event = max(report['Details']['general'], key=report['Details']['general'].get)\n",
    "            perc = report['Details']['general'][event]\n",
    "\n",
    "            plot = create_piechart(report['Details']['general'], \n",
    "                                height=350,\n",
    "                                width=600,\n",
    "                                x1=0.2,\n",
    "                                x2=0.6,\n",
    "                                radius=0.3, \n",
    "                                title=\"General framework operations\")\n",
    "            plots.append(plot)\n",
    "\n",
    "        if len(plots) > 0:\n",
    "            paragraph = Paragraph(text=text, width=1100)\n",
    "            show(column(paragraph, row(plots)))\n",
    "\n",
    "        plots = []\n",
    "        text = ''\n",
    "        if 'horovod' in report['Details']:\n",
    "            display(Markdown(f\"\"\"#### Overview: Horovod metrics\"\"\"))\n",
    "            event = max(report['Details']['horovod'], key=report['Details']['horovod'].get)\n",
    "            perc = report['Details']['horovod'][event]\n",
    "            text = f\"\"\"{text} The following pie chart shows a detailed breakdown of the Horovod metrics profiled\n",
    "            from your training job. The most expensive function was \"{event}\" with {int(perc)}%.\"\"\"\n",
    "\n",
    "            plot = create_piechart(report['Details']['horovod'], \n",
    "                                height=350,\n",
    "                                width=600,\n",
    "                                x1=0.2,\n",
    "                                x2=0.6,\n",
    "                                radius=0.3, \n",
    "                                title=\"Horovod metrics \")\n",
    "\n",
    "            paragraph = Paragraph(text=text, width=1100)\n",
    "            show(column(paragraph, row(plot)))\n"
   ]
  },
  {
   "cell_type": "code",
   "execution_count": 15,
   "metadata": {
    "execution": {
     "iopub.execute_input": "2021-12-03T21:44:34.591430Z",
     "iopub.status.busy": "2021-12-03T21:44:34.590901Z",
     "iopub.status.idle": "2021-12-03T21:44:34.638266Z",
     "shell.execute_reply": "2021-12-03T21:44:34.638648Z"
    },
    "papermill": {
     "duration": 0.077575,
     "end_time": "2021-12-03T21:44:34.638789",
     "exception": false,
     "start_time": "2021-12-03T21:44:34.561214",
     "status": "completed"
    },
    "tags": [
     "hide-input"
    ]
   },
   "outputs": [
    {
     "data": {
      "text/markdown": [
       "#### Overview: CPU operators"
      ],
      "text/plain": [
       "<IPython.core.display.Markdown object>"
      ]
     },
     "metadata": {},
     "output_type": "display_data"
    },
    {
     "data": {
      "text/html": [
       "\n",
       "\n",
       "\n",
       "\n",
       "\n",
       "\n",
       "  <div class=\"bk-root\" id=\"7b1ac4aa-179f-426e-87e3-8106ab6bcdaf\" data-root-id=\"1655\"></div>\n"
      ]
     },
     "metadata": {},
     "output_type": "display_data"
    },
    {
     "data": {
      "application/javascript": [
       "(function(root) {\n",
       "  function embed_document(root) {\n",
       "    \n",
       "  var docs_json = {\"7c2ae98c-d7e3-4b02-8559-83d1c923d262\":{\"roots\":{\"references\":[{\"attributes\":{\"children\":[{\"id\":\"1609\"},{\"id\":\"1654\"}]},\"id\":\"1655\",\"type\":\"Column\"},{\"attributes\":{},\"id\":\"1647\",\"type\":\"BasicTickFormatter\"},{\"attributes\":{},\"id\":\"1621\",\"type\":\"BasicTicker\"},{\"attributes\":{},\"id\":\"1630\",\"type\":\"ResetTool\"},{\"attributes\":{},\"id\":\"1650\",\"type\":\"UnionRenderers\"},{\"attributes\":{},\"id\":\"1711\",\"type\":\"StringEditor\"},{\"attributes\":{},\"id\":\"1625\",\"type\":\"BasicTicker\"},{\"attributes\":{},\"id\":\"1629\",\"type\":\"WheelZoomTool\"},{\"attributes\":{\"axis_label\":null,\"formatter\":{\"id\":\"1647\"},\"ticker\":{\"id\":\"1621\"},\"visible\":false},\"id\":\"1620\",\"type\":\"LinearAxis\"},{\"attributes\":{},\"id\":\"1649\",\"type\":\"BasicTickFormatter\"},{\"attributes\":{},\"id\":\"1631\",\"type\":\"PanTool\"},{\"attributes\":{\"editor\":{\"id\":\"1711\"},\"field\":\"percentage\",\"formatter\":{\"id\":\"1712\"},\"title\":\"Percentage\"},\"id\":\"1604\",\"type\":\"TableColumn\"},{\"attributes\":{\"field\":\"angle\"},\"id\":\"1638\",\"type\":\"CumSum\"},{\"attributes\":{\"data\":{\"angle\":{\"__ndarray__\":\"xo6uYwSD8z9ky8C3oILzPzaSSKxagvM/rsVQkHKB8z9G6ZxzwAHePyMF0UAR/d0/3xqyLxr73T8=\",\"dtype\":\"float64\",\"order\":\"little\",\"shape\":[7]},\"color\":[\"#440154\",\"#443982\",\"#30678D\",\"#208F8C\",\"#35B778\",\"#8DD644\",\"#FDE724\"],\"index\":[0,1,2,3,4,5,6],\"phase\":[\"aten::conv2d\",\"aten::convolution\",\"aten::_convolution\",\"aten::mkldnn_convolution\",\"aten::batch_norm\",\"aten::_batch_norm_impl_index\",\"aten::native_batch_norm\"],\"value\":{\"__ndarray__\":\"iDLgq6JoM0AMS7aGP2gzQKgM89n5ZzNAInXQ9xJnM0DljRYGLtkdQKiUtyiF1B1ACeDJv5DSHUA=\",\"dtype\":\"float64\",\"order\":\"little\",\"shape\":[7]}},\"selected\":{\"id\":\"1651\"},\"selection_policy\":{\"id\":\"1650\"}},\"id\":\"1639\",\"type\":\"ColumnDataSource\"},{\"attributes\":{\"end\":0.8999999999999999,\"start\":-0.5},\"id\":\"1612\",\"type\":\"Range1d\"},{\"attributes\":{},\"id\":\"1651\",\"type\":\"Selection\"},{\"attributes\":{\"label\":{\"field\":\"phase\"},\"renderers\":[{\"id\":\"1643\"}]},\"id\":\"1653\",\"type\":\"LegendItem\"},{\"attributes\":{\"columns\":[{\"id\":\"1604\"},{\"id\":\"1605\"},{\"id\":\"1606\"}],\"height\":350,\"source\":{\"id\":\"1603\"},\"view\":{\"id\":\"1608\"},\"width\":550},\"id\":\"1607\",\"type\":\"DataTable\"},{\"attributes\":{\"editor\":{\"id\":\"1713\"},\"field\":\"time\",\"formatter\":{\"id\":\"1714\"},\"title\":\"Cumulative time in microseconds\"},\"id\":\"1605\",\"type\":\"TableColumn\"},{\"attributes\":{\"text\":\"The following table shows a list of operators that ran on the CPUs.\\n        The most expensive operator on the CPUs was \\\"aten::conv2d\\\" with 19 %.\"},\"id\":\"1609\",\"type\":\"Paragraph\"},{\"attributes\":{},\"id\":\"1616\",\"type\":\"LinearScale\"},{\"attributes\":{\"below\":[{\"id\":\"1620\"}],\"center\":[{\"id\":\"1623\"},{\"id\":\"1627\"},{\"id\":\"1652\"}],\"left\":[{\"id\":\"1624\"}],\"outline_line_color\":\"white\",\"plot_height\":350,\"renderers\":[{\"id\":\"1643\"}],\"title\":null,\"toolbar\":{\"id\":\"1632\"},\"x_range\":{\"id\":\"1612\"},\"x_scale\":{\"id\":\"1616\"},\"y_range\":{\"id\":\"1614\"},\"y_scale\":{\"id\":\"1618\"}},\"id\":\"1610\",\"subtype\":\"Figure\",\"type\":\"Plot\"},{\"attributes\":{},\"id\":\"1710\",\"type\":\"Selection\"},{\"attributes\":{},\"id\":\"1614\",\"type\":\"DataRange1d\"},{\"attributes\":{},\"id\":\"1712\",\"type\":\"StringFormatter\"},{\"attributes\":{\"data_source\":{\"id\":\"1639\"},\"glyph\":{\"id\":\"1641\"},\"hover_glyph\":null,\"muted_glyph\":null,\"nonselection_glyph\":{\"id\":\"1642\"},\"selection_glyph\":null,\"view\":{\"id\":\"1644\"}},\"id\":\"1643\",\"type\":\"GlyphRenderer\"},{\"attributes\":{\"axis_label\":null,\"formatter\":{\"id\":\"1649\"},\"ticker\":{\"id\":\"1625\"},\"visible\":false},\"id\":\"1624\",\"type\":\"LinearAxis\"},{\"attributes\":{},\"id\":\"1713\",\"type\":\"StringEditor\"},{\"attributes\":{\"active_drag\":\"auto\",\"active_inspect\":\"auto\",\"active_multi\":null,\"active_scroll\":\"auto\",\"active_tap\":\"auto\",\"tools\":[{\"id\":\"1628\"},{\"id\":\"1629\"},{\"id\":\"1630\"},{\"id\":\"1631\"}]},\"id\":\"1632\",\"type\":\"Toolbar\"},{\"attributes\":{},\"id\":\"1714\",\"type\":\"StringFormatter\"},{\"attributes\":{\"callback\":null,\"tooltips\":\"@phase:@value\"},\"id\":\"1628\",\"type\":\"HoverTool\"},{\"attributes\":{\"axis\":{\"id\":\"1620\"},\"grid_line_color\":null,\"ticker\":null},\"id\":\"1623\",\"type\":\"Grid\"},{\"attributes\":{},\"id\":\"1715\",\"type\":\"StringEditor\"},{\"attributes\":{\"end_angle\":{\"expr\":{\"id\":\"1638\"},\"units\":\"rad\"},\"fill_color\":{\"field\":\"color\"},\"line_color\":{\"value\":\"white\"},\"radius\":{\"units\":\"data\",\"value\":0.3},\"start_angle\":{\"expr\":{\"id\":\"1637\"},\"units\":\"rad\"},\"x\":{\"value\":0},\"y\":{\"value\":0.0}},\"id\":\"1641\",\"type\":\"Wedge\"},{\"attributes\":{\"source\":{\"id\":\"1639\"}},\"id\":\"1644\",\"type\":\"CDSView\"},{\"attributes\":{\"axis\":{\"id\":\"1624\"},\"dimension\":1,\"grid_line_color\":null,\"ticker\":null},\"id\":\"1627\",\"type\":\"Grid\"},{\"attributes\":{\"children\":[{\"id\":\"1607\"},{\"id\":\"1610\"}]},\"id\":\"1654\",\"type\":\"Row\"},{\"attributes\":{},\"id\":\"1716\",\"type\":\"StringFormatter\"},{\"attributes\":{\"end_angle\":{\"expr\":{\"id\":\"1638\"},\"units\":\"rad\"},\"fill_alpha\":{\"value\":0.1},\"fill_color\":{\"field\":\"color\"},\"line_alpha\":{\"value\":0.1},\"line_color\":{\"value\":\"white\"},\"radius\":{\"units\":\"data\",\"value\":0.3},\"start_angle\":{\"expr\":{\"id\":\"1637\"},\"units\":\"rad\"},\"x\":{\"value\":0},\"y\":{\"value\":0.0}},\"id\":\"1642\",\"type\":\"Wedge\"},{\"attributes\":{},\"id\":\"1618\",\"type\":\"LinearScale\"},{\"attributes\":{},\"id\":\"1709\",\"type\":\"UnionRenderers\"},{\"attributes\":{\"data\":{\"index\":[0,1,2,3,4,5,6],\"operator\":[\"aten::conv2d\",\"aten::convolution\",\"aten::_convolution\",\"aten::mkldnn_convolution\",\"aten::batch_norm\",\"aten::_batch_norm_impl_index\",\"aten::native_batch_norm\"],\"percentage\":{\"__ndarray__\":\"KVyPwvVoM0ApXI/C9WgzQClcj8L1aDNAZmZmZmZmM0DXo3A9CtcdQNejcD0K1x1A16NwPQrXHUA=\",\"dtype\":\"float64\",\"order\":\"little\",\"shape\":[7]},\"time\":[6517323,6516815,6516458,6515275,2505720,2504192,2503551]},\"selected\":{\"id\":\"1710\"},\"selection_policy\":{\"id\":\"1709\"}},\"id\":\"1603\",\"type\":\"ColumnDataSource\"},{\"attributes\":{\"source\":{\"id\":\"1603\"}},\"id\":\"1608\",\"type\":\"CDSView\"},{\"attributes\":{\"editor\":{\"id\":\"1715\"},\"field\":\"operator\",\"formatter\":{\"id\":\"1716\"},\"title\":\"CPU operator\"},\"id\":\"1606\",\"type\":\"TableColumn\"},{\"attributes\":{\"field\":\"angle\",\"include_zero\":true},\"id\":\"1637\",\"type\":\"CumSum\"},{\"attributes\":{\"items\":[{\"id\":\"1653\"}],\"label_text_font_size\":\"8pt\",\"location\":\"center_right\"},\"id\":\"1652\",\"type\":\"Legend\"}],\"root_ids\":[\"1655\"]},\"title\":\"Bokeh Application\",\"version\":\"2.2.3\"}};\n",
       "  var render_items = [{\"docid\":\"7c2ae98c-d7e3-4b02-8559-83d1c923d262\",\"root_ids\":[\"1655\"],\"roots\":{\"1655\":\"7b1ac4aa-179f-426e-87e3-8106ab6bcdaf\"}}];\n",
       "  root.Bokeh.embed.embed_items_notebook(docs_json, render_items);\n",
       "\n",
       "  }\n",
       "  if (root.Bokeh !== undefined) {\n",
       "    embed_document(root);\n",
       "  } else {\n",
       "    var attempts = 0;\n",
       "    var timer = setInterval(function(root) {\n",
       "      if (root.Bokeh !== undefined) {\n",
       "        clearInterval(timer);\n",
       "        embed_document(root);\n",
       "      } else {\n",
       "        attempts++;\n",
       "        if (attempts > 100) {\n",
       "          clearInterval(timer);\n",
       "          console.log(\"Bokeh: ERROR: Unable to run BokehJS code because BokehJS library is missing\");\n",
       "        }\n",
       "      }\n",
       "    }, 10, root)\n",
       "  }\n",
       "})(window);"
      ],
      "application/vnd.bokehjs_exec.v0+json": ""
     },
     "metadata": {
      "application/vnd.bokehjs_exec.v0+json": {
       "id": "1655"
      }
     },
     "output_type": "display_data"
    }
   ],
   "source": [
    "pd.set_option('display.float_format', lambda x: '%.2f' % x)\n",
    "rows = [] \n",
    "values = []\n",
    "if report:\n",
    "    if 'CPU_total' in report['Details']:\n",
    "        display(Markdown(f\"\"\"#### Overview: CPU operators\"\"\"))\n",
    "        event = max(report['Details']['CPU'], key=report['Details']['CPU'].get)\n",
    "        perc = report['Details']['CPU'][event]\n",
    "\n",
    "        for function in report['Details']['CPU']:\n",
    "            percentage = round(report['Details']['CPU'][function],2)\n",
    "            time = report['Details']['CPU_total'][function]               \n",
    "            rows.append([percentage, time, function])\n",
    "\n",
    "        df = pd.DataFrame(rows) \n",
    "        df.columns = ['percentage', 'time', 'operator']\n",
    "\n",
    "        df = df.sort_values(by=['percentage'], ascending=False)\n",
    "        source = ColumnDataSource(data=df)\n",
    "        columns = [TableColumn(field='percentage', title=\"Percentage\"),\n",
    "                   TableColumn(field='time', title=\"Cumulative time in microseconds\"),\n",
    "                  TableColumn(field='operator', title=\"CPU operator\"),]\n",
    "\n",
    "        table = DataTable(source=source, columns=columns, width=550, height=350)\n",
    "\n",
    "        text = Paragraph(text=f\"\"\"The following table shows a list of operators that ran on the CPUs.\n",
    "        The most expensive operator on the CPUs was \"{event}\" with {int(perc)} %.\"\"\")\n",
    "\n",
    "        plot = create_piechart(report['Details']['CPU'],\n",
    "                                height=350,\n",
    "                                width=600,\n",
    "                                x1=0.2,\n",
    "                                x2=0.6,\n",
    "                                radius=0.3, \n",
    "                               )\n",
    "\n",
    "        show(column(text, row(table, plot)))\n"
   ]
  },
  {
   "cell_type": "code",
   "execution_count": 16,
   "metadata": {
    "execution": {
     "iopub.execute_input": "2021-12-03T21:44:34.690874Z",
     "iopub.status.busy": "2021-12-03T21:44:34.690376Z",
     "iopub.status.idle": "2021-12-03T21:44:34.692344Z",
     "shell.execute_reply": "2021-12-03T21:44:34.692717Z"
    },
    "papermill": {
     "duration": 0.032256,
     "end_time": "2021-12-03T21:44:34.692844",
     "exception": false,
     "start_time": "2021-12-03T21:44:34.660588",
     "status": "completed"
    },
    "tags": [
     "hide-input"
    ]
   },
   "outputs": [],
   "source": [
    "pd.set_option('display.float_format', lambda x: '%.2f' % x)\n",
    "rows = [] \n",
    "values = []\n",
    "if report:\n",
    "    if 'GPU_total' in report['Details']:\n",
    "        display(Markdown(f\"\"\"#### Overview: GPU operators\"\"\"))\n",
    "        event = max(report['Details']['GPU'], key=report['Details']['GPU'].get)\n",
    "        perc = report['Details']['GPU'][event]\n",
    "\n",
    "        for function in report['Details']['GPU']:\n",
    "            percentage = round(report['Details']['GPU'][function],2)\n",
    "            time = report['Details']['GPU_total'][function]               \n",
    "            rows.append([percentage, time, function])\n",
    "\n",
    "        df = pd.DataFrame(rows) \n",
    "        df.columns = ['percentage', 'time', 'operator']\n",
    "\n",
    "        df = df.sort_values(by=['percentage'], ascending=False)\n",
    "        source = ColumnDataSource(data=df)\n",
    "        columns = [TableColumn(field='percentage', title=\"Percentage\"),\n",
    "                   TableColumn(field='time', title=\"Cumulative time in microseconds\"),\n",
    "                  TableColumn(field='operator', title=\"GPU operator\"),]\n",
    "        table = DataTable(source=source, columns=columns, width=450, height=350)\n",
    "\n",
    "        text = Paragraph(text=f\"\"\"The following table shows a list of operators that your training job ran on GPU.\n",
    "        The most expensive operator on GPU was \"{event}\" with {int(perc)} %\"\"\")\n",
    "\n",
    "        plot = create_piechart(report['Details']['GPU'],\n",
    "                                height=350,\n",
    "                                width=600,\n",
    "                                x1=0.2,\n",
    "                                x2=0.6,\n",
    "                                radius=0.3, \n",
    "                               )\n",
    "\n",
    "        show(column(text, row(table, plot)))"
   ]
  },
  {
   "cell_type": "markdown",
   "metadata": {
    "papermill": {
     "duration": 0.021572,
     "end_time": "2021-12-03T21:44:34.736190",
     "exception": false,
     "start_time": "2021-12-03T21:44:34.714618",
     "status": "completed"
    },
    "tags": []
   },
   "source": [
    "## Rules summary"
   ]
  },
  {
   "cell_type": "code",
   "execution_count": 17,
   "metadata": {
    "execution": {
     "iopub.execute_input": "2021-12-03T21:44:34.785631Z",
     "iopub.status.busy": "2021-12-03T21:44:34.785122Z",
     "iopub.status.idle": "2021-12-03T21:44:34.786887Z",
     "shell.execute_reply": "2021-12-03T21:44:34.787260Z"
    },
    "papermill": {
     "duration": 0.029629,
     "end_time": "2021-12-03T21:44:34.787383",
     "exception": false,
     "start_time": "2021-12-03T21:44:34.757754",
     "status": "completed"
    },
    "tags": [
     "hide-input"
    ]
   },
   "outputs": [],
   "source": [
    "description = {}\n",
    "description['CPUBottleneck'] = 'Checks if the CPU utilization is high and the GPU utilization is low. \\\n",
    "It might indicate CPU bottlenecks, where the GPUs are waiting for data to arrive \\\n",
    "from the CPUs. The rule evaluates the CPU and GPU utilization rates, and triggers the issue \\\n",
    "if the time spent on the CPU bottlenecks exceeds a threshold percent of the total training time. The default threshold is 50 percent.'\n",
    "description['IOBottleneck'] =  'Checks if the data I/O wait time is high and the GPU utilization is low. \\\n",
    "It might indicate IO bottlenecks where GPU is waiting for data to arrive from storage. \\\n",
    "The rule evaluates the I/O and GPU utilization rates and triggers the issue \\\n",
    "if the time spent on the IO bottlenecks exceeds a threshold percent of the total training time. The default threshold is 50 percent.'\n",
    "description['Dataloader'] = 'Checks how many data loaders are running in parallel and whether the total number is equal the number \\\n",
    "of available CPU cores. The rule triggers if number is much smaller or larger than the number of available cores. \\\n",
    "If too small, it might lead to low GPU utilization. If too large, it might impact other compute intensive operations on CPU.'\n",
    "description['GPUMemoryIncrease'] = 'Measures the average GPU memory footprint and triggers if there is a large increase.'\n",
    "description['BatchSize'] = 'Checks if GPUs are underutilized because the batch size is too small. \\\n",
    "To detect this problem, the rule analyzes the average GPU memory footprint, \\\n",
    "the CPU and the GPU utilization. '\n",
    "description['LowGPUUtilization'] = 'Checks if the GPU utilization is low or fluctuating. \\\n",
    "This can happen due to bottlenecks, blocking calls for synchronizations, \\\n",
    "or a small batch size.'\n",
    "description['MaxInitializationTime'] = 'Checks if the time spent on initialization exceeds a threshold percent of the total training time. \\\n",
    "The rule waits until the first step of training loop starts. The initialization can take longer \\\n",
    "if downloading the entire dataset from Amazon S3 in File mode. The default threshold is 20 minutes.'\n",
    "description['LoadBalancing'] = 'Detects workload balancing issues across GPUs. \\\n",
    "Workload imbalance can occur in training jobs with data parallelism. \\\n",
    "The gradients are accumulated on a primary GPU, and this GPU might be overused \\\n",
    "with regard to other GPUs, resulting in reducing the efficiency of data parallelization.'\n",
    "description['StepOutlier'] = 'Detects outliers in step duration. The step duration for forward and backward pass should be \\\n",
    "roughly the same throughout the training. If there are significant outliers, \\\n",
    "it may indicate a system stall or bottleneck issues.'"
   ]
  },
  {
   "cell_type": "code",
   "execution_count": 18,
   "metadata": {
    "execution": {
     "iopub.execute_input": "2021-12-03T21:44:34.835568Z",
     "iopub.status.busy": "2021-12-03T21:44:34.835085Z",
     "iopub.status.idle": "2021-12-03T21:44:34.837284Z",
     "shell.execute_reply": "2021-12-03T21:44:34.836857Z"
    },
    "papermill": {
     "duration": 0.028386,
     "end_time": "2021-12-03T21:44:34.837384",
     "exception": false,
     "start_time": "2021-12-03T21:44:34.808998",
     "status": "completed"
    },
    "tags": [
     "hide-input"
    ]
   },
   "outputs": [],
   "source": [
    "recommendation = {}\n",
    "recommendation['CPUBottleneck'] = 'Consider increasing the number of data loaders \\\n",
    "or applying data pre-fetching.'\n",
    "recommendation['IOBottleneck'] = 'Pre-fetch data or choose different file formats, such as binary formats that \\\n",
    "improve I/O performance.'\n",
    "recommendation['Dataloader'] = 'Change the number of data loader processes.'\n",
    "recommendation['GPUMemoryIncrease'] = 'Choose a larger instance type with more memory if footprint is close to maximum available memory.'\n",
    "recommendation['BatchSize'] = 'The batch size is too small, and GPUs are underutilized. Consider running on a smaller instance type or increasing the batch size.'\n",
    "recommendation['LowGPUUtilization'] = 'Check if there are bottlenecks, minimize blocking calls, \\\n",
    "change distributed training strategy, or increase the batch size.'\n",
    "recommendation['MaxInitializationTime'] = 'Initialization takes too long. \\\n",
    "If using File mode, consider switching to Pipe mode in case you are using TensorFlow framework.'\n",
    "recommendation['LoadBalancing'] = 'Choose a different distributed training strategy or \\\n",
    "a different distributed training framework.'\n",
    "recommendation['StepOutlier'] = 'Check if there are any bottlenecks (CPU, I/O) correlated to the step outliers.'"
   ]
  },
  {
   "cell_type": "code",
   "execution_count": 19,
   "metadata": {
    "execution": {
     "iopub.execute_input": "2021-12-03T21:44:34.888249Z",
     "iopub.status.busy": "2021-12-03T21:44:34.887691Z",
     "iopub.status.idle": "2021-12-03T21:44:34.900417Z",
     "shell.execute_reply": "2021-12-03T21:44:34.900018Z"
    },
    "papermill": {
     "duration": 0.040624,
     "end_time": "2021-12-03T21:44:34.900516",
     "exception": false,
     "start_time": "2021-12-03T21:44:34.859892",
     "status": "completed"
    },
    "tags": [
     "hide-input"
    ]
   },
   "outputs": [
    {
     "data": {
      "text/markdown": [
       "The following table shows a profiling summary of the Debugger built-in rules. \n",
       "The table is sorted by the rules that triggered the most frequently. During your training job, the LowGPUUtilization rule\n",
       "was the most frequently triggered. It processed 2776 datapoints and was triggered 15 times."
      ],
      "text/plain": [
       "<IPython.core.display.Markdown object>"
      ]
     },
     "metadata": {},
     "output_type": "display_data"
    },
    {
     "data": {
      "text/html": [
       "<table border=\"1\" class=\"dataframe\">\n",
       "  <thead>\n",
       "    <tr style=\"text-align: left;\">\n",
       "      <th></th>\n",
       "      <th>Description</th>\n",
       "      <th>Recommendation</th>\n",
       "      <th>Number of times rule triggered</th>\n",
       "      <th>Number of datapoints</th>\n",
       "      <th>Rule parameters</th>\n",
       "    </tr>\n",
       "  </thead>\n",
       "  <tbody>\n",
       "    <tr style=\"text-align: left;\">\n",
       "      <th>LowGPUUtilization</th>\n",
       "      <td>Checks if the GPU utilization is low or fluctuating. This can happen due to bottlenecks, blocking calls for synchronizations, or a small batch size.</td>\n",
       "      <td>Check if there are bottlenecks, minimize blocking calls, change distributed training strategy, or increase the batch size.</td>\n",
       "      <td>15</td>\n",
       "      <td>2776</td>\n",
       "      <td>threshold_p95:70<br>threshold_p5:10<br>window:500<br>patience:1000</td>\n",
       "    </tr>\n",
       "    <tr style=\"text-align: left;\">\n",
       "      <th>CPUBottleneck</th>\n",
       "      <td>Checks if the CPU utilization is high and the GPU utilization is low. It might indicate CPU bottlenecks, where the GPUs are waiting for data to arrive from the CPUs. The rule evaluates the CPU and GPU utilization rates, and triggers the issue if the time spent on the CPU bottlenecks exceeds a threshold percent of the total training time. The default threshold is 50 percent.</td>\n",
       "      <td>Consider increasing the number of data loaders or applying data pre-fetching.</td>\n",
       "      <td>15</td>\n",
       "      <td>2791</td>\n",
       "      <td>threshold:50<br>cpu_threshold:90<br>gpu_threshold:10<br>patience:1000</td>\n",
       "    </tr>\n",
       "    <tr style=\"text-align: left;\">\n",
       "      <th>BatchSize</th>\n",
       "      <td>Checks if GPUs are underutilized because the batch size is too small. To detect this problem, the rule analyzes the average GPU memory footprint, the CPU and the GPU utilization.</td>\n",
       "      <td>The batch size is too small, and GPUs are underutilized. Consider running on a smaller instance type or increasing the batch size.</td>\n",
       "      <td>14</td>\n",
       "      <td>2775</td>\n",
       "      <td>cpu_threshold_p95:70<br>gpu_threshold_p95:70<br>gpu_memory_threshold_p95:70<br>patience:1000<br>window:500</td>\n",
       "    </tr>\n",
       "    <tr style=\"text-align: left;\">\n",
       "      <th>GPUMemoryIncrease</th>\n",
       "      <td>Measures the average GPU memory footprint and triggers if there is a large increase.</td>\n",
       "      <td>Choose a larger instance type with more memory if footprint is close to maximum available memory.</td>\n",
       "      <td>0</td>\n",
       "      <td>2776</td>\n",
       "      <td>increase:5<br>patience:1000<br>window:10</td>\n",
       "    </tr>\n",
       "    <tr style=\"text-align: left;\">\n",
       "      <th>LoadBalancing</th>\n",
       "      <td>Detects workload balancing issues across GPUs. Workload imbalance can occur in training jobs with data parallelism. The gradients are accumulated on a primary GPU, and this GPU might be overused with regard to other GPUs, resulting in reducing the efficiency of data parallelization.</td>\n",
       "      <td>Choose a different distributed training strategy or a different distributed training framework.</td>\n",
       "      <td>0</td>\n",
       "      <td>2776</td>\n",
       "      <td>threshold:0.2<br>patience:1000</td>\n",
       "    </tr>\n",
       "    <tr style=\"text-align: left;\">\n",
       "      <th>StepOutlier</th>\n",
       "      <td>Detects outliers in step duration. The step duration for forward and backward pass should be roughly the same throughout the training. If there are significant outliers, it may indicate a system stall or bottleneck issues.</td>\n",
       "      <td>Check if there are any bottlenecks (CPU, I/O) correlated to the step outliers.</td>\n",
       "      <td>0</td>\n",
       "      <td>145</td>\n",
       "      <td>threshold:3<br>mode:None<br>n_outliers:10<br>stddev:3</td>\n",
       "    </tr>\n",
       "    <tr style=\"text-align: left;\">\n",
       "      <th>IOBottleneck</th>\n",
       "      <td>Checks if the data I/O wait time is high and the GPU utilization is low. It might indicate IO bottlenecks where GPU is waiting for data to arrive from storage. The rule evaluates the I/O and GPU utilization rates and triggers the issue if the time spent on the IO bottlenecks exceeds a threshold percent of the total training time. The default threshold is 50 percent.</td>\n",
       "      <td>Pre-fetch data or choose different file formats, such as binary formats that improve I/O performance.</td>\n",
       "      <td>0</td>\n",
       "      <td>2791</td>\n",
       "      <td>threshold:50<br>io_threshold:50<br>gpu_threshold:10<br>patience:1000</td>\n",
       "    </tr>\n",
       "    <tr style=\"text-align: left;\">\n",
       "      <th>Dataloader</th>\n",
       "      <td>Checks how many data loaders are running in parallel and whether the total number is equal the number of available CPU cores. The rule triggers if number is much smaller or larger than the number of available cores. If too small, it might lead to low GPU utilization. If too large, it might impact other compute intensive operations on CPU.</td>\n",
       "      <td>Change the number of data loader processes.</td>\n",
       "      <td>0</td>\n",
       "      <td>1</td>\n",
       "      <td>min_threshold:70<br>max_threshold:200</td>\n",
       "    </tr>\n",
       "    <tr style=\"text-align: left;\">\n",
       "      <th>MaxInitializationTime</th>\n",
       "      <td>Checks if the time spent on initialization exceeds a threshold percent of the total training time. The rule waits until the first step of training loop starts. The initialization can take longer if downloading the entire dataset from Amazon S3 in File mode. The default threshold is 20 minutes.</td>\n",
       "      <td>Initialization takes too long. If using File mode, consider switching to Pipe mode in case you are using TensorFlow framework.</td>\n",
       "      <td>0</td>\n",
       "      <td>145</td>\n",
       "      <td>threshold:20</td>\n",
       "    </tr>\n",
       "  </tbody>\n",
       "</table>"
      ],
      "text/plain": [
       "<IPython.core.display.HTML object>"
      ]
     },
     "metadata": {},
     "output_type": "display_data"
    }
   ],
   "source": [
    "files = glob.glob('/opt/ml/processing/output/rule/profiler-output/profiler-reports/*json')\n",
    "summary = {}\n",
    "for i in files:\n",
    "    rule_name = i.split('/')[-1].replace('.json','')\n",
    "    if rule_name == \"OverallSystemUsage\" or rule_name == \"OverallFrameworkMetrics\":\n",
    "        continue\n",
    "    rule_report = json.load(open(i))\n",
    "    summary[rule_name] = {}\n",
    "    summary[rule_name]['Description'] = description[rule_name]\n",
    "    summary[rule_name]['Recommendation'] = recommendation[rule_name]\n",
    "    summary[rule_name]['Number of times rule triggered'] = rule_report['RuleTriggered'] \n",
    "    #summary[rule_name]['Number of violations'] = rule_report['Violations'] \n",
    "    summary[rule_name]['Number of datapoints'] = rule_report['Datapoints']\n",
    "    summary[rule_name]['Rule parameters'] = rule_report['RuleParameters']\n",
    "\n",
    "df = pd.DataFrame.from_dict(summary, orient='index')\n",
    "df = df.sort_values(by=['Number of times rule triggered'], ascending=False)\n",
    "\n",
    "\n",
    "display(Markdown(f\"\"\"The following table shows a profiling summary of the Debugger built-in rules. \n",
    "The table is sorted by the rules that triggered the most frequently. During your training job, the {df.index[0]} rule\n",
    "was the most frequently triggered. It processed {df.values[0,3]} datapoints and was triggered {df.values[0,2]} times.\"\"\"))\n",
    "\n",
    "with pd.option_context('display.colheader_justify','left'):    \n",
    "    pretty_print(df)"
   ]
  },
  {
   "cell_type": "code",
   "execution_count": 20,
   "metadata": {
    "execution": {
     "iopub.execute_input": "2021-12-03T21:44:34.951465Z",
     "iopub.status.busy": "2021-12-03T21:44:34.950751Z",
     "iopub.status.idle": "2021-12-03T21:44:34.953856Z",
     "shell.execute_reply": "2021-12-03T21:44:34.953374Z"
    },
    "papermill": {
     "duration": 0.030911,
     "end_time": "2021-12-03T21:44:34.953957",
     "exception": false,
     "start_time": "2021-12-03T21:44:34.923046",
     "status": "completed"
    },
    "tags": [
     "hide-input"
    ]
   },
   "outputs": [
    {
     "data": {
      "text/markdown": [
       "## Analyzing the training loop\n",
       "\n"
      ],
      "text/plain": [
       "<IPython.core.display.Markdown object>"
      ]
     },
     "metadata": {},
     "output_type": "display_data"
    }
   ],
   "source": [
    "analyse_phase = \"training\"\n",
    "if job_statistics and \"initialization_in_seconds\" in job_statistics:\n",
    "    if job_statistics[\"initialization_in_seconds\"] > job_statistics[\"training_loop_duration_in_seconds\"]:\n",
    "        analyse_phase = \"initialization\"\n",
    "        time = job_statistics[\"initialization_in_seconds\"]\n",
    "        perc = job_statistics[\"initialization_%\"]\n",
    "        display(Markdown(f\"\"\"The initialization phase took {int(time)} seconds, which is {int(perc)}%*\n",
    "        of the total training time. Since the training loop has taken the most time, \n",
    "        we dive deep into the events occurring during this phase\"\"\"))\n",
    "        display(Markdown(\"\"\"## Analyzing initialization\\n\\n\"\"\"))\n",
    "    time = job_statistics[\"training_loop_duration_in_seconds\"]\n",
    "    perc = job_statistics[\"training_loop_%\"]\n",
    "    display(Markdown(f\"\"\"The training loop lasted for {int(time)} seconds which is {int(perc)}% of the training job time.\n",
    "                    Since the training loop has taken the most time, we dive deep into the events occured during this phase.\"\"\"))\n",
    "if analyse_phase == 'training':\n",
    "    display(Markdown(\"\"\"## Analyzing the training loop\\n\\n\"\"\"))"
   ]
  },
  {
   "cell_type": "code",
   "execution_count": 21,
   "metadata": {
    "execution": {
     "iopub.execute_input": "2021-12-03T21:44:35.004244Z",
     "iopub.status.busy": "2021-12-03T21:44:35.003703Z",
     "iopub.status.idle": "2021-12-03T21:44:35.005811Z",
     "shell.execute_reply": "2021-12-03T21:44:35.005339Z"
    },
    "papermill": {
     "duration": 0.028777,
     "end_time": "2021-12-03T21:44:35.005907",
     "exception": false,
     "start_time": "2021-12-03T21:44:34.977130",
     "status": "completed"
    },
    "tags": [
     "hide-input"
    ]
   },
   "outputs": [],
   "source": [
    "if analyse_phase == \"initialization\":\n",
    "    display(Markdown(\"\"\"### MaxInitializationTime\\n\\nThis rule helps to detect if the training initialization is taking too much time. \\nThe rule waits until first step is available. The rule takes the parameter `threshold` that defines how many minutes to wait for the first step to become available. Default is 20 minutes.\\nYou can run the rule locally in the following way:\n",
    "    \"\"\"))\n",
    "    \n",
    "    _ = load_report(\"MaxInitializationTime\")"
   ]
  },
  {
   "cell_type": "code",
   "execution_count": 22,
   "metadata": {
    "execution": {
     "iopub.execute_input": "2021-12-03T21:44:35.076648Z",
     "iopub.status.busy": "2021-12-03T21:44:35.065243Z",
     "iopub.status.idle": "2021-12-03T21:44:35.137920Z",
     "shell.execute_reply": "2021-12-03T21:44:35.138294Z"
    },
    "papermill": {
     "duration": 0.109541,
     "end_time": "2021-12-03T21:44:35.138432",
     "exception": false,
     "start_time": "2021-12-03T21:44:35.028891",
     "status": "completed"
    },
    "tags": [
     "hide-input"
    ]
   },
   "outputs": [
    {
     "data": {
      "text/markdown": [
       "### Step duration analysis"
      ],
      "text/plain": [
       "<IPython.core.display.Markdown object>"
      ]
     },
     "metadata": {},
     "output_type": "display_data"
    },
    {
     "data": {
      "text/html": [
       "\n",
       "\n",
       "\n",
       "\n",
       "\n",
       "\n",
       "  <div class=\"bk-root\" id=\"7bb6ce14-052d-4f8b-9534-f4c857fe0697\" data-root-id=\"1799\"></div>\n"
      ]
     },
     "metadata": {},
     "output_type": "display_data"
    },
    {
     "data": {
      "application/javascript": [
       "(function(root) {\n",
       "  function embed_document(root) {\n",
       "    \n",
       "  var docs_json = {\"16ff7f9e-2c5e-44f2-9172-d2375a0f05a0\":{\"roots\":{\"references\":[{\"attributes\":{\"children\":[{\"id\":\"1798\"}]},\"id\":\"1799\",\"type\":\"Column\"},{\"attributes\":{\"text\":\"The StepOutlier rule measures step durations and checks for outliers. The rule \\n        returns True if duration is larger than 3 times the standard deviation. The rule \\n        also takes the parameter mode, that specifies whether steps from training or validation phase \\n        should be checked. In your processing job mode was specified as None. \\n        Typically the first step is taking significantly more time and to avoid the \\n        rule triggering immediately, one can use n_outliers to specify the number of outliers to ignore. \\n        n_outliers was set to 10.\\n        The rule analysed 145 datapoints and triggered 0 times.\\n        \",\"width\":900},\"id\":\"1798\",\"type\":\"Paragraph\"}],\"root_ids\":[\"1799\"]},\"title\":\"Bokeh Application\",\"version\":\"2.2.3\"}};\n",
       "  var render_items = [{\"docid\":\"16ff7f9e-2c5e-44f2-9172-d2375a0f05a0\",\"root_ids\":[\"1799\"],\"roots\":{\"1799\":\"7bb6ce14-052d-4f8b-9534-f4c857fe0697\"}}];\n",
       "  root.Bokeh.embed.embed_items_notebook(docs_json, render_items);\n",
       "\n",
       "  }\n",
       "  if (root.Bokeh !== undefined) {\n",
       "    embed_document(root);\n",
       "  } else {\n",
       "    var attempts = 0;\n",
       "    var timer = setInterval(function(root) {\n",
       "      if (root.Bokeh !== undefined) {\n",
       "        clearInterval(timer);\n",
       "        embed_document(root);\n",
       "      } else {\n",
       "        attempts++;\n",
       "        if (attempts > 100) {\n",
       "          clearInterval(timer);\n",
       "          console.log(\"Bokeh: ERROR: Unable to run BokehJS code because BokehJS library is missing\");\n",
       "        }\n",
       "      }\n",
       "    }, 10, root)\n",
       "  }\n",
       "})(window);"
      ],
      "application/vnd.bokehjs_exec.v0+json": ""
     },
     "metadata": {
      "application/vnd.bokehjs_exec.v0+json": {
       "id": "1799"
      }
     },
     "output_type": "display_data"
    },
    {
     "data": {
      "text/markdown": [
       "**Step durations on node algo-1-29:**"
      ],
      "text/plain": [
       "<IPython.core.display.Markdown object>"
      ]
     },
     "metadata": {},
     "output_type": "display_data"
    },
    {
     "data": {
      "text/markdown": [
       "The following table is a summary of the statistics of step durations measured on node algo-1-29.\n",
       "                The rule has analyzed the step duration from Step:ModeKeys.GLOBAL phase.\n",
       "                The average step duration on node algo-1-29 was 7.63s. \n",
       "                The rule detected 2 outliers, where step duration was larger than 3 times the standard deviation of 1.55s\n",
       "                                 \n"
      ],
      "text/plain": [
       "<IPython.core.display.Markdown object>"
      ]
     },
     "metadata": {},
     "output_type": "display_data"
    },
    {
     "data": {
      "text/html": [
       "<table border=\"1\" class=\"dataframe\">\n",
       "  <thead>\n",
       "    <tr style=\"text-align: right;\">\n",
       "      <th></th>\n",
       "      <th>mean</th>\n",
       "      <th>max</th>\n",
       "      <th>p99</th>\n",
       "      <th>p95</th>\n",
       "      <th>p50</th>\n",
       "      <th>min</th>\n",
       "    </tr>\n",
       "  </thead>\n",
       "  <tbody>\n",
       "    <tr style=\"text-align: left;\">\n",
       "      <th>Step Durations in [s]</th>\n",
       "      <td>7.63</td>\n",
       "      <td>21.35</td>\n",
       "      <td>11.99</td>\n",
       "      <td>8.51</td>\n",
       "      <td>7.53</td>\n",
       "      <td>0.23</td>\n",
       "    </tr>\n",
       "  </tbody>\n",
       "</table>"
      ],
      "text/plain": [
       "<IPython.core.display.HTML object>"
      ]
     },
     "metadata": {},
     "output_type": "display_data"
    },
    {
     "data": {
      "text/markdown": [
       "The following histogram shows the step durations measured on the different nodes. \n",
       "                You can turn on or turn off the visualization of histograms by selecting or unselecting the labels in the legend."
      ],
      "text/plain": [
       "<IPython.core.display.Markdown object>"
      ]
     },
     "metadata": {},
     "output_type": "display_data"
    },
    {
     "data": {
      "text/html": [
       "\n",
       "\n",
       "\n",
       "\n",
       "\n",
       "\n",
       "  <div class=\"bk-root\" id=\"caa67f4d-53d4-4fa2-ac7d-00fcf1968489\" data-root-id=\"1867\"></div>\n"
      ]
     },
     "metadata": {},
     "output_type": "display_data"
    },
    {
     "data": {
      "application/javascript": [
       "(function(root) {\n",
       "  function embed_document(root) {\n",
       "    \n",
       "  var docs_json = {\"c1828901-df05-4a38-8680-27de12ce2afd\":{\"roots\":{\"references\":[{\"attributes\":{\"below\":[{\"id\":\"1878\"}],\"center\":[{\"id\":\"1881\"},{\"id\":\"1885\"},{\"id\":\"1913\"}],\"left\":[{\"id\":\"1882\"}],\"plot_height\":450,\"plot_width\":850,\"renderers\":[{\"id\":\"1903\"}],\"right\":[{\"id\":\"1915\"}],\"title\":{\"id\":\"1868\"},\"toolbar\":{\"id\":\"1893\"},\"x_range\":{\"id\":\"1870\"},\"x_scale\":{\"id\":\"1874\"},\"y_range\":{\"id\":\"1872\"},\"y_scale\":{\"id\":\"1876\"}},\"id\":\"1867\",\"subtype\":\"Figure\",\"type\":\"Plot\"},{\"attributes\":{},\"id\":\"1879\",\"type\":\"BasicTicker\"},{\"attributes\":{},\"id\":\"1890\",\"type\":\"ResetTool\"},{\"attributes\":{},\"id\":\"1910\",\"type\":\"UnionRenderers\"},{\"attributes\":{},\"id\":\"1876\",\"type\":\"LinearScale\"},{\"attributes\":{},\"id\":\"1909\",\"type\":\"BasicTickFormatter\"},{\"attributes\":{\"label\":{\"value\":\"algo-1-29\"},\"renderers\":[{\"id\":\"1903\"}]},\"id\":\"1914\",\"type\":\"LegendItem\"},{\"attributes\":{},\"id\":\"1891\",\"type\":\"HelpTool\"},{\"attributes\":{},\"id\":\"1911\",\"type\":\"Selection\"},{\"attributes\":{\"axis_label\":\"Occurrences\",\"formatter\":{\"id\":\"1909\"},\"ticker\":{\"id\":\"1883\"}},\"id\":\"1882\",\"type\":\"LinearAxis\"},{\"attributes\":{\"click_policy\":\"hide\",\"location\":\"center_right\"},\"id\":\"1915\",\"type\":\"Legend\"},{\"attributes\":{\"axis_label\":\"Step durations in [s]\",\"formatter\":{\"id\":\"1907\"},\"ticker\":{\"id\":\"1879\"}},\"id\":\"1878\",\"type\":\"LinearAxis\"},{\"attributes\":{},\"id\":\"1883\",\"type\":\"BasicTicker\"},{\"attributes\":{\"axis\":{\"id\":\"1882\"},\"dimension\":1,\"grid_line_color\":\"white\",\"ticker\":null},\"id\":\"1885\",\"type\":\"Grid\"},{\"attributes\":{\"axis\":{\"id\":\"1878\"},\"grid_line_color\":\"white\",\"ticker\":null},\"id\":\"1881\",\"type\":\"Grid\"},{\"attributes\":{},\"id\":\"1889\",\"type\":\"SaveTool\"},{\"attributes\":{\"start\":0},\"id\":\"1872\",\"type\":\"DataRange1d\"},{\"attributes\":{},\"id\":\"1874\",\"type\":\"LinearScale\"},{\"attributes\":{\"data\":{\"left\":[0.225061,0.3086186,0.3921762,0.4757338,0.5592914,0.642849,0.7264066,0.8099642,0.8935218,0.9770794,1.060637,1.1441946,1.2277521999999998,1.3113097999999999,1.3948673999999999,1.4784249999999999,1.5619825999999999,1.6455402,1.7290978,1.8126554,1.896213,1.9797706,2.0633282,2.1468858,2.2304434,2.314001,2.3975586,2.4811162,2.5646738,2.6482314000000002,2.731789,2.8153466000000003,2.8989042,2.9824618,3.0660194,3.149577,3.2331346,3.3166922,3.4002498,3.4838074,3.567365,3.6509226,3.7344802,3.8180378,3.9015954,3.985153,4.0687106,4.1522682,4.2358258,4.3193833999999995,4.402941,4.4864986,4.5700562,4.6536138,4.7371714,4.820729,4.9042866,4.9878442,5.0714018,5.1549594,5.238517,5.3220746,5.4056322,5.4891898,5.5727474,5.656305,5.7398625999999995,5.8234202,5.9069778,5.9905354,6.0740929999999995,6.1576506,6.2412082,6.3247658,6.4083234,6.491881,6.5754386,6.6589962,6.7425538,6.8261114,6.909669,6.9932266,7.0767842,7.160341799999999,7.2438994,7.327457,7.4110146,7.4945721999999995,7.5781298,7.6616874,7.745245,7.8288025999999995,7.9123602,7.9959178,8.0794754,8.163032999999999,8.2465906,8.3301482,8.413705799999999,8.4972634],\"right\":[0.3086186,0.3921762,0.4757338,0.5592914,0.642849,0.7264066,0.8099642,0.8935218,0.9770794,1.060637,1.1441946,1.2277521999999998,1.3113097999999999,1.3948673999999999,1.4784249999999999,1.5619825999999999,1.6455402,1.7290978,1.8126554,1.896213,1.9797706,2.0633282,2.1468858,2.2304434,2.314001,2.3975586,2.4811162,2.5646738,2.6482314000000002,2.731789,2.8153466000000003,2.8989042,2.9824618,3.0660194,3.149577,3.2331346,3.3166922,3.4002498,3.4838074,3.567365,3.6509226,3.7344802,3.8180378,3.9015954,3.985153,4.0687106,4.1522682,4.2358258,4.3193833999999995,4.402941,4.4864986,4.5700562,4.6536138,4.7371714,4.820729,4.9042866,4.9878442,5.0714018,5.1549594,5.238517,5.3220746,5.4056322,5.4891898,5.5727474,5.656305,5.7398625999999995,5.8234202,5.9069778,5.9905354,6.0740929999999995,6.1576506,6.2412082,6.3247658,6.4083234,6.491881,6.5754386,6.6589962,6.7425538,6.8261114,6.909669,6.9932266,7.0767842,7.160341799999999,7.2438994,7.327457,7.4110146,7.4945721999999995,7.5781298,7.6616874,7.745245,7.8288025999999995,7.9123602,7.9959178,8.0794754,8.163032999999999,8.2465906,8.3301482,8.413705799999999,8.4972634,8.580821],\"top\":[1,0,0,0,0,0,0,0,0,0,0,0,0,0,0,0,0,0,0,0,0,0,0,0,1,0,0,0,0,0,0,0,0,0,0,0,0,0,0,0,0,0,0,0,0,0,0,0,0,0,0,0,0,0,0,0,0,0,0,0,0,0,0,0,0,0,0,0,0,0,0,0,0,0,0,0,0,0,6,7,6,3,0,0,0,1,26,40,16,9,4,1,2,2,0,3,3,0,6,6]},\"selected\":{\"id\":\"1911\"},\"selection_policy\":{\"id\":\"1910\"}},\"id\":\"1900\",\"type\":\"ColumnDataSource\"},{\"attributes\":{\"click_policy\":\"hide\",\"items\":[{\"id\":\"1914\"}],\"location\":\"center_right\"},\"id\":\"1913\",\"type\":\"Legend\"},{\"attributes\":{\"bottom_units\":\"screen\",\"fill_alpha\":0.5,\"fill_color\":\"lightgrey\",\"left_units\":\"screen\",\"level\":\"overlay\",\"line_alpha\":1.0,\"line_color\":\"black\",\"line_dash\":[4,4],\"line_width\":2,\"right_units\":\"screen\",\"top_units\":\"screen\"},\"id\":\"1892\",\"type\":\"BoxAnnotation\"},{\"attributes\":{\"active_drag\":\"auto\",\"active_inspect\":\"auto\",\"active_multi\":null,\"active_scroll\":\"auto\",\"active_tap\":\"auto\",\"tools\":[{\"id\":\"1886\"},{\"id\":\"1887\"},{\"id\":\"1888\"},{\"id\":\"1889\"},{\"id\":\"1890\"},{\"id\":\"1891\"}]},\"id\":\"1893\",\"type\":\"Toolbar\"},{\"attributes\":{},\"id\":\"1870\",\"type\":\"DataRange1d\"},{\"attributes\":{},\"id\":\"1907\",\"type\":\"BasicTickFormatter\"},{\"attributes\":{\"source\":{\"id\":\"1900\"}},\"id\":\"1904\",\"type\":\"CDSView\"},{\"attributes\":{},\"id\":\"1886\",\"type\":\"PanTool\"},{\"attributes\":{\"bottom\":{\"value\":0},\"fill_alpha\":{\"value\":0.7},\"fill_color\":{\"value\":\"#440154\"},\"left\":{\"field\":\"left\"},\"line_color\":{\"value\":\"white\"},\"right\":{\"field\":\"right\"},\"top\":{\"field\":\"top\"}},\"id\":\"1901\",\"type\":\"Quad\"},{\"attributes\":{},\"id\":\"1887\",\"type\":\"WheelZoomTool\"},{\"attributes\":{\"text\":\"Step durations\"},\"id\":\"1868\",\"type\":\"Title\"},{\"attributes\":{\"data_source\":{\"id\":\"1900\"},\"glyph\":{\"id\":\"1901\"},\"hover_glyph\":null,\"muted_glyph\":null,\"nonselection_glyph\":{\"id\":\"1902\"},\"selection_glyph\":null,\"view\":{\"id\":\"1904\"}},\"id\":\"1903\",\"type\":\"GlyphRenderer\"},{\"attributes\":{\"overlay\":{\"id\":\"1892\"}},\"id\":\"1888\",\"type\":\"BoxZoomTool\"},{\"attributes\":{\"bottom\":{\"value\":0},\"fill_alpha\":{\"value\":0.1},\"fill_color\":{\"value\":\"#440154\"},\"left\":{\"field\":\"left\"},\"line_alpha\":{\"value\":0.1},\"line_color\":{\"value\":\"white\"},\"right\":{\"field\":\"right\"},\"top\":{\"field\":\"top\"}},\"id\":\"1902\",\"type\":\"Quad\"}],\"root_ids\":[\"1867\"]},\"title\":\"Bokeh Application\",\"version\":\"2.2.3\"}};\n",
       "  var render_items = [{\"docid\":\"c1828901-df05-4a38-8680-27de12ce2afd\",\"root_ids\":[\"1867\"],\"roots\":{\"1867\":\"caa67f4d-53d4-4fa2-ac7d-00fcf1968489\"}}];\n",
       "  root.Bokeh.embed.embed_items_notebook(docs_json, render_items);\n",
       "\n",
       "  }\n",
       "  if (root.Bokeh !== undefined) {\n",
       "    embed_document(root);\n",
       "  } else {\n",
       "    var attempts = 0;\n",
       "    var timer = setInterval(function(root) {\n",
       "      if (root.Bokeh !== undefined) {\n",
       "        clearInterval(timer);\n",
       "        embed_document(root);\n",
       "      } else {\n",
       "        attempts++;\n",
       "        if (attempts > 100) {\n",
       "          clearInterval(timer);\n",
       "          console.log(\"Bokeh: ERROR: Unable to run BokehJS code because BokehJS library is missing\");\n",
       "        }\n",
       "      }\n",
       "    }, 10, root)\n",
       "  }\n",
       "})(window);"
      ],
      "application/vnd.bokehjs_exec.v0+json": ""
     },
     "metadata": {
      "application/vnd.bokehjs_exec.v0+json": {
       "id": "1867"
      }
     },
     "output_type": "display_data"
    }
   ],
   "source": [
    "if analyse_phase == \"training\":\n",
    "    display(Markdown(\"\"\"### Step duration analysis\"\"\"))\n",
    "    report = load_report('StepOutlier')\n",
    "    if report:\n",
    "        parameters = report['RuleParameters']\n",
    "        params = report['RuleParameters'].split('\\n')\n",
    "        stddev = params[3].split(':')[1]\n",
    "        mode = params[1].split(':')[1]\n",
    "        n_outlier = params[2].split(':')[1]\n",
    "        triggered = report['RuleTriggered']\n",
    "        datapoints = report['Datapoints']\n",
    "\n",
    "        text = f\"\"\"The StepOutlier rule measures step durations and checks for outliers. The rule \n",
    "        returns True if duration is larger than {stddev} times the standard deviation. The rule \n",
    "        also takes the parameter mode, that specifies whether steps from training or validation phase \n",
    "        should be checked. In your processing job mode was specified as {mode}. \n",
    "        Typically the first step is taking significantly more time and to avoid the \n",
    "        rule triggering immediately, one can use n_outliers to specify the number of outliers to ignore. \n",
    "        n_outliers was set to {n_outlier}.\n",
    "        The rule analysed {datapoints} datapoints and triggered {triggered} times.\n",
    "        \"\"\"\n",
    "\n",
    "        paragraph = Paragraph(text=text, width=900)\n",
    "        show(column(paragraph))\n",
    "\n",
    "        if report and len(report['Details']['step_details']) > 0:\n",
    "            for node_id in report['Details']['step_details']:\n",
    "                tmp = report['RuleParameters'].split('threshold:')\n",
    "                threshold = tmp[1].split('\\n')[0]\n",
    "                n_outliers = report['Details']['step_details'][node_id]['number_of_outliers']\n",
    "                mean = report['Details']['step_details'][node_id]['step_stats']['mean']\n",
    "                stddev = report['Details']['step_details'][node_id]['stddev']\n",
    "                phase = report['Details']['step_details'][node_id]['phase']\n",
    "                display(Markdown(f\"\"\"**Step durations on node {node_id}:**\"\"\"))\n",
    "                display(Markdown(f\"\"\"The following table is a summary of the statistics of step durations measured on node {node_id}.\n",
    "                The rule has analyzed the step duration from {phase} phase.\n",
    "                The average step duration on node {node_id} was {round(mean, 2)}s. \n",
    "                The rule detected {n_outliers} outliers, where step duration was larger than {threshold} times the standard deviation of {stddev}s\n",
    "                                 \\n\"\"\"))\n",
    "                step_stats_df = pd.DataFrame.from_dict(report['Details']['step_details'][node_id]['step_stats'], orient='index').T\n",
    "                step_stats_df.index = ['Step Durations in [s]']\n",
    "                pretty_print(step_stats_df)\n",
    "\n",
    "            display(Markdown(f\"\"\"The following histogram shows the step durations measured on the different nodes. \n",
    "                You can turn on or turn off the visualization of histograms by selecting or unselecting the labels in the legend.\"\"\"))\n",
    "\n",
    "            plot = figure(plot_height=450, \n",
    "                              plot_width=850, \n",
    "                              title=f\"\"\"Step durations\"\"\")  \n",
    "\n",
    "            colors = bokeh.palettes.viridis(len(report['Details']['step_details']))\n",
    "\n",
    "            for index, node_id in enumerate(report['Details']['step_details']):\n",
    "                probs = report['Details']['step_details'][node_id]['probs']\n",
    "                binedges = report['Details']['step_details'][node_id]['binedges']\n",
    "\n",
    "                plot.quad( top=probs,\n",
    "                        bottom=0,\n",
    "                        left=binedges[:-1],\n",
    "                        right=binedges[1:],\n",
    "                        line_color=\"white\",\n",
    "                        fill_color=colors[index],\n",
    "                        fill_alpha=0.7,\n",
    "                        legend=node_id)\n",
    "\n",
    "            plot.add_layout(Legend(), 'right')    \n",
    "            plot.y_range.start = 0\n",
    "            plot.xaxis.axis_label = f\"\"\"Step durations in [s]\"\"\"\n",
    "            plot.yaxis.axis_label = \"Occurrences\"\n",
    "            plot.grid.grid_line_color = \"white\"\n",
    "            plot.legend.click_policy=\"hide\"\n",
    "            plot.legend.location = 'center_right'\n",
    "            show(plot)\n",
    "\n",
    "        if report['RuleTriggered'] > 0:\n",
    "\n",
    "            text=f\"\"\"To get a better understanding of what may have caused those outliers,\n",
    "            we correlate the timestamps of step outliers with other framework metrics that happened at the same time.\n",
    "            The left chart shows how much time was spent in the different framework\n",
    "            metrics aggregated by event phase. The chart on the right shows the histogram of normal step durations (without\n",
    "            outliers). The following chart shows how much time was spent in the different \n",
    "            framework metrics when step outliers occurred. In this chart framework metrics are not aggregated byphase.\"\"\"\n",
    "            plots = []\n",
    "            if 'phase' in report['Details']:\n",
    "                text = f\"\"\"{text} The chart (in the middle) shows whether step outliers mainly happened during TRAIN or EVAL phase.\n",
    "                \"\"\"\n",
    "\n",
    "                plot = create_piechart(report['Details']['phase'], \n",
    "                                    height=350,\n",
    "                                    width=600,\n",
    "                                    x1=0.2,\n",
    "                                    x2=0.6,\n",
    "                                    radius=0.3, \n",
    "                                    title=\"The ratio between the time spent on the TRAIN/EVAL phase\")\n",
    "                plots.append(plot)\n",
    "\n",
    "            if 'forward_backward' in report['Details'] and  len(report['Details']['forward_backward']) > 0:\n",
    "\n",
    "                event = max(report['Details']['forward_backward'], key=report['Details']['forward_backward'].get)\n",
    "                perc = report['Details']['forward_backward'][event]\n",
    "\n",
    "                text = f\"\"\"{text} The pie chart on the right shows a detailed breakdown. \n",
    "                It shows that {int(perc)}% of the training time was spent on event \"{event}\".\"\"\"\n",
    "\n",
    "                plot = create_piechart(report['Details']['forward_backward'], \n",
    "                                    height=350,\n",
    "                                    width=600,\n",
    "                                    x1=0.2,\n",
    "                                    x2=0.6,\n",
    "                                    radius=0.3, \n",
    "                                    title=\"The Ratio between forward and backward pass\") \n",
    "                plots.append(plot)\n",
    "\n",
    "            if len(plots) > 0:\n",
    "                paragraph = Paragraph(text=text, width=900)\n",
    "                show(column(paragraph, row(plots)))\n",
    "\n",
    "            plots = []\n",
    "            text = \"\"\n",
    "            if 'ratio' in report['Details'] and len(report['Details']['ratio']) > 0:\n",
    "\n",
    "                key = list(report['Details']['ratio'].keys())[0]\n",
    "                ratio = report['Details']['ratio'][key]\n",
    "\n",
    "                text = f\"\"\"The following pie chart shows a breakdown of the CPU/GPU operators executed during the step outliers. \n",
    "                    It shows that {int(ratio)}% of the training time was spent on executing operators in \"{key}\".\"\"\"\n",
    "\n",
    "                plot = create_piechart(report['Details']['ratio'], \n",
    "                                        height=350,\n",
    "                                        width=600,\n",
    "                                        x1=0.2,\n",
    "                                        x2=0.6,\n",
    "                                        radius=0.3, \n",
    "                                        title=\"The ratio between CPU/GPU operators\")\n",
    "                plots.append(plot)\n",
    "\n",
    "\n",
    "            if 'general' in report['Details'] and len(report['Details']['general']) > 0:\n",
    "\n",
    "                event = max(report['Details']['general'], key=report['Details']['general'].get)\n",
    "                perc = report['Details']['general'][event]\n",
    "\n",
    "                plot = create_piechart(report['Details']['general'], \n",
    "                                    height=350,\n",
    "                                    width=600,\n",
    "                                    x1=0.2,\n",
    "                                    x2=0.6,\n",
    "                                    radius=0.3, \n",
    "                                    title=\"General metrics recorded in framework \")\n",
    "                plots.append(plot)\n",
    "\n",
    "            if len(plots) > 0:\n",
    "                paragraph = Paragraph(text=text, width=900)\n",
    "                show(column(paragraph, row(plots)))\n",
    "\n",
    "            plots = []\n",
    "            text = \"\"\n",
    "            if 'horovod' in report['Details'] and len(report['Details']['horovod']) > 0:\n",
    "\n",
    "                event = max(report['Details']['horovod'], key=report['Details']['horovod'].get)\n",
    "                perc = report['Details']['horovod'][event]\n",
    "                text = f\"\"\"The following pie chart shows a detailed breakdown of the Horovod metrics that have been\n",
    "                recorded when step outliers happened. The most expensive function was {event} with {int(perc)}%\"\"\"\n",
    "\n",
    "                plot = create_piechart(report['Details']['horovod'], \n",
    "                                    height=350,\n",
    "                                    width=600,\n",
    "                                    x1=0.2,\n",
    "                                    x2=0.6,\n",
    "                                    radius=0.3, \n",
    "                                    title=\"General metrics recorded in framework \")\n",
    "\n",
    "                paragraph = Paragraph(text=text, width=900)\n",
    "                show(column(paragraph, row(plot)))      "
   ]
  },
  {
   "cell_type": "code",
   "execution_count": 23,
   "metadata": {
    "execution": {
     "iopub.execute_input": "2021-12-03T21:44:35.197616Z",
     "iopub.status.busy": "2021-12-03T21:44:35.192419Z",
     "iopub.status.idle": "2021-12-03T21:44:35.304815Z",
     "shell.execute_reply": "2021-12-03T21:44:35.304320Z"
    },
    "papermill": {
     "duration": 0.140505,
     "end_time": "2021-12-03T21:44:35.304966",
     "exception": false,
     "start_time": "2021-12-03T21:44:35.164461",
     "status": "completed"
    },
    "tags": [
     "hide-input"
    ]
   },
   "outputs": [
    {
     "data": {
      "text/markdown": [
       "### GPU utilization analysis\n",
       "\n"
      ],
      "text/plain": [
       "<IPython.core.display.Markdown object>"
      ]
     },
     "metadata": {},
     "output_type": "display_data"
    },
    {
     "data": {
      "text/markdown": [
       "**Usage per GPU** \n",
       "\n"
      ],
      "text/plain": [
       "<IPython.core.display.Markdown object>"
      ]
     },
     "metadata": {},
     "output_type": "display_data"
    },
    {
     "data": {
      "text/html": [
       "\n",
       "\n",
       "\n",
       "\n",
       "\n",
       "\n",
       "  <div class=\"bk-root\" id=\"168880ef-e767-4b85-9392-0543dff9b9e8\" data-root-id=\"2031\"></div>\n"
      ]
     },
     "metadata": {},
     "output_type": "display_data"
    },
    {
     "data": {
      "application/javascript": [
       "(function(root) {\n",
       "  function embed_document(root) {\n",
       "    \n",
       "  var docs_json = {\"a7b0b2a5-eaf5-4cd7-9e50-1b03248a52a8\":{\"roots\":{\"references\":[{\"attributes\":{\"text\":\"The LowGPUUtilization rule checks for a low and fluctuating GPU usage. If the GPU usage is \\n        consistently low, it might be caused by bottlenecks or a small batch size. If usage is heavily \\n        fluctuating, it can be due to bottlenecks or blocking calls. The rule computed the 95th and 5th \\n        percentile of GPU utilization on 500 continuous datapoints and found 15 cases where \\n        p95 was above 70% and p5 was below 10%. If p95 is high and p5 is low,\\n        it might indicate that the GPU usage is highly fluctuating. If both values are very low, \\n        it would mean that the machine is underutilized. During initialization, the GPU usage is likely zero, \\n        so the rule skipped the first 1000 data points.\\n        The rule analysed 2776 datapoints and triggered 15 times.\",\"width\":800},\"id\":\"2031\",\"type\":\"Paragraph\"}],\"root_ids\":[\"2031\"]},\"title\":\"Bokeh Application\",\"version\":\"2.2.3\"}};\n",
       "  var render_items = [{\"docid\":\"a7b0b2a5-eaf5-4cd7-9e50-1b03248a52a8\",\"root_ids\":[\"2031\"],\"roots\":{\"2031\":\"168880ef-e767-4b85-9392-0543dff9b9e8\"}}];\n",
       "  root.Bokeh.embed.embed_items_notebook(docs_json, render_items);\n",
       "\n",
       "  }\n",
       "  if (root.Bokeh !== undefined) {\n",
       "    embed_document(root);\n",
       "  } else {\n",
       "    var attempts = 0;\n",
       "    var timer = setInterval(function(root) {\n",
       "      if (root.Bokeh !== undefined) {\n",
       "        clearInterval(timer);\n",
       "        embed_document(root);\n",
       "      } else {\n",
       "        attempts++;\n",
       "        if (attempts > 100) {\n",
       "          clearInterval(timer);\n",
       "          console.log(\"Bokeh: ERROR: Unable to run BokehJS code because BokehJS library is missing\");\n",
       "        }\n",
       "      }\n",
       "    }, 10, root)\n",
       "  }\n",
       "})(window);"
      ],
      "application/vnd.bokehjs_exec.v0+json": ""
     },
     "metadata": {
      "application/vnd.bokehjs_exec.v0+json": {
       "id": "2031"
      }
     },
     "output_type": "display_data"
    },
    {
     "data": {
      "text/html": [
       "\n",
       "\n",
       "\n",
       "\n",
       "\n",
       "\n",
       "  <div class=\"bk-root\" id=\"586cb8fb-a96d-4bf3-8129-f6fca74bd116\" data-root-id=\"2107\"></div>\n"
      ]
     },
     "metadata": {},
     "output_type": "display_data"
    },
    {
     "data": {
      "application/javascript": [
       "(function(root) {\n",
       "  function embed_document(root) {\n",
       "    \n",
       "  var docs_json = {\"97897463-f036-4984-aed7-309c577218c7\":{\"roots\":{\"references\":[{\"attributes\":{\"text\":\"Your training job is underutilizing the instance. You may want to consider\\n            to either switch to a smaller instance type or to increase the batch size. \\n            The last time that the LowGPUUtilization rule was triggered in your training job was on 12/03/2021 at 21:43:00.\\n            The following boxplots are a snapshot from the timestamps. \\n            They show the utilization per GPU (without outliers).\\n            To get a better understanding of the workloads throughout the whole training,\\n            you can check the workload histogram in the next section.\",\"width\":800},\"id\":\"2107\",\"type\":\"Paragraph\"}],\"root_ids\":[\"2107\"]},\"title\":\"Bokeh Application\",\"version\":\"2.2.3\"}};\n",
       "  var render_items = [{\"docid\":\"97897463-f036-4984-aed7-309c577218c7\",\"root_ids\":[\"2107\"],\"roots\":{\"2107\":\"586cb8fb-a96d-4bf3-8129-f6fca74bd116\"}}];\n",
       "  root.Bokeh.embed.embed_items_notebook(docs_json, render_items);\n",
       "\n",
       "  }\n",
       "  if (root.Bokeh !== undefined) {\n",
       "    embed_document(root);\n",
       "  } else {\n",
       "    var attempts = 0;\n",
       "    var timer = setInterval(function(root) {\n",
       "      if (root.Bokeh !== undefined) {\n",
       "        clearInterval(timer);\n",
       "        embed_document(root);\n",
       "      } else {\n",
       "        attempts++;\n",
       "        if (attempts > 100) {\n",
       "          clearInterval(timer);\n",
       "          console.log(\"Bokeh: ERROR: Unable to run BokehJS code because BokehJS library is missing\");\n",
       "        }\n",
       "      }\n",
       "    }, 10, root)\n",
       "  }\n",
       "})(window);"
      ],
      "application/vnd.bokehjs_exec.v0+json": ""
     },
     "metadata": {
      "application/vnd.bokehjs_exec.v0+json": {
       "id": "2107"
      }
     },
     "output_type": "display_data"
    },
    {
     "data": {
      "text/markdown": [
       "**GPU utilization of gpu0 on node algo-1:**"
      ],
      "text/plain": [
       "<IPython.core.display.Markdown object>"
      ]
     },
     "metadata": {},
     "output_type": "display_data"
    },
    {
     "data": {
      "text/html": [
       "\n",
       "\n",
       "\n",
       "\n",
       "\n",
       "\n",
       "  <div class=\"bk-root\" id=\"2c2b8942-5136-42c6-9f90-2197a692863f\" data-root-id=\"2241\"></div>\n"
      ]
     },
     "metadata": {},
     "output_type": "display_data"
    },
    {
     "data": {
      "application/javascript": [
       "(function(root) {\n",
       "  function embed_document(root) {\n",
       "    \n",
       "  var docs_json = {\"8104b46f-326e-4fbc-bb86-56b0813777bc\":{\"roots\":{\"references\":[{\"attributes\":{\"text\":\" The max utilization of gpu0 on node algo-1 was 0.0% and the 95th percentile was only 0.0%. \\n                        gpu0 on node algo-1 is underutilized and the 5th percentile was only 0.0%\",\"width\":900},\"id\":\"2241\",\"type\":\"Paragraph\"}],\"root_ids\":[\"2241\"]},\"title\":\"Bokeh Application\",\"version\":\"2.2.3\"}};\n",
       "  var render_items = [{\"docid\":\"8104b46f-326e-4fbc-bb86-56b0813777bc\",\"root_ids\":[\"2241\"],\"roots\":{\"2241\":\"2c2b8942-5136-42c6-9f90-2197a692863f\"}}];\n",
       "  root.Bokeh.embed.embed_items_notebook(docs_json, render_items);\n",
       "\n",
       "  }\n",
       "  if (root.Bokeh !== undefined) {\n",
       "    embed_document(root);\n",
       "  } else {\n",
       "    var attempts = 0;\n",
       "    var timer = setInterval(function(root) {\n",
       "      if (root.Bokeh !== undefined) {\n",
       "        clearInterval(timer);\n",
       "        embed_document(root);\n",
       "      } else {\n",
       "        attempts++;\n",
       "        if (attempts > 100) {\n",
       "          clearInterval(timer);\n",
       "          console.log(\"Bokeh: ERROR: Unable to run BokehJS code because BokehJS library is missing\");\n",
       "        }\n",
       "      }\n",
       "    }, 10, root)\n",
       "  }\n",
       "})(window);"
      ],
      "application/vnd.bokehjs_exec.v0+json": ""
     },
     "metadata": {
      "application/vnd.bokehjs_exec.v0+json": {
       "id": "2241"
      }
     },
     "output_type": "display_data"
    },
    {
     "data": {
      "text/html": [
       "\n",
       "\n",
       "\n",
       "\n",
       "\n",
       "\n",
       "  <div class=\"bk-root\" id=\"15b904e9-a5af-4b5c-8c37-18d6f8f27975\" data-root-id=\"2183\"></div>\n"
      ]
     },
     "metadata": {},
     "output_type": "display_data"
    },
    {
     "data": {
      "application/javascript": [
       "(function(root) {\n",
       "  function embed_document(root) {\n",
       "    \n",
       "  var docs_json = {\"4722a8c0-4360-4431-a115-8ecf59322fe7\":{\"roots\":{\"references\":[{\"attributes\":{\"below\":[{\"id\":\"2194\"}],\"center\":[{\"id\":\"2197\"},{\"id\":\"2201\"}],\"left\":[{\"id\":\"2198\"}],\"plot_height\":350,\"plot_width\":1000,\"renderers\":[{\"id\":\"2214\"},{\"id\":\"2219\"},{\"id\":\"2224\"},{\"id\":\"2229\"},{\"id\":\"2234\"},{\"id\":\"2239\"}],\"title\":{\"id\":\"2184\"},\"toolbar\":{\"id\":\"2206\"},\"x_range\":{\"id\":\"2186\"},\"x_scale\":{\"id\":\"2190\"},\"y_range\":{\"id\":\"2188\"},\"y_scale\":{\"id\":\"2192\"}},\"id\":\"2183\",\"subtype\":\"Figure\",\"type\":\"Plot\"},{\"attributes\":{},\"id\":\"2399\",\"type\":\"Selection\"},{\"attributes\":{},\"id\":\"2406\",\"type\":\"UnionRenderers\"},{\"attributes\":{\"data_source\":{\"id\":\"2211\"},\"glyph\":{\"id\":\"2212\"},\"hover_glyph\":null,\"muted_glyph\":null,\"nonselection_glyph\":{\"id\":\"2213\"},\"selection_glyph\":null,\"view\":{\"id\":\"2215\"}},\"id\":\"2214\",\"type\":\"GlyphRenderer\"},{\"attributes\":{\"data_source\":{\"id\":\"2226\"},\"glyph\":{\"id\":\"2227\"},\"hover_glyph\":null,\"muted_glyph\":null,\"nonselection_glyph\":{\"id\":\"2228\"},\"selection_glyph\":null,\"view\":{\"id\":\"2230\"}},\"id\":\"2229\",\"type\":\"GlyphRenderer\"},{\"attributes\":{\"text\":\"Node algo-1\"},\"id\":\"2184\",\"type\":\"Title\"},{\"attributes\":{\"axis\":{\"id\":\"2198\"},\"dimension\":1,\"grid_line_color\":\"white\",\"grid_line_width\":0,\"ticker\":null},\"id\":\"2201\",\"type\":\"Grid\"},{\"attributes\":{\"active_drag\":\"auto\",\"active_inspect\":\"auto\",\"active_multi\":null,\"active_scroll\":\"auto\",\"active_tap\":\"auto\",\"tools\":[{\"id\":\"2202\"},{\"id\":\"2203\"},{\"id\":\"2204\"},{\"id\":\"2205\"}]},\"id\":\"2206\",\"type\":\"Toolbar\"},{\"attributes\":{\"source\":{\"id\":\"2226\"}},\"id\":\"2230\",\"type\":\"CDSView\"},{\"attributes\":{\"line_alpha\":{\"value\":0.1},\"x0\":{\"value\":1},\"x1\":{\"value\":1},\"y0\":{\"value\":0.0},\"y1\":{\"value\":0.0}},\"id\":\"2213\",\"type\":\"Segment\"},{\"attributes\":{\"x0\":{\"value\":1},\"x1\":{\"value\":1},\"y0\":{\"value\":0.0},\"y1\":{\"value\":0.0}},\"id\":\"2217\",\"type\":\"Segment\"},{\"attributes\":{\"fill_color\":{\"value\":\"#1f77b4\"},\"height\":{\"units\":\"data\",\"value\":0.01},\"width\":{\"units\":\"data\",\"value\":0.2},\"x\":{\"value\":1},\"y\":{\"value\":0.0}},\"id\":\"2232\",\"type\":\"Rect\"},{\"attributes\":{},\"id\":\"2398\",\"type\":\"UnionRenderers\"},{\"attributes\":{\"data_source\":{\"id\":\"2231\"},\"glyph\":{\"id\":\"2232\"},\"hover_glyph\":null,\"muted_glyph\":null,\"nonselection_glyph\":{\"id\":\"2233\"},\"selection_glyph\":null,\"view\":{\"id\":\"2235\"}},\"id\":\"2234\",\"type\":\"GlyphRenderer\"},{\"attributes\":{\"data\":{},\"selected\":{\"id\":\"2401\"},\"selection_policy\":{\"id\":\"2400\"}},\"id\":\"2216\",\"type\":\"ColumnDataSource\"},{\"attributes\":{\"fill_alpha\":{\"value\":0.1},\"fill_color\":{\"value\":\"#440154\"},\"line_alpha\":{\"value\":0.1},\"top\":{\"value\":0.0},\"width\":{\"value\":0.7},\"x\":{\"value\":1}},\"id\":\"2228\",\"type\":\"VBar\"},{\"attributes\":{\"source\":{\"id\":\"2211\"}},\"id\":\"2215\",\"type\":\"CDSView\"},{\"attributes\":{\"data\":{},\"selected\":{\"id\":\"2403\"},\"selection_policy\":{\"id\":\"2402\"}},\"id\":\"2221\",\"type\":\"ColumnDataSource\"},{\"attributes\":{\"data\":{},\"selected\":{\"id\":\"2407\"},\"selection_policy\":{\"id\":\"2406\"}},\"id\":\"2231\",\"type\":\"ColumnDataSource\"},{\"attributes\":{\"fill_alpha\":{\"value\":0.1},\"fill_color\":{\"value\":\"#1f77b4\"},\"height\":{\"units\":\"data\",\"value\":0.01},\"line_alpha\":{\"value\":0.1},\"width\":{\"units\":\"data\",\"value\":0.2},\"x\":{\"value\":1},\"y\":{\"value\":0.0}},\"id\":\"2233\",\"type\":\"Rect\"},{\"attributes\":{\"callback\":null},\"id\":\"2202\",\"type\":\"HoverTool\"},{\"attributes\":{},\"id\":\"2409\",\"type\":\"Selection\"},{\"attributes\":{\"line_alpha\":{\"value\":0.1},\"x0\":{\"value\":1},\"x1\":{\"value\":1},\"y0\":{\"value\":0.0},\"y1\":{\"value\":0.0}},\"id\":\"2218\",\"type\":\"Segment\"},{\"attributes\":{},\"id\":\"2203\",\"type\":\"WheelZoomTool\"},{\"attributes\":{},\"id\":\"2408\",\"type\":\"UnionRenderers\"},{\"attributes\":{\"data\":{},\"selected\":{\"id\":\"2399\"},\"selection_policy\":{\"id\":\"2398\"}},\"id\":\"2211\",\"type\":\"ColumnDataSource\"},{\"attributes\":{\"source\":{\"id\":\"2216\"}},\"id\":\"2220\",\"type\":\"CDSView\"},{\"attributes\":{\"fill_alpha\":{\"value\":0.1},\"fill_color\":{\"value\":\"#1f77b4\"},\"height\":{\"units\":\"data\",\"value\":0.01},\"line_alpha\":{\"value\":0.1},\"width\":{\"units\":\"data\",\"value\":0.2},\"x\":{\"value\":1},\"y\":{\"value\":0.0}},\"id\":\"2238\",\"type\":\"Rect\"},{\"attributes\":{\"data\":{},\"selected\":{\"id\":\"2405\"},\"selection_policy\":{\"id\":\"2404\"}},\"id\":\"2226\",\"type\":\"ColumnDataSource\"},{\"attributes\":{},\"id\":\"2397\",\"type\":\"BasicTickFormatter\"},{\"attributes\":{},\"id\":\"2204\",\"type\":\"ResetTool\"},{\"attributes\":{\"x0\":{\"value\":1},\"x1\":{\"value\":1},\"y0\":{\"value\":0.0},\"y1\":{\"value\":0.0}},\"id\":\"2212\",\"type\":\"Segment\"},{\"attributes\":{\"fill_color\":{\"value\":\"#FDE725\"},\"top\":{\"value\":0.0},\"width\":{\"value\":0.7},\"x\":{\"value\":1}},\"id\":\"2222\",\"type\":\"VBar\"},{\"attributes\":{\"source\":{\"id\":\"2231\"}},\"id\":\"2235\",\"type\":\"CDSView\"},{\"attributes\":{},\"id\":\"2199\",\"type\":\"BasicTicker\"},{\"attributes\":{},\"id\":\"2205\",\"type\":\"PanTool\"},{\"attributes\":{\"axis_label\":\"Utilization in %\",\"formatter\":{\"id\":\"2397\"},\"ticker\":{\"id\":\"2199\"}},\"id\":\"2198\",\"type\":\"LinearAxis\"},{\"attributes\":{\"data\":{},\"selected\":{\"id\":\"2409\"},\"selection_policy\":{\"id\":\"2408\"}},\"id\":\"2236\",\"type\":\"ColumnDataSource\"},{\"attributes\":{},\"id\":\"2401\",\"type\":\"Selection\"},{\"attributes\":{\"data_source\":{\"id\":\"2216\"},\"glyph\":{\"id\":\"2217\"},\"hover_glyph\":null,\"muted_glyph\":null,\"nonselection_glyph\":{\"id\":\"2218\"},\"selection_glyph\":null,\"view\":{\"id\":\"2220\"}},\"id\":\"2219\",\"type\":\"GlyphRenderer\"},{\"attributes\":{\"fill_color\":{\"value\":\"#1f77b4\"},\"height\":{\"units\":\"data\",\"value\":0.01},\"width\":{\"units\":\"data\",\"value\":0.2},\"x\":{\"value\":1},\"y\":{\"value\":0.0}},\"id\":\"2237\",\"type\":\"Rect\"},{\"attributes\":{\"data_source\":{\"id\":\"2221\"},\"glyph\":{\"id\":\"2222\"},\"hover_glyph\":null,\"muted_glyph\":null,\"nonselection_glyph\":{\"id\":\"2223\"},\"selection_glyph\":null,\"view\":{\"id\":\"2225\"}},\"id\":\"2224\",\"type\":\"GlyphRenderer\"},{\"attributes\":{\"formatter\":{\"id\":\"2395\"},\"major_label_overrides\":{\"1\":\"gpu0\"},\"major_label_text_font_size\":\"10px\",\"ticker\":{\"id\":\"2317\"}},\"id\":\"2194\",\"type\":\"LinearAxis\"},{\"attributes\":{},\"id\":\"2405\",\"type\":\"Selection\"},{\"attributes\":{},\"id\":\"2192\",\"type\":\"LinearScale\"},{\"attributes\":{\"ticks\":[0,1]},\"id\":\"2317\",\"type\":\"FixedTicker\"},{\"attributes\":{\"source\":{\"id\":\"2236\"}},\"id\":\"2240\",\"type\":\"CDSView\"},{\"attributes\":{},\"id\":\"2400\",\"type\":\"UnionRenderers\"},{\"attributes\":{},\"id\":\"2395\",\"type\":\"BasicTickFormatter\"},{\"attributes\":{\"data_source\":{\"id\":\"2236\"},\"glyph\":{\"id\":\"2237\"},\"hover_glyph\":null,\"muted_glyph\":null,\"nonselection_glyph\":{\"id\":\"2238\"},\"selection_glyph\":null,\"view\":{\"id\":\"2240\"}},\"id\":\"2239\",\"type\":\"GlyphRenderer\"},{\"attributes\":{\"fill_color\":{\"value\":\"#440154\"},\"top\":{\"value\":0.0},\"width\":{\"value\":0.7},\"x\":{\"value\":1}},\"id\":\"2227\",\"type\":\"VBar\"},{\"attributes\":{},\"id\":\"2402\",\"type\":\"UnionRenderers\"},{\"attributes\":{\"end\":17},\"id\":\"2186\",\"type\":\"Range1d\"},{\"attributes\":{},\"id\":\"2403\",\"type\":\"Selection\"},{\"attributes\":{},\"id\":\"2190\",\"type\":\"LinearScale\"},{\"attributes\":{\"source\":{\"id\":\"2221\"}},\"id\":\"2225\",\"type\":\"CDSView\"},{\"attributes\":{},\"id\":\"2407\",\"type\":\"Selection\"},{\"attributes\":{\"fill_alpha\":{\"value\":0.1},\"fill_color\":{\"value\":\"#FDE725\"},\"line_alpha\":{\"value\":0.1},\"top\":{\"value\":0.0},\"width\":{\"value\":0.7},\"x\":{\"value\":1}},\"id\":\"2223\",\"type\":\"VBar\"},{\"attributes\":{},\"id\":\"2404\",\"type\":\"UnionRenderers\"},{\"attributes\":{\"axis\":{\"id\":\"2194\"},\"grid_line_color\":null,\"grid_line_width\":0,\"ticker\":null},\"id\":\"2197\",\"type\":\"Grid\"},{\"attributes\":{},\"id\":\"2188\",\"type\":\"DataRange1d\"}],\"root_ids\":[\"2183\"]},\"title\":\"Bokeh Application\",\"version\":\"2.2.3\"}};\n",
       "  var render_items = [{\"docid\":\"4722a8c0-4360-4431-a115-8ecf59322fe7\",\"root_ids\":[\"2183\"],\"roots\":{\"2183\":\"15b904e9-a5af-4b5c-8c37-18d6f8f27975\"}}];\n",
       "  root.Bokeh.embed.embed_items_notebook(docs_json, render_items);\n",
       "\n",
       "  }\n",
       "  if (root.Bokeh !== undefined) {\n",
       "    embed_document(root);\n",
       "  } else {\n",
       "    var attempts = 0;\n",
       "    var timer = setInterval(function(root) {\n",
       "      if (root.Bokeh !== undefined) {\n",
       "        clearInterval(timer);\n",
       "        embed_document(root);\n",
       "      } else {\n",
       "        attempts++;\n",
       "        if (attempts > 100) {\n",
       "          clearInterval(timer);\n",
       "          console.log(\"Bokeh: ERROR: Unable to run BokehJS code because BokehJS library is missing\");\n",
       "        }\n",
       "      }\n",
       "    }, 10, root)\n",
       "  }\n",
       "})(window);"
      ],
      "application/vnd.bokehjs_exec.v0+json": ""
     },
     "metadata": {
      "application/vnd.bokehjs_exec.v0+json": {
       "id": "2183"
      }
     },
     "output_type": "display_data"
    }
   ],
   "source": [
    "if analyse_phase == \"training\":\n",
    "    display(Markdown(\"\"\"### GPU utilization analysis\\n\\n\"\"\"))\n",
    "    display(Markdown(\"\"\"**Usage per GPU** \\n\\n\"\"\"))\n",
    "    report = load_report('LowGPUUtilization')\n",
    "    if report:\n",
    "        params = report['RuleParameters'].split('\\n')\n",
    "        threshold_p95 = params[0].split(':')[1]\n",
    "        threshold_p5 = params[1].split(':')[1]\n",
    "        window = params[2].split(':')[1]\n",
    "        patience = params[3].split(':')[1]\n",
    "        violations = report['Violations']\n",
    "        triggered = report['RuleTriggered']\n",
    "        datapoints = report['Datapoints']\n",
    "        \n",
    "        text=Paragraph(text=f\"\"\"The LowGPUUtilization rule checks for a low and fluctuating GPU usage. If the GPU usage is \n",
    "        consistently low, it might be caused by bottlenecks or a small batch size. If usage is heavily \n",
    "        fluctuating, it can be due to bottlenecks or blocking calls. The rule computed the 95th and 5th \n",
    "        percentile of GPU utilization on {window} continuous datapoints and found {violations} cases where \n",
    "        p95 was above {threshold_p95}% and p5 was below {threshold_p5}%. If p95 is high and p5 is low,\n",
    "        it might indicate that the GPU usage is highly fluctuating. If both values are very low, \n",
    "        it would mean that the machine is underutilized. During initialization, the GPU usage is likely zero, \n",
    "        so the rule skipped the first {patience} data points.\n",
    "        The rule analysed {datapoints} datapoints and triggered {triggered} times.\"\"\", width=800)\n",
    "        show(text)\n",
    "\n",
    "        \n",
    "        if len(report['Details']) > 0:\n",
    "            \n",
    "            timestamp = us_since_epoch_to_human_readable_time(report['Details']['last_timestamp'])\n",
    "            date = datetime.datetime.strptime(timestamp, '%Y-%m-%dT%H:%M:%S:%f')\n",
    "            day = date.date().strftime(\"%m/%d/%Y\")\n",
    "            hour = date.time().strftime(\"%H:%M:%S\")\n",
    "            text = Paragraph(text=f\"\"\"Your training job is underutilizing the instance. You may want to consider\n",
    "            to either switch to a smaller instance type or to increase the batch size. \n",
    "            The last time that the LowGPUUtilization rule was triggered in your training job was on {day} at {hour}.\n",
    "            The following boxplots are a snapshot from the timestamps. \n",
    "            They show the utilization per GPU (without outliers).\n",
    "            To get a better understanding of the workloads throughout the whole training,\n",
    "            you can check the workload histogram in the next section.\"\"\", width=800)\n",
    "            show(text)\n",
    "            \n",
    "            del report['Details']['last_timestamp']\n",
    "            \n",
    "            for node_id in report['Details']:\n",
    "                \n",
    "                plot = figure(plot_height=350, \n",
    "                          plot_width=1000,\n",
    "                          toolbar_location='right',\n",
    "                          tools=\"hover,wheel_zoom,reset,pan\", \n",
    "                          title=f\"Node {node_id}\",\n",
    "                          x_range=(0,17),\n",
    "                          )\n",
    "                \n",
    "                for index, key in enumerate(report['Details'][node_id]):\n",
    "                    display(Markdown(f\"\"\"**GPU utilization of {key} on node {node_id}:**\"\"\"))\n",
    "                    text = \"\"\n",
    "                    gpu_max = report['Details'][node_id][key]['gpu_max']\n",
    "                    p_95 = report['Details'][node_id][key]['gpu_95']\n",
    "                    p_5 = report['Details'][node_id][key]['gpu_5']\n",
    "                    text = f\"\"\"{text} The max utilization of {key} on node {node_id} was {gpu_max}%\"\"\"\n",
    "                    if p_95 < int(threshold_p95): \n",
    "                        text = f\"\"\"{text} and the 95th percentile was only {p_95}%. \n",
    "                        {key} on node {node_id} is underutilized\"\"\"\n",
    "                    if p_5 < int(threshold_p5): \n",
    "                        text = f\"\"\"{text} and the 5th percentile was only {p_5}%\"\"\"\n",
    "                    if p_95 - p_5 > 50:\n",
    "                        text = f\"\"\"{text} The difference between 5th percentile {p_5}% and 95th percentile {p_95}% is quite \n",
    "                        significant, which means that utilization on {key} is fluctuating quite a lot.\\n\"\"\"\n",
    "     \n",
    "                    upper = report['Details'][node_id][key]['upper']\n",
    "                    lower = report['Details'][node_id][key]['lower']\n",
    "                    p75 = report['Details'][node_id][key]['p75']\n",
    "                    p25 = report['Details'][node_id][key]['p25']\n",
    "                    p50 = report['Details'][node_id][key]['p50']\n",
    "\n",
    "                    plot.segment(index+1, upper, index+1, p75, line_color=\"black\")\n",
    "                    plot.segment(index+1, lower, index+1, p25, line_color=\"black\")\n",
    "\n",
    "                    plot.vbar(index+1, 0.7, p50, p75, fill_color=\"#FDE725\", line_color=\"black\")\n",
    "                    plot.vbar(index+1, 0.7, p25, p50, fill_color=\"#440154\", line_color=\"black\")\n",
    "\n",
    "                    plot.rect(index+1, lower, 0.2, 0.01, line_color=\"black\")\n",
    "                    plot.rect(index+1, upper, 0.2, 0.01, line_color=\"black\")\n",
    "\n",
    "                    plot.xaxis.major_label_overrides[index+1] = key\n",
    "                    plot.xgrid.grid_line_color = None\n",
    "                    plot.ygrid.grid_line_color = \"white\"\n",
    "                    plot.grid.grid_line_width = 0\n",
    "\n",
    "                    plot.xaxis.major_label_text_font_size=\"10px\"\n",
    "                    text=Paragraph(text=f\"\"\"{text}\"\"\", width=900)\n",
    "                    show(text)\n",
    "                plot.yaxis.axis_label = \"Utilization in %\"\n",
    "                plot.xaxis.ticker = np.arange(index+2)\n",
    "                \n",
    "                show(plot)"
   ]
  },
  {
   "cell_type": "code",
   "execution_count": 24,
   "metadata": {
    "execution": {
     "iopub.execute_input": "2021-12-03T21:44:35.377325Z",
     "iopub.status.busy": "2021-12-03T21:44:35.376731Z",
     "iopub.status.idle": "2021-12-03T21:44:35.441212Z",
     "shell.execute_reply": "2021-12-03T21:44:35.441597Z"
    },
    "papermill": {
     "duration": 0.106958,
     "end_time": "2021-12-03T21:44:35.441750",
     "exception": false,
     "start_time": "2021-12-03T21:44:35.334792",
     "status": "completed"
    },
    "tags": [
     "hide-input"
    ]
   },
   "outputs": [
    {
     "data": {
      "text/markdown": [
       "**Workload balancing**\n",
       "\n"
      ],
      "text/plain": [
       "<IPython.core.display.Markdown object>"
      ]
     },
     "metadata": {},
     "output_type": "display_data"
    },
    {
     "data": {
      "text/html": [
       "\n",
       "\n",
       "\n",
       "\n",
       "\n",
       "\n",
       "  <div class=\"bk-root\" id=\"526c843b-466e-47f9-b54f-a59ed72d24ff\" data-root-id=\"2490\"></div>\n"
      ]
     },
     "metadata": {},
     "output_type": "display_data"
    },
    {
     "data": {
      "application/javascript": [
       "(function(root) {\n",
       "  function embed_document(root) {\n",
       "    \n",
       "  var docs_json = {\"93afd8dc-8631-47a6-a045-30ac623019c2\":{\"roots\":{\"references\":[{\"attributes\":{\"text\":\"The LoadBalancing rule helps to detect issues in workload balancing \\n        between multiple GPUs. \\n        It computes a histogram of GPU utilization values for each GPU and compares then the \\n        similarity between histograms. The rule checked if the distance of histograms is larger than the \\n        threshold of 0.2.\\n        During initialization utilization is likely zero, so the rule skipped the first 1000 data points.\\n        \",\"width\":900},\"id\":\"2490\",\"type\":\"Paragraph\"}],\"root_ids\":[\"2490\"]},\"title\":\"Bokeh Application\",\"version\":\"2.2.3\"}};\n",
       "  var render_items = [{\"docid\":\"93afd8dc-8631-47a6-a045-30ac623019c2\",\"root_ids\":[\"2490\"],\"roots\":{\"2490\":\"526c843b-466e-47f9-b54f-a59ed72d24ff\"}}];\n",
       "  root.Bokeh.embed.embed_items_notebook(docs_json, render_items);\n",
       "\n",
       "  }\n",
       "  if (root.Bokeh !== undefined) {\n",
       "    embed_document(root);\n",
       "  } else {\n",
       "    var attempts = 0;\n",
       "    var timer = setInterval(function(root) {\n",
       "      if (root.Bokeh !== undefined) {\n",
       "        clearInterval(timer);\n",
       "        embed_document(root);\n",
       "      } else {\n",
       "        attempts++;\n",
       "        if (attempts > 100) {\n",
       "          clearInterval(timer);\n",
       "          console.log(\"Bokeh: ERROR: Unable to run BokehJS code because BokehJS library is missing\");\n",
       "        }\n",
       "      }\n",
       "    }, 10, root)\n",
       "  }\n",
       "})(window);"
      ],
      "application/vnd.bokehjs_exec.v0+json": ""
     },
     "metadata": {
      "application/vnd.bokehjs_exec.v0+json": {
       "id": "2490"
      }
     },
     "output_type": "display_data"
    },
    {
     "data": {
      "text/html": [
       "\n",
       "\n",
       "\n",
       "\n",
       "\n",
       "\n",
       "  <div class=\"bk-root\" id=\"e5f7382d-112d-4ef6-8ea1-97bde2810a96\" data-root-id=\"2631\"></div>\n"
      ]
     },
     "metadata": {},
     "output_type": "display_data"
    },
    {
     "data": {
      "application/javascript": [
       "(function(root) {\n",
       "  function embed_document(root) {\n",
       "    \n",
       "  var docs_json = {\"ff1298b6-8701-468f-813c-9c1aa62d08dd\":{\"roots\":{\"references\":[{\"attributes\":{\"children\":[{\"id\":\"2630\"},{\"id\":\"2582\"}]},\"id\":\"2631\",\"type\":\"Column\"},{\"attributes\":{},\"id\":\"2604\",\"type\":\"SaveTool\"},{\"attributes\":{},\"id\":\"2605\",\"type\":\"ResetTool\"},{\"attributes\":{},\"id\":\"2625\",\"type\":\"UnionRenderers\"},{\"attributes\":{},\"id\":\"2624\",\"type\":\"BasicTickFormatter\"},{\"attributes\":{},\"id\":\"2622\",\"type\":\"BasicTickFormatter\"},{\"attributes\":{},\"id\":\"2606\",\"type\":\"HelpTool\"},{\"attributes\":{\"below\":[{\"id\":\"2593\"}],\"center\":[{\"id\":\"2596\"},{\"id\":\"2600\"},{\"id\":\"2628\"}],\"left\":[{\"id\":\"2597\"}],\"plot_height\":450,\"plot_width\":850,\"renderers\":[{\"id\":\"2618\"}],\"title\":{\"id\":\"2583\"},\"toolbar\":{\"id\":\"2608\"},\"x_range\":{\"id\":\"2585\"},\"x_scale\":{\"id\":\"2589\"},\"y_range\":{\"id\":\"2587\"},\"y_scale\":{\"id\":\"2591\"}},\"id\":\"2582\",\"subtype\":\"Figure\",\"type\":\"Plot\"},{\"attributes\":{},\"id\":\"2626\",\"type\":\"Selection\"},{\"attributes\":{},\"id\":\"2598\",\"type\":\"BasicTicker\"},{\"attributes\":{\"text\":\"Workloads on node algo-1\"},\"id\":\"2583\",\"type\":\"Title\"},{\"attributes\":{},\"id\":\"2591\",\"type\":\"LinearScale\"},{\"attributes\":{\"data\":{\"left\":[0,2,4,6,8,10,12,14,16,18,20,22,24,26,28,30,32,34,36,38,40,42,44,46,48,50,52,54,56,58,60,62,64,66,68,70,72,74,76,78,80,82,84,86,88,90,92,94,96],\"right\":[2,4,6,8,10,12,14,16,18,20,22,24,26,28,30,32,34,36,38,40,42,44,46,48,50,52,54,56,58,60,62,64,66,68,70,72,74,76,78,80,82,84,86,88,90,92,94,96,98],\"top\":[2776,0,0,0,0,0,0,0,0,0,0,0,0,0,0,0,0,0,0,0,0,0,0,0,0,0,0,0,0,0,0,0,0,0,0,0,0,0,0,0,0,0,0,0,0,0,0,0,0]},\"selected\":{\"id\":\"2626\"},\"selection_policy\":{\"id\":\"2625\"}},\"id\":\"2615\",\"type\":\"ColumnDataSource\"},{\"attributes\":{\"text\":\"The following histogram shows the workload per GPU on node algo-1. \\n                You can enable/disable the visualization of a workload by clicking on the label in the legend.\\n                 Your training job only used one GPU so there is no workload balancing issue.\"},\"id\":\"2630\",\"type\":\"Paragraph\"},{\"attributes\":{},\"id\":\"2594\",\"type\":\"BasicTicker\"},{\"attributes\":{\"bottom\":{\"value\":0},\"fill_alpha\":{\"value\":0.8},\"fill_color\":{\"value\":\"#440154\"},\"left\":{\"field\":\"left\"},\"line_color\":{\"value\":\"white\"},\"right\":{\"field\":\"right\"},\"top\":{\"field\":\"top\"}},\"id\":\"2616\",\"type\":\"Quad\"},{\"attributes\":{\"axis_label\":\"Utilization\",\"formatter\":{\"id\":\"2622\"},\"ticker\":{\"id\":\"2594\"}},\"id\":\"2593\",\"type\":\"LinearAxis\"},{\"attributes\":{\"axis\":{\"id\":\"2597\"},\"dimension\":1,\"grid_line_color\":\"white\",\"ticker\":null},\"id\":\"2600\",\"type\":\"Grid\"},{\"attributes\":{\"axis\":{\"id\":\"2593\"},\"grid_line_color\":\"white\",\"ticker\":null},\"id\":\"2596\",\"type\":\"Grid\"},{\"attributes\":{\"axis_label\":\"Occurrences\",\"formatter\":{\"id\":\"2624\"},\"ticker\":{\"id\":\"2598\"}},\"id\":\"2597\",\"type\":\"LinearAxis\"},{\"attributes\":{\"start\":0},\"id\":\"2587\",\"type\":\"DataRange1d\"},{\"attributes\":{\"bottom_units\":\"screen\",\"fill_alpha\":0.5,\"fill_color\":\"lightgrey\",\"left_units\":\"screen\",\"level\":\"overlay\",\"line_alpha\":1.0,\"line_color\":\"black\",\"line_dash\":[4,4],\"line_width\":2,\"right_units\":\"screen\",\"top_units\":\"screen\"},\"id\":\"2607\",\"type\":\"BoxAnnotation\"},{\"attributes\":{\"active_drag\":\"auto\",\"active_inspect\":\"auto\",\"active_multi\":null,\"active_scroll\":\"auto\",\"active_tap\":\"auto\",\"tools\":[{\"id\":\"2601\"},{\"id\":\"2602\"},{\"id\":\"2603\"},{\"id\":\"2604\"},{\"id\":\"2605\"},{\"id\":\"2606\"}]},\"id\":\"2608\",\"type\":\"Toolbar\"},{\"attributes\":{\"end\":100,\"start\":-1},\"id\":\"2585\",\"type\":\"Range1d\"},{\"attributes\":{\"click_policy\":\"hide\",\"items\":[{\"id\":\"2629\"}]},\"id\":\"2628\",\"type\":\"Legend\"},{\"attributes\":{\"source\":{\"id\":\"2615\"}},\"id\":\"2619\",\"type\":\"CDSView\"},{\"attributes\":{},\"id\":\"2601\",\"type\":\"PanTool\"},{\"attributes\":{},\"id\":\"2589\",\"type\":\"LinearScale\"},{\"attributes\":{},\"id\":\"2602\",\"type\":\"WheelZoomTool\"},{\"attributes\":{\"label\":{\"value\":\"gpu0\"},\"renderers\":[{\"id\":\"2618\"}]},\"id\":\"2629\",\"type\":\"LegendItem\"},{\"attributes\":{\"bottom\":{\"value\":0},\"fill_alpha\":{\"value\":0.1},\"fill_color\":{\"value\":\"#440154\"},\"left\":{\"field\":\"left\"},\"line_alpha\":{\"value\":0.1},\"line_color\":{\"value\":\"white\"},\"right\":{\"field\":\"right\"},\"top\":{\"field\":\"top\"}},\"id\":\"2617\",\"type\":\"Quad\"},{\"attributes\":{\"overlay\":{\"id\":\"2607\"}},\"id\":\"2603\",\"type\":\"BoxZoomTool\"},{\"attributes\":{\"data_source\":{\"id\":\"2615\"},\"glyph\":{\"id\":\"2616\"},\"hover_glyph\":null,\"muted_glyph\":null,\"nonselection_glyph\":{\"id\":\"2617\"},\"selection_glyph\":null,\"view\":{\"id\":\"2619\"}},\"id\":\"2618\",\"type\":\"GlyphRenderer\"}],\"root_ids\":[\"2631\"]},\"title\":\"Bokeh Application\",\"version\":\"2.2.3\"}};\n",
       "  var render_items = [{\"docid\":\"ff1298b6-8701-468f-813c-9c1aa62d08dd\",\"root_ids\":[\"2631\"],\"roots\":{\"2631\":\"e5f7382d-112d-4ef6-8ea1-97bde2810a96\"}}];\n",
       "  root.Bokeh.embed.embed_items_notebook(docs_json, render_items);\n",
       "\n",
       "  }\n",
       "  if (root.Bokeh !== undefined) {\n",
       "    embed_document(root);\n",
       "  } else {\n",
       "    var attempts = 0;\n",
       "    var timer = setInterval(function(root) {\n",
       "      if (root.Bokeh !== undefined) {\n",
       "        clearInterval(timer);\n",
       "        embed_document(root);\n",
       "      } else {\n",
       "        attempts++;\n",
       "        if (attempts > 100) {\n",
       "          clearInterval(timer);\n",
       "          console.log(\"Bokeh: ERROR: Unable to run BokehJS code because BokehJS library is missing\");\n",
       "        }\n",
       "      }\n",
       "    }, 10, root)\n",
       "  }\n",
       "})(window);"
      ],
      "application/vnd.bokehjs_exec.v0+json": ""
     },
     "metadata": {
      "application/vnd.bokehjs_exec.v0+json": {
       "id": "2631"
      }
     },
     "output_type": "display_data"
    }
   ],
   "source": [
    " \n",
    "if analyse_phase == \"training\": \n",
    "    display(Markdown(\"\"\"**Workload balancing**\\n\\n\"\"\")) \n",
    "    report = load_report('LoadBalancing')\n",
    "    if report:\n",
    "        params = report['RuleParameters'].split('\\n')\n",
    "        threshold = params[0].split(':')[1]\n",
    "        patience = params[1].split(':')[1]\n",
    "        triggered = report['RuleTriggered']\n",
    "        datapoints = report['Datapoints']\n",
    "    \n",
    "        paragraph = Paragraph(text=f\"\"\"The LoadBalancing rule helps to detect issues in workload balancing \n",
    "        between multiple GPUs. \n",
    "        It computes a histogram of GPU utilization values for each GPU and compares then the \n",
    "        similarity between histograms. The rule checked if the distance of histograms is larger than the \n",
    "        threshold of {threshold}.\n",
    "        During initialization utilization is likely zero, so the rule skipped the first {patience} data points.\n",
    "        \"\"\", width=900)\n",
    "        show(paragraph)\n",
    "        \n",
    "        if len(report['Details']) > 0:\n",
    "            for node_id in report['Details']: \n",
    "                \n",
    "                \n",
    "                text = f\"\"\"The following histogram shows the workload per GPU on node {node_id}. \n",
    "                You can enable/disable the visualization of a workload by clicking on the label in the legend.\n",
    "                \"\"\"\n",
    "                if len(report['Details']) == 1 and len(report['Details'][node_id]['workloads']) == 1:\n",
    "                    text = f\"\"\"{text} Your training job only used one GPU so there is no workload balancing issue.\"\"\"\n",
    "                \n",
    "                plot = figure(plot_height=450, \n",
    "                              plot_width=850, \n",
    "                              x_range=(-1,100),\n",
    "                              title=f\"\"\"Workloads on node {node_id}\"\"\")\n",
    "                \n",
    "                colors = bokeh.palettes.viridis(len(report['Details'][node_id]['workloads']))\n",
    "                \n",
    "                for index, gpu_id2 in enumerate(report['Details'][node_id]['workloads']):\n",
    "                    probs = report['Details'][node_id]['workloads'][gpu_id2]\n",
    "                    plot.quad( top=probs,\n",
    "                                bottom=0,\n",
    "                                left=np.arange(0,98,2),\n",
    "                                right=np.arange(2,100,2),\n",
    "                                line_color=\"white\",\n",
    "                                fill_color=colors[index],\n",
    "                                fill_alpha=0.8,\n",
    "                                legend=gpu_id2 )\n",
    "\n",
    "                    plot.y_range.start = 0\n",
    "                    plot.xaxis.axis_label = f\"\"\"Utilization\"\"\"\n",
    "                    plot.yaxis.axis_label = \"Occurrences\"\n",
    "                    plot.grid.grid_line_color = \"white\"\n",
    "                    plot.legend.click_policy=\"hide\"\n",
    "                \n",
    "                paragraph = Paragraph(text=text)\n",
    "                show(column(paragraph, plot))\n",
    "                \n",
    "                if \"distances\" in report['Details'][node_id]:\n",
    "                    text = f\"\"\"The rule identified workload balancing issues on node {node_id} \n",
    "                    where workloads differed by more than threshold {threshold}. \n",
    "                    \"\"\"\n",
    "                    for index, gpu_id2 in enumerate(report['Details'][node_id]['distances']):\n",
    "                        for gpu_id1 in report['Details'][node_id]['distances'][gpu_id2]:\n",
    "                            distance = round(report['Details'][node_id]['distances'][gpu_id2][gpu_id1], 2)\n",
    "                            text = f\"\"\"{text} The difference of workload between {gpu_id2} and {gpu_id1} is: {distance}.\"\"\"\n",
    "\n",
    "                    paragraph = Paragraph(text=f\"\"\"{text}\"\"\", width=900)\n",
    "                    show(column(paragraph))"
   ]
  },
  {
   "cell_type": "code",
   "execution_count": 25,
   "metadata": {
    "execution": {
     "iopub.execute_input": "2021-12-03T21:44:35.516611Z",
     "iopub.status.busy": "2021-12-03T21:44:35.516043Z",
     "iopub.status.idle": "2021-12-03T21:44:35.601586Z",
     "shell.execute_reply": "2021-12-03T21:44:35.601977Z"
    },
    "papermill": {
     "duration": 0.129403,
     "end_time": "2021-12-03T21:44:35.602120",
     "exception": false,
     "start_time": "2021-12-03T21:44:35.472717",
     "status": "completed"
    },
    "scrolled": true,
    "tags": [
     "hide-input"
    ]
   },
   "outputs": [
    {
     "data": {
      "text/markdown": [
       "### Dataloading analysis\n",
       "\n"
      ],
      "text/plain": [
       "<IPython.core.display.Markdown object>"
      ]
     },
     "metadata": {},
     "output_type": "display_data"
    },
    {
     "data": {
      "text/html": [
       "\n",
       "\n",
       "\n",
       "\n",
       "\n",
       "\n",
       "  <div class=\"bk-root\" id=\"51534a95-9a9d-4854-945e-a4673126241b\" data-root-id=\"2771\"></div>\n"
      ]
     },
     "metadata": {},
     "output_type": "display_data"
    },
    {
     "data": {
      "application/javascript": [
       "(function(root) {\n",
       "  function embed_document(root) {\n",
       "    \n",
       "  var docs_json = {\"e6df7d7f-30f9-48e7-a2b6-dddb974a93c2\":{\"roots\":{\"references\":[{\"attributes\":{\"text\":\"The number of dataloader workers can greatly affect the overall performance \\n        of your training job. The rule analyzed the number of dataloading processes that have been running in \\n        parallel on the training instance and compares it against the total number of cores. \\n        The rule checked if the number of processes is smaller than 70% or larger than \\n        200% the total number of cores. Having too few dataloader workers can slowdown data preprocessing and lead to GPU \\n        underutilization. Having too many dataloader workers may hurt the\\n        overall performance if you are running other compute intensive tasks on the CPU.\\n        The rule analysed 1 datapoints and triggered 0 times.\",\"width\":900},\"id\":\"2771\",\"type\":\"Paragraph\"}],\"root_ids\":[\"2771\"]},\"title\":\"Bokeh Application\",\"version\":\"2.2.3\"}};\n",
       "  var render_items = [{\"docid\":\"e6df7d7f-30f9-48e7-a2b6-dddb974a93c2\",\"root_ids\":[\"2771\"],\"roots\":{\"2771\":\"51534a95-9a9d-4854-945e-a4673126241b\"}}];\n",
       "  root.Bokeh.embed.embed_items_notebook(docs_json, render_items);\n",
       "\n",
       "  }\n",
       "  if (root.Bokeh !== undefined) {\n",
       "    embed_document(root);\n",
       "  } else {\n",
       "    var attempts = 0;\n",
       "    var timer = setInterval(function(root) {\n",
       "      if (root.Bokeh !== undefined) {\n",
       "        clearInterval(timer);\n",
       "        embed_document(root);\n",
       "      } else {\n",
       "        attempts++;\n",
       "        if (attempts > 100) {\n",
       "          clearInterval(timer);\n",
       "          console.log(\"Bokeh: ERROR: Unable to run BokehJS code because BokehJS library is missing\");\n",
       "        }\n",
       "      }\n",
       "    }, 10, root)\n",
       "  }\n",
       "})(window);"
      ],
      "application/vnd.bokehjs_exec.v0+json": ""
     },
     "metadata": {
      "application/vnd.bokehjs_exec.v0+json": {
       "id": "2771"
      }
     },
     "output_type": "display_data"
    },
    {
     "data": {
      "text/html": [
       "\n",
       "\n",
       "\n",
       "\n",
       "\n",
       "\n",
       "  <div class=\"bk-root\" id=\"beafe98d-52f7-4bcc-8055-7679bca130d6\" data-root-id=\"2871\"></div>\n"
      ]
     },
     "metadata": {},
     "output_type": "display_data"
    },
    {
     "data": {
      "application/javascript": [
       "(function(root) {\n",
       "  function embed_document(root) {\n",
       "    \n",
       "  var docs_json = {\"a8849b56-6dd3-41e8-91cb-f4e3671327cd\":{\"roots\":{\"references\":[{\"attributes\":{\"text\":\" Your training instance provided 4 CPU cores, however your training job only \\n                ran on average 1 dataloader workers in parallel. We recommend you to increase the number of\\n                dataloader workers. Using pinned memory also improves performance because it enables fast data transfer to CUDA-enabled GPUs.\\n            The rule detected that your training job was not using pinned memory. \\n            In case of using PyTorch Dataloader, you can enable this by setting pin_memory=True.\",\"width\":900},\"id\":\"2871\",\"type\":\"Paragraph\"}],\"root_ids\":[\"2871\"]},\"title\":\"Bokeh Application\",\"version\":\"2.2.3\"}};\n",
       "  var render_items = [{\"docid\":\"a8849b56-6dd3-41e8-91cb-f4e3671327cd\",\"root_ids\":[\"2871\"],\"roots\":{\"2871\":\"beafe98d-52f7-4bcc-8055-7679bca130d6\"}}];\n",
       "  root.Bokeh.embed.embed_items_notebook(docs_json, render_items);\n",
       "\n",
       "  }\n",
       "  if (root.Bokeh !== undefined) {\n",
       "    embed_document(root);\n",
       "  } else {\n",
       "    var attempts = 0;\n",
       "    var timer = setInterval(function(root) {\n",
       "      if (root.Bokeh !== undefined) {\n",
       "        clearInterval(timer);\n",
       "        embed_document(root);\n",
       "      } else {\n",
       "        attempts++;\n",
       "        if (attempts > 100) {\n",
       "          clearInterval(timer);\n",
       "          console.log(\"Bokeh: ERROR: Unable to run BokehJS code because BokehJS library is missing\");\n",
       "        }\n",
       "      }\n",
       "    }, 10, root)\n",
       "  }\n",
       "})(window);"
      ],
      "application/vnd.bokehjs_exec.v0+json": ""
     },
     "metadata": {
      "application/vnd.bokehjs_exec.v0+json": {
       "id": "2871"
      }
     },
     "output_type": "display_data"
    },
    {
     "data": {
      "text/html": [
       "\n",
       "\n",
       "\n",
       "\n",
       "\n",
       "\n",
       "  <div class=\"bk-root\" id=\"f3a1f1bc-c78c-437e-8f82-11335b5b8865\" data-root-id=\"3013\"></div>\n"
      ]
     },
     "metadata": {},
     "output_type": "display_data"
    },
    {
     "data": {
      "application/javascript": [
       "(function(root) {\n",
       "  function embed_document(root) {\n",
       "    \n",
       "  var docs_json = {\"a5a411b9-b3b8-4a08-b4f0-0ae2fe12b498\":{\"roots\":{\"references\":[{\"attributes\":{\"children\":[{\"id\":\"3012\"},{\"id\":\"2971\"}]},\"id\":\"3013\",\"type\":\"Column\"},{\"attributes\":{\"axis\":{\"id\":\"2980\"},\"grid_line_color\":\"white\",\"ticker\":null},\"id\":\"2983\",\"type\":\"Grid\"},{\"attributes\":{},\"id\":\"2981\",\"type\":\"BasicTicker\"},{\"attributes\":{},\"id\":\"2985\",\"type\":\"BasicTicker\"},{\"attributes\":{\"axis_label\":\"Dataloading in [s]\",\"formatter\":{\"id\":\"3005\"},\"ticker\":{\"id\":\"2981\"}},\"id\":\"2980\",\"type\":\"LinearAxis\"},{\"attributes\":{\"below\":[{\"id\":\"2980\"}],\"center\":[{\"id\":\"2983\"},{\"id\":\"2987\"},{\"id\":\"3010\"}],\"left\":[{\"id\":\"2984\"}],\"plot_height\":450,\"plot_width\":850,\"renderers\":[{\"id\":\"3000\"}],\"title\":{\"id\":\"3002\"},\"toolbar\":{\"id\":\"2992\"},\"x_range\":{\"id\":\"2972\"},\"x_scale\":{\"id\":\"2976\"},\"y_range\":{\"id\":\"2974\"},\"y_scale\":{\"id\":\"2978\"}},\"id\":\"2971\",\"subtype\":\"Figure\",\"type\":\"Plot\"},{\"attributes\":{},\"id\":\"2978\",\"type\":\"LinearScale\"},{\"attributes\":{\"axis\":{\"id\":\"2984\"},\"dimension\":1,\"grid_line_color\":\"white\",\"ticker\":null},\"id\":\"2987\",\"type\":\"Grid\"},{\"attributes\":{\"label\":{\"value\":\"Dataloading events\"},\"renderers\":[{\"id\":\"3000\"}]},\"id\":\"3011\",\"type\":\"LegendItem\"},{\"attributes\":{\"source\":{\"id\":\"2997\"}},\"id\":\"3001\",\"type\":\"CDSView\"},{\"attributes\":{\"text\":\"The following histogram shows the distribution of dataloading times that have been measured throughout your training job. The median dataloading time was 0.6025s. \\n            The 95th percentile was 0.6025s and the 25th percentile was 0.6025s\",\"width\":900},\"id\":\"3012\",\"type\":\"Paragraph\"},{\"attributes\":{\"axis_label\":\"Occurrences\",\"formatter\":{\"id\":\"3007\"},\"ticker\":{\"id\":\"2985\"}},\"id\":\"2984\",\"type\":\"LinearAxis\"},{\"attributes\":{\"start\":0},\"id\":\"2974\",\"type\":\"DataRange1d\"},{\"attributes\":{\"active_drag\":\"auto\",\"active_inspect\":\"auto\",\"active_multi\":null,\"active_scroll\":\"auto\",\"active_tap\":\"auto\",\"tools\":[{\"id\":\"2988\"},{\"id\":\"2989\"},{\"id\":\"2990\"},{\"id\":\"2991\"}]},\"id\":\"2992\",\"type\":\"Toolbar\"},{\"attributes\":{\"text\":\"\"},\"id\":\"3002\",\"type\":\"Title\"},{\"attributes\":{\"data\":{\"left\":[0.10254700000000005,0.11254700000000005,0.12254700000000004,0.13254700000000005,0.14254700000000003,0.15254700000000004,0.16254700000000005,0.17254700000000006,0.18254700000000004,0.19254700000000002,0.20254700000000003,0.21254700000000004,0.22254700000000005,0.23254700000000003,0.24254700000000004,0.252547,0.26254700000000003,0.27254700000000004,0.282547,0.292547,0.302547,0.312547,0.32254700000000003,0.33254700000000004,0.34254700000000005,0.35254700000000005,0.362547,0.372547,0.382547,0.39254700000000003,0.402547,0.412547,0.422547,0.432547,0.442547,0.452547,0.462547,0.472547,0.482547,0.492547,0.502547,0.512547,0.522547,0.532547,0.542547,0.552547,0.5625469999999999,0.5725469999999999,0.5825469999999999,0.5925469999999999,0.6025469999999999,0.612547,0.622547,0.632547,0.642547,0.652547,0.662547,0.672547,0.682547,0.6925469999999999,0.7025469999999999,0.7125469999999999,0.7225469999999999,0.732547,0.742547,0.752547,0.762547,0.772547,0.782547,0.792547,0.8025469999999999,0.8125469999999999,0.8225469999999999,0.8325469999999999,0.8425469999999999,0.8525469999999999,0.862547,0.872547,0.882547,0.892547,0.9025469999999999,0.9125469999999999,0.9225469999999999,0.9325469999999999,0.9425469999999999,0.9525469999999999,0.9625469999999999,0.9725469999999999,0.982547,0.992547,1.0025469999999999,1.0125469999999999,1.0225469999999999,1.0325469999999999,1.042547,1.052547,1.062547,1.072547,1.082547,1.092547],\"right\":[0.11254700000000005,0.12254700000000004,0.13254700000000005,0.14254700000000003,0.15254700000000004,0.16254700000000005,0.17254700000000006,0.18254700000000004,0.19254700000000002,0.20254700000000003,0.21254700000000004,0.22254700000000005,0.23254700000000003,0.24254700000000004,0.252547,0.26254700000000003,0.27254700000000004,0.282547,0.292547,0.302547,0.312547,0.32254700000000003,0.33254700000000004,0.34254700000000005,0.35254700000000005,0.362547,0.372547,0.382547,0.39254700000000003,0.402547,0.412547,0.422547,0.432547,0.442547,0.452547,0.462547,0.472547,0.482547,0.492547,0.502547,0.512547,0.522547,0.532547,0.542547,0.552547,0.5625469999999999,0.5725469999999999,0.5825469999999999,0.5925469999999999,0.6025469999999999,0.612547,0.622547,0.632547,0.642547,0.652547,0.662547,0.672547,0.682547,0.6925469999999999,0.7025469999999999,0.7125469999999999,0.7225469999999999,0.732547,0.742547,0.752547,0.762547,0.772547,0.782547,0.792547,0.8025469999999999,0.8125469999999999,0.8225469999999999,0.8325469999999999,0.8425469999999999,0.8525469999999999,0.862547,0.872547,0.882547,0.892547,0.9025469999999999,0.9125469999999999,0.9225469999999999,0.9325469999999999,0.9425469999999999,0.9525469999999999,0.9625469999999999,0.9725469999999999,0.982547,0.992547,1.0025469999999999,1.0125469999999999,1.0225469999999999,1.0325469999999999,1.042547,1.052547,1.062547,1.072547,1.082547,1.092547,1.102547],\"top\":[0,0,0,0,0,0,0,0,0,0,0,0,0,0,0,0,0,0,0,0,0,0,0,0,0,0,0,0,0,0,0,0,0,0,0,0,0,0,0,0,0,0,0,0,0,0,0,0,0,0,1,0,0,0,0,0,0,0,0,0,0,0,0,0,0,0,0,0,0,0,0,0,0,0,0,0,0,0,0,0,0,0,0,0,0,0,0,0,0,0,0,0,0,0,0,0,0,0,0,0]},\"selected\":{\"id\":\"3009\"},\"selection_policy\":{\"id\":\"3008\"}},\"id\":\"2997\",\"type\":\"ColumnDataSource\"},{\"attributes\":{\"bottom\":{\"value\":0},\"fill_alpha\":{\"value\":0.8},\"fill_color\":{\"value\":\"#440154\"},\"left\":{\"field\":\"left\"},\"line_color\":{\"value\":\"white\"},\"right\":{\"field\":\"right\"},\"top\":{\"field\":\"top\"}},\"id\":\"2998\",\"type\":\"Quad\"},{\"attributes\":{\"click_policy\":\"hide\",\"items\":[{\"id\":\"3011\"}]},\"id\":\"3010\",\"type\":\"Legend\"},{\"attributes\":{\"data_source\":{\"id\":\"2997\"},\"glyph\":{\"id\":\"2998\"},\"hover_glyph\":null,\"muted_glyph\":null,\"nonselection_glyph\":{\"id\":\"2999\"},\"selection_glyph\":null,\"view\":{\"id\":\"3001\"}},\"id\":\"3000\",\"type\":\"GlyphRenderer\"},{\"attributes\":{\"bottom\":{\"value\":0},\"fill_alpha\":{\"value\":0.1},\"fill_color\":{\"value\":\"#440154\"},\"left\":{\"field\":\"left\"},\"line_alpha\":{\"value\":0.1},\"line_color\":{\"value\":\"white\"},\"right\":{\"field\":\"right\"},\"top\":{\"field\":\"top\"}},\"id\":\"2999\",\"type\":\"Quad\"},{\"attributes\":{},\"id\":\"3005\",\"type\":\"BasicTickFormatter\"},{\"attributes\":{\"callback\":null},\"id\":\"2988\",\"type\":\"HoverTool\"},{\"attributes\":{},\"id\":\"2989\",\"type\":\"WheelZoomTool\"},{\"attributes\":{\"end\":1.102547,\"start\":0.10254700000000005},\"id\":\"2972\",\"type\":\"Range1d\"},{\"attributes\":{},\"id\":\"2990\",\"type\":\"ResetTool\"},{\"attributes\":{},\"id\":\"3007\",\"type\":\"BasicTickFormatter\"},{\"attributes\":{},\"id\":\"2991\",\"type\":\"PanTool\"},{\"attributes\":{},\"id\":\"3008\",\"type\":\"UnionRenderers\"},{\"attributes\":{},\"id\":\"2976\",\"type\":\"LinearScale\"},{\"attributes\":{},\"id\":\"3009\",\"type\":\"Selection\"}],\"root_ids\":[\"3013\"]},\"title\":\"Bokeh Application\",\"version\":\"2.2.3\"}};\n",
       "  var render_items = [{\"docid\":\"a5a411b9-b3b8-4a08-b4f0-0ae2fe12b498\",\"root_ids\":[\"3013\"],\"roots\":{\"3013\":\"f3a1f1bc-c78c-437e-8f82-11335b5b8865\"}}];\n",
       "  root.Bokeh.embed.embed_items_notebook(docs_json, render_items);\n",
       "\n",
       "  }\n",
       "  if (root.Bokeh !== undefined) {\n",
       "    embed_document(root);\n",
       "  } else {\n",
       "    var attempts = 0;\n",
       "    var timer = setInterval(function(root) {\n",
       "      if (root.Bokeh !== undefined) {\n",
       "        clearInterval(timer);\n",
       "        embed_document(root);\n",
       "      } else {\n",
       "        attempts++;\n",
       "        if (attempts > 100) {\n",
       "          clearInterval(timer);\n",
       "          console.log(\"Bokeh: ERROR: Unable to run BokehJS code because BokehJS library is missing\");\n",
       "        }\n",
       "      }\n",
       "    }, 10, root)\n",
       "  }\n",
       "})(window);"
      ],
      "application/vnd.bokehjs_exec.v0+json": ""
     },
     "metadata": {
      "application/vnd.bokehjs_exec.v0+json": {
       "id": "3013"
      }
     },
     "output_type": "display_data"
    }
   ],
   "source": [
    "if analyse_phase == \"training\":\n",
    "    display(Markdown(\"\"\"### Dataloading analysis\\n\\n\"\"\"))\n",
    "    report = load_report('Dataloader')\n",
    "    if report:\n",
    "        params = report['RuleParameters'].split(\"\\n\")\n",
    "        min_threshold = params[0].split(':')[1]\n",
    "        max_threshold = params[1].split(':')[1]\n",
    "        triggered = report['RuleTriggered']\n",
    "        datapoints = report['Datapoints']\n",
    "    \n",
    "        text=f\"\"\"The number of dataloader workers can greatly affect the overall performance \n",
    "        of your training job. The rule analyzed the number of dataloading processes that have been running in \n",
    "        parallel on the training instance and compares it against the total number of cores. \n",
    "        The rule checked if the number of processes is smaller than {min_threshold}% or larger than \n",
    "        {max_threshold}% the total number of cores. Having too few dataloader workers can slowdown data preprocessing and lead to GPU \n",
    "        underutilization. Having too many dataloader workers may hurt the\n",
    "        overall performance if you are running other compute intensive tasks on the CPU.\n",
    "        The rule analysed {datapoints} datapoints and triggered {triggered} times.\"\"\"\n",
    "        \n",
    "        paragraph = Paragraph(text=f\"{text}\", width=900)\n",
    "        show(paragraph)\n",
    "        text = \"\"\n",
    "        if 'cores' in report['Details']:\n",
    "            cores = int(report['Details']['cores'])\n",
    "            dataloaders = report['Details']['dataloaders']\n",
    "            if dataloaders < cores: \n",
    "                text=f\"\"\"{text} Your training instance provided {cores} CPU cores, however your training job only \n",
    "                ran on average {dataloaders} dataloader workers in parallel. We recommend you to increase the number of\n",
    "                dataloader workers.\"\"\"\n",
    "            if dataloaders > cores:\n",
    "                text=f\"\"\"{text} Your training instance provided {cores} CPU cores, however your training job ran \n",
    "                on average {dataloaders} dataloader workers. We recommed you to decrease the number of dataloader\n",
    "                workers.\"\"\"\n",
    "        if 'pin_memory' in report['Details'] and report['Details']['pin_memory'] == False:\n",
    "            text=f\"\"\"{text} Using pinned memory also improves performance because it enables fast data transfer to CUDA-enabled GPUs.\n",
    "            The rule detected that your training job was not using pinned memory. \n",
    "            In case of using PyTorch Dataloader, you can enable this by setting pin_memory=True.\"\"\"\n",
    "            \n",
    "        if 'prefetch' in report['Details'] and report['Details']['prefetch'] == False:\n",
    "            text=f\"\"\"{text} It appears that your training job did not perform any data pre-fetching. Pre-fetching can improve your\n",
    "            data input pipeline as it produces the data ahead of time.\"\"\"\n",
    "        paragraph = Paragraph(text=f\"{text}\", width=900)\n",
    "        show(paragraph)\n",
    "        \n",
    "        colors=bokeh.palettes.viridis(10)\n",
    "        if \"dataloading_time\" in report['Details']:\n",
    "            median = round(report['Details'][\"dataloading_time\"]['p50'],4)\n",
    "            p95 = round(report['Details'][\"dataloading_time\"]['p95'],4)\n",
    "            p25 = round(report['Details'][\"dataloading_time\"]['p25'],4)\n",
    "            binedges = report['Details'][\"dataloading_time\"]['binedges']\n",
    "            probs = report['Details'][\"dataloading_time\"]['probs']\n",
    "            text=f\"\"\"The following histogram shows the distribution of dataloading times that have been measured throughout your training job. The median dataloading time was {median}s. \n",
    "            The 95th percentile was {p95}s and the 25th percentile was {p25}s\"\"\"\n",
    "\n",
    "            plot = figure(plot_height=450, \n",
    "                              plot_width=850,\n",
    "                              toolbar_location='right',\n",
    "                              tools=\"hover,wheel_zoom,reset,pan\",\n",
    "                              x_range=(binedges[0], binedges[-1])\n",
    "                              )\n",
    "            \n",
    "            plot.quad( top=probs,\n",
    "                        bottom=0,\n",
    "                        left=binedges[:-1],\n",
    "                        right=binedges[1:],\n",
    "                        line_color=\"white\",\n",
    "                        fill_color=colors[0],\n",
    "                        fill_alpha=0.8,\n",
    "                        legend=\"Dataloading events\" )\n",
    "\n",
    "            plot.y_range.start = 0\n",
    "            plot.xaxis.axis_label = f\"\"\"Dataloading in [s]\"\"\"\n",
    "            plot.yaxis.axis_label = \"Occurrences\"\n",
    "            plot.grid.grid_line_color = \"white\"\n",
    "            plot.legend.click_policy=\"hide\"\n",
    "\n",
    "            paragraph = Paragraph(text=f\"{text}\", width=900)\n",
    "            show(column(paragraph, plot))"
   ]
  },
  {
   "cell_type": "code",
   "execution_count": 26,
   "metadata": {
    "execution": {
     "iopub.execute_input": "2021-12-03T21:44:35.681572Z",
     "iopub.status.busy": "2021-12-03T21:44:35.681018Z",
     "iopub.status.idle": "2021-12-03T21:44:35.830435Z",
     "shell.execute_reply": "2021-12-03T21:44:35.830813Z"
    },
    "papermill": {
     "duration": 0.196165,
     "end_time": "2021-12-03T21:44:35.830951",
     "exception": false,
     "start_time": "2021-12-03T21:44:35.634786",
     "status": "completed"
    },
    "tags": [
     "hide-input"
    ]
   },
   "outputs": [
    {
     "data": {
      "text/markdown": [
       " ### Batch size"
      ],
      "text/plain": [
       "<IPython.core.display.Markdown object>"
      ]
     },
     "metadata": {},
     "output_type": "display_data"
    },
    {
     "data": {
      "text/html": [
       "\n",
       "\n",
       "\n",
       "\n",
       "\n",
       "\n",
       "  <div class=\"bk-root\" id=\"07028163-fc71-4481-936d-4bf79abcdd9d\" data-root-id=\"3161\"></div>\n"
      ]
     },
     "metadata": {},
     "output_type": "display_data"
    },
    {
     "data": {
      "application/javascript": [
       "(function(root) {\n",
       "  function embed_document(root) {\n",
       "    \n",
       "  var docs_json = {\"6148f822-b6bf-4bc6-b657-aabaf22c88ec\":{\"roots\":{\"references\":[{\"attributes\":{\"text\":\"The BatchSize rule helps to detect if GPU is underutilized because of the batch size being \\n        too small. To detect this the rule analyzes the GPU memory footprint, CPU and GPU utilization. The rule checked if the 95th percentile of CPU utilization is below cpu_threshold_p95 of \\n        70%, the 95th percentile of GPU utilization is below gpu_threshold_p95 of 70% and the 95th percentile of memory footprint         below gpu_memory_threshold_p95 of 70%. In your training job this happened 14 times.         The rule skipped the first 1000 datapoints. The rule computed the percentiles over window size of 500 continuous datapoints.\\n\\n        The rule analysed 2775 datapoints and triggered 14 times.\\n        \",\"width\":800},\"id\":\"3161\",\"type\":\"Paragraph\"}],\"root_ids\":[\"3161\"]},\"title\":\"Bokeh Application\",\"version\":\"2.2.3\"}};\n",
       "  var render_items = [{\"docid\":\"6148f822-b6bf-4bc6-b657-aabaf22c88ec\",\"root_ids\":[\"3161\"],\"roots\":{\"3161\":\"07028163-fc71-4481-936d-4bf79abcdd9d\"}}];\n",
       "  root.Bokeh.embed.embed_items_notebook(docs_json, render_items);\n",
       "\n",
       "  }\n",
       "  if (root.Bokeh !== undefined) {\n",
       "    embed_document(root);\n",
       "  } else {\n",
       "    var attempts = 0;\n",
       "    var timer = setInterval(function(root) {\n",
       "      if (root.Bokeh !== undefined) {\n",
       "        clearInterval(timer);\n",
       "        embed_document(root);\n",
       "      } else {\n",
       "        attempts++;\n",
       "        if (attempts > 100) {\n",
       "          clearInterval(timer);\n",
       "          console.log(\"Bokeh: ERROR: Unable to run BokehJS code because BokehJS library is missing\");\n",
       "        }\n",
       "      }\n",
       "    }, 10, root)\n",
       "  }\n",
       "})(window);"
      ],
      "application/vnd.bokehjs_exec.v0+json": ""
     },
     "metadata": {
      "application/vnd.bokehjs_exec.v0+json": {
       "id": "3161"
      }
     },
     "output_type": "display_data"
    },
    {
     "data": {
      "text/html": [
       "\n",
       "\n",
       "\n",
       "\n",
       "\n",
       "\n",
       "  <div class=\"bk-root\" id=\"659bc622-e33a-4a0f-870d-71fd56ca3d5c\" data-root-id=\"3269\"></div>\n"
      ]
     },
     "metadata": {},
     "output_type": "display_data"
    },
    {
     "data": {
      "application/javascript": [
       "(function(root) {\n",
       "  function embed_document(root) {\n",
       "    \n",
       "  var docs_json = {\"514eac87-5c51-4150-9eae-d1499783920a\":{\"roots\":{\"references\":[{\"attributes\":{\"text\":\"Your training job is underutilizing the instance. You may want to consider\\n            either switch to a smaller instance type or to increase the batch size. \\n            The last time the BatchSize rule triggered in your training job was on 12/03/2021 at 21:20:00.\\n            The following boxplots are a snapshot from the timestamps. They the total \\n            CPU utilization, the GPU utilization, and the GPU memory usage per GPU (without outliers).\",\"width\":800},\"id\":\"3269\",\"type\":\"Paragraph\"}],\"root_ids\":[\"3269\"]},\"title\":\"Bokeh Application\",\"version\":\"2.2.3\"}};\n",
       "  var render_items = [{\"docid\":\"514eac87-5c51-4150-9eae-d1499783920a\",\"root_ids\":[\"3269\"],\"roots\":{\"3269\":\"659bc622-e33a-4a0f-870d-71fd56ca3d5c\"}}];\n",
       "  root.Bokeh.embed.embed_items_notebook(docs_json, render_items);\n",
       "\n",
       "  }\n",
       "  if (root.Bokeh !== undefined) {\n",
       "    embed_document(root);\n",
       "  } else {\n",
       "    var attempts = 0;\n",
       "    var timer = setInterval(function(root) {\n",
       "      if (root.Bokeh !== undefined) {\n",
       "        clearInterval(timer);\n",
       "        embed_document(root);\n",
       "      } else {\n",
       "        attempts++;\n",
       "        if (attempts > 100) {\n",
       "          clearInterval(timer);\n",
       "          console.log(\"Bokeh: ERROR: Unable to run BokehJS code because BokehJS library is missing\");\n",
       "        }\n",
       "      }\n",
       "    }, 10, root)\n",
       "  }\n",
       "})(window);"
      ],
      "application/vnd.bokehjs_exec.v0+json": ""
     },
     "metadata": {
      "application/vnd.bokehjs_exec.v0+json": {
       "id": "3269"
      }
     },
     "output_type": "display_data"
    },
    {
     "data": {
      "text/html": [
       "\n",
       "\n",
       "\n",
       "\n",
       "\n",
       "\n",
       "  <div class=\"bk-root\" id=\"f06eb19c-5560-4661-b74d-96d38a6df6e9\" data-root-id=\"3377\"></div>\n"
      ]
     },
     "metadata": {},
     "output_type": "display_data"
    },
    {
     "data": {
      "application/javascript": [
       "(function(root) {\n",
       "  function embed_document(root) {\n",
       "    \n",
       "  var docs_json = {\"165ed771-3b17-4d11-ba26-e39f1ee9aa75\":{\"roots\":{\"references\":[{\"attributes\":{\"below\":[{\"id\":\"3388\"}],\"center\":[{\"id\":\"3391\"},{\"id\":\"3395\"}],\"left\":[{\"id\":\"3392\"}],\"plot_height\":350,\"plot_width\":1000,\"renderers\":[{\"id\":\"3408\"},{\"id\":\"3413\"},{\"id\":\"3418\"},{\"id\":\"3423\"},{\"id\":\"3428\"},{\"id\":\"3433\"},{\"id\":\"3438\"},{\"id\":\"3443\"},{\"id\":\"3448\"},{\"id\":\"3453\"},{\"id\":\"3458\"},{\"id\":\"3463\"},{\"id\":\"3468\"},{\"id\":\"3473\"},{\"id\":\"3478\"},{\"id\":\"3483\"},{\"id\":\"3488\"},{\"id\":\"3493\"}],\"title\":{\"id\":\"3378\"},\"toolbar\":{\"id\":\"3400\"},\"x_range\":{\"id\":\"3380\"},\"x_scale\":{\"id\":\"3384\"},\"y_range\":{\"id\":\"3382\"},\"y_scale\":{\"id\":\"3386\"}},\"id\":\"3377\",\"subtype\":\"Figure\",\"type\":\"Plot\"},{\"attributes\":{\"data\":{},\"selected\":{\"id\":\"3617\"},\"selection_policy\":{\"id\":\"3616\"}},\"id\":\"3425\",\"type\":\"ColumnDataSource\"},{\"attributes\":{\"data\":{},\"selected\":{\"id\":\"3613\"},\"selection_policy\":{\"id\":\"3612\"}},\"id\":\"3415\",\"type\":\"ColumnDataSource\"},{\"attributes\":{\"source\":{\"id\":\"3440\"}},\"id\":\"3444\",\"type\":\"CDSView\"},{\"attributes\":{\"data_source\":{\"id\":\"3415\"},\"glyph\":{\"id\":\"3416\"},\"hover_glyph\":null,\"muted_glyph\":null,\"nonselection_glyph\":{\"id\":\"3417\"},\"selection_glyph\":null,\"view\":{\"id\":\"3419\"}},\"id\":\"3418\",\"type\":\"GlyphRenderer\"},{\"attributes\":{\"source\":{\"id\":\"3415\"}},\"id\":\"3419\",\"type\":\"CDSView\"},{\"attributes\":{\"x0\":{\"value\":3},\"x1\":{\"value\":3},\"y0\":{\"value\":0.0},\"y1\":{\"value\":0.0}},\"id\":\"3471\",\"type\":\"Segment\"},{\"attributes\":{\"bottom\":{\"value\":55.2575},\"fill_alpha\":{\"value\":0.1},\"fill_color\":{\"value\":\"#FDE725\"},\"line_alpha\":{\"value\":0.1},\"top\":{\"value\":51.510000000000005},\"width\":{\"value\":0.7},\"x\":{\"value\":1}},\"id\":\"3417\",\"type\":\"VBar\"},{\"attributes\":{\"bottom\":{\"value\":51.510000000000005},\"fill_color\":{\"value\":\"#440154\"},\"top\":{\"value\":49.0},\"width\":{\"value\":0.7},\"x\":{\"value\":1}},\"id\":\"3421\",\"type\":\"VBar\"},{\"attributes\":{},\"id\":\"3393\",\"type\":\"BasicTicker\"},{\"attributes\":{\"data\":{},\"selected\":{\"id\":\"3615\"},\"selection_policy\":{\"id\":\"3614\"}},\"id\":\"3420\",\"type\":\"ColumnDataSource\"},{\"attributes\":{\"data_source\":{\"id\":\"3425\"},\"glyph\":{\"id\":\"3426\"},\"hover_glyph\":null,\"muted_glyph\":null,\"nonselection_glyph\":{\"id\":\"3427\"},\"selection_glyph\":null,\"view\":{\"id\":\"3429\"}},\"id\":\"3428\",\"type\":\"GlyphRenderer\"},{\"attributes\":{\"end\":20},\"id\":\"3380\",\"type\":\"Range1d\"},{\"attributes\":{\"data_source\":{\"id\":\"3420\"},\"glyph\":{\"id\":\"3421\"},\"hover_glyph\":null,\"muted_glyph\":null,\"nonselection_glyph\":{\"id\":\"3422\"},\"selection_glyph\":null,\"view\":{\"id\":\"3424\"}},\"id\":\"3423\",\"type\":\"GlyphRenderer\"},{\"attributes\":{\"text\":\"Node algo-1\"},\"id\":\"3378\",\"type\":\"Title\"},{\"attributes\":{\"source\":{\"id\":\"3420\"}},\"id\":\"3424\",\"type\":\"CDSView\"},{\"attributes\":{\"bottom\":{\"value\":51.510000000000005},\"fill_alpha\":{\"value\":0.1},\"fill_color\":{\"value\":\"#440154\"},\"line_alpha\":{\"value\":0.1},\"top\":{\"value\":49.0},\"width\":{\"value\":0.7},\"x\":{\"value\":1}},\"id\":\"3422\",\"type\":\"VBar\"},{\"attributes\":{\"fill_color\":{\"value\":\"#1f77b4\"},\"height\":{\"units\":\"data\",\"value\":0.01},\"width\":{\"units\":\"data\",\"value\":0.2},\"x\":{\"value\":1},\"y\":{\"value\":39.613749999999996}},\"id\":\"3426\",\"type\":\"Rect\"},{\"attributes\":{\"fill_alpha\":{\"value\":0.1},\"fill_color\":{\"value\":\"#1f77b4\"},\"height\":{\"units\":\"data\",\"value\":0.01},\"line_alpha\":{\"value\":0.1},\"width\":{\"units\":\"data\",\"value\":0.2},\"x\":{\"value\":1},\"y\":{\"value\":39.613749999999996}},\"id\":\"3427\",\"type\":\"Rect\"},{\"attributes\":{},\"id\":\"3386\",\"type\":\"LinearScale\"},{\"attributes\":{\"formatter\":{\"id\":\"3605\"},\"major_label_overrides\":{\"1\":\"cpu\",\"2\":\"gpu0\",\"3\":\"gpu0_memory\"},\"major_label_text_font_size\":\"10px\",\"ticker\":{\"id\":\"3495\"}},\"id\":\"3388\",\"type\":\"LinearAxis\"},{\"attributes\":{\"fill_alpha\":{\"value\":0.1},\"fill_color\":{\"value\":\"#1f77b4\"},\"height\":{\"units\":\"data\",\"value\":0.01},\"line_alpha\":{\"value\":0.1},\"width\":{\"units\":\"data\",\"value\":0.2},\"x\":{\"value\":1},\"y\":{\"value\":64.64375}},\"id\":\"3432\",\"type\":\"Rect\"},{\"attributes\":{\"line_alpha\":{\"value\":0.1},\"x0\":{\"value\":1},\"x1\":{\"value\":1},\"y0\":{\"value\":64.64375},\"y1\":{\"value\":55.2575}},\"id\":\"3407\",\"type\":\"Segment\"},{\"attributes\":{\"source\":{\"id\":\"3425\"}},\"id\":\"3429\",\"type\":\"CDSView\"},{\"attributes\":{},\"id\":\"3384\",\"type\":\"LinearScale\"},{\"attributes\":{\"fill_color\":{\"value\":\"#440154\"},\"top\":{\"value\":0.0},\"width\":{\"value\":0.7},\"x\":{\"value\":2}},\"id\":\"3451\",\"type\":\"VBar\"},{\"attributes\":{},\"id\":\"3382\",\"type\":\"DataRange1d\"},{\"attributes\":{\"axis\":{\"id\":\"3388\"},\"grid_line_color\":null,\"grid_line_width\":0,\"ticker\":null},\"id\":\"3391\",\"type\":\"Grid\"},{\"attributes\":{\"data\":{},\"selected\":{\"id\":\"3619\"},\"selection_policy\":{\"id\":\"3618\"}},\"id\":\"3430\",\"type\":\"ColumnDataSource\"},{\"attributes\":{\"fill_color\":{\"value\":\"#1f77b4\"},\"height\":{\"units\":\"data\",\"value\":0.01},\"width\":{\"units\":\"data\",\"value\":0.2},\"x\":{\"value\":1},\"y\":{\"value\":64.64375}},\"id\":\"3431\",\"type\":\"Rect\"},{\"attributes\":{\"data_source\":{\"id\":\"3430\"},\"glyph\":{\"id\":\"3431\"},\"hover_glyph\":null,\"muted_glyph\":null,\"nonselection_glyph\":{\"id\":\"3432\"},\"selection_glyph\":null,\"view\":{\"id\":\"3434\"}},\"id\":\"3433\",\"type\":\"GlyphRenderer\"},{\"attributes\":{\"axis_label\":\"Utilization in %\",\"formatter\":{\"id\":\"3607\"},\"ticker\":{\"id\":\"3393\"}},\"id\":\"3392\",\"type\":\"LinearAxis\"},{\"attributes\":{\"axis\":{\"id\":\"3392\"},\"dimension\":1,\"grid_line_color\":\"white\",\"grid_line_width\":0,\"ticker\":null},\"id\":\"3395\",\"type\":\"Grid\"},{\"attributes\":{\"x0\":{\"value\":1},\"x1\":{\"value\":1},\"y0\":{\"value\":39.613749999999996},\"y1\":{\"value\":49.0}},\"id\":\"3411\",\"type\":\"Segment\"},{\"attributes\":{\"data\":{},\"selected\":{\"id\":\"3609\"},\"selection_policy\":{\"id\":\"3608\"}},\"id\":\"3405\",\"type\":\"ColumnDataSource\"},{\"attributes\":{\"source\":{\"id\":\"3430\"}},\"id\":\"3434\",\"type\":\"CDSView\"},{\"attributes\":{\"data\":{},\"selected\":{\"id\":\"3621\"},\"selection_policy\":{\"id\":\"3620\"}},\"id\":\"3435\",\"type\":\"ColumnDataSource\"},{\"attributes\":{\"callback\":null},\"id\":\"3396\",\"type\":\"HoverTool\"},{\"attributes\":{\"line_alpha\":{\"value\":0.1},\"x0\":{\"value\":2},\"x1\":{\"value\":2},\"y0\":{\"value\":0.0},\"y1\":{\"value\":0.0}},\"id\":\"3437\",\"type\":\"Segment\"},{\"attributes\":{},\"id\":\"3397\",\"type\":\"WheelZoomTool\"},{\"attributes\":{\"source\":{\"id\":\"3435\"}},\"id\":\"3439\",\"type\":\"CDSView\"},{\"attributes\":{\"x0\":{\"value\":2},\"x1\":{\"value\":2},\"y0\":{\"value\":0.0},\"y1\":{\"value\":0.0}},\"id\":\"3436\",\"type\":\"Segment\"},{\"attributes\":{},\"id\":\"3398\",\"type\":\"ResetTool\"},{\"attributes\":{\"data\":{},\"selected\":{\"id\":\"3623\"},\"selection_policy\":{\"id\":\"3622\"}},\"id\":\"3440\",\"type\":\"ColumnDataSource\"},{\"attributes\":{\"line_alpha\":{\"value\":0.1},\"x0\":{\"value\":2},\"x1\":{\"value\":2},\"y0\":{\"value\":0.0},\"y1\":{\"value\":0.0}},\"id\":\"3442\",\"type\":\"Segment\"},{\"attributes\":{},\"id\":\"3399\",\"type\":\"PanTool\"},{\"attributes\":{\"x0\":{\"value\":2},\"x1\":{\"value\":2},\"y0\":{\"value\":0.0},\"y1\":{\"value\":0.0}},\"id\":\"3441\",\"type\":\"Segment\"},{\"attributes\":{\"data_source\":{\"id\":\"3410\"},\"glyph\":{\"id\":\"3411\"},\"hover_glyph\":null,\"muted_glyph\":null,\"nonselection_glyph\":{\"id\":\"3412\"},\"selection_glyph\":null,\"view\":{\"id\":\"3414\"}},\"id\":\"3413\",\"type\":\"GlyphRenderer\"},{\"attributes\":{\"active_drag\":\"auto\",\"active_inspect\":\"auto\",\"active_multi\":null,\"active_scroll\":\"auto\",\"active_tap\":\"auto\",\"tools\":[{\"id\":\"3396\"},{\"id\":\"3397\"},{\"id\":\"3398\"},{\"id\":\"3399\"}]},\"id\":\"3400\",\"type\":\"Toolbar\"},{\"attributes\":{\"data_source\":{\"id\":\"3435\"},\"glyph\":{\"id\":\"3436\"},\"hover_glyph\":null,\"muted_glyph\":null,\"nonselection_glyph\":{\"id\":\"3437\"},\"selection_glyph\":null,\"view\":{\"id\":\"3439\"}},\"id\":\"3438\",\"type\":\"GlyphRenderer\"},{\"attributes\":{\"source\":{\"id\":\"3410\"}},\"id\":\"3414\",\"type\":\"CDSView\"},{\"attributes\":{\"data_source\":{\"id\":\"3405\"},\"glyph\":{\"id\":\"3406\"},\"hover_glyph\":null,\"muted_glyph\":null,\"nonselection_glyph\":{\"id\":\"3407\"},\"selection_glyph\":null,\"view\":{\"id\":\"3409\"}},\"id\":\"3408\",\"type\":\"GlyphRenderer\"},{\"attributes\":{\"fill_color\":{\"value\":\"#FDE725\"},\"top\":{\"value\":0.0},\"width\":{\"value\":0.7},\"x\":{\"value\":2}},\"id\":\"3446\",\"type\":\"VBar\"},{\"attributes\":{\"data\":{},\"selected\":{\"id\":\"3625\"},\"selection_policy\":{\"id\":\"3624\"}},\"id\":\"3445\",\"type\":\"ColumnDataSource\"},{\"attributes\":{\"data_source\":{\"id\":\"3440\"},\"glyph\":{\"id\":\"3441\"},\"hover_glyph\":null,\"muted_glyph\":null,\"nonselection_glyph\":{\"id\":\"3442\"},\"selection_glyph\":null,\"view\":{\"id\":\"3444\"}},\"id\":\"3443\",\"type\":\"GlyphRenderer\"},{\"attributes\":{\"source\":{\"id\":\"3405\"}},\"id\":\"3409\",\"type\":\"CDSView\"},{\"attributes\":{\"bottom\":{\"value\":55.2575},\"fill_color\":{\"value\":\"#FDE725\"},\"top\":{\"value\":51.510000000000005},\"width\":{\"value\":0.7},\"x\":{\"value\":1}},\"id\":\"3416\",\"type\":\"VBar\"},{\"attributes\":{\"source\":{\"id\":\"3465\"}},\"id\":\"3469\",\"type\":\"CDSView\"},{\"attributes\":{\"data\":{},\"selected\":{\"id\":\"3611\"},\"selection_policy\":{\"id\":\"3610\"}},\"id\":\"3410\",\"type\":\"ColumnDataSource\"},{\"attributes\":{\"data_source\":{\"id\":\"3445\"},\"glyph\":{\"id\":\"3446\"},\"hover_glyph\":null,\"muted_glyph\":null,\"nonselection_glyph\":{\"id\":\"3447\"},\"selection_glyph\":null,\"view\":{\"id\":\"3449\"}},\"id\":\"3448\",\"type\":\"GlyphRenderer\"},{\"attributes\":{\"data\":{},\"selected\":{\"id\":\"3641\"},\"selection_policy\":{\"id\":\"3640\"}},\"id\":\"3485\",\"type\":\"ColumnDataSource\"},{\"attributes\":{},\"id\":\"3621\",\"type\":\"Selection\"},{\"attributes\":{\"fill_color\":{\"value\":\"#440154\"},\"top\":{\"value\":0.0},\"width\":{\"value\":0.7},\"x\":{\"value\":3}},\"id\":\"3481\",\"type\":\"VBar\"},{\"attributes\":{\"data\":{},\"selected\":{\"id\":\"3629\"},\"selection_policy\":{\"id\":\"3628\"}},\"id\":\"3455\",\"type\":\"ColumnDataSource\"},{\"attributes\":{\"data\":{},\"selected\":{\"id\":\"3639\"},\"selection_policy\":{\"id\":\"3638\"}},\"id\":\"3480\",\"type\":\"ColumnDataSource\"},{\"attributes\":{},\"id\":\"3622\",\"type\":\"UnionRenderers\"},{\"attributes\":{\"data_source\":{\"id\":\"3480\"},\"glyph\":{\"id\":\"3481\"},\"hover_glyph\":null,\"muted_glyph\":null,\"nonselection_glyph\":{\"id\":\"3482\"},\"selection_glyph\":null,\"view\":{\"id\":\"3484\"}},\"id\":\"3483\",\"type\":\"GlyphRenderer\"},{\"attributes\":{},\"id\":\"3623\",\"type\":\"Selection\"},{\"attributes\":{\"data_source\":{\"id\":\"3485\"},\"glyph\":{\"id\":\"3486\"},\"hover_glyph\":null,\"muted_glyph\":null,\"nonselection_glyph\":{\"id\":\"3487\"},\"selection_glyph\":null,\"view\":{\"id\":\"3489\"}},\"id\":\"3488\",\"type\":\"GlyphRenderer\"},{\"attributes\":{\"source\":{\"id\":\"3445\"}},\"id\":\"3449\",\"type\":\"CDSView\"},{\"attributes\":{\"fill_color\":{\"value\":\"#1f77b4\"},\"height\":{\"units\":\"data\",\"value\":0.01},\"width\":{\"units\":\"data\",\"value\":0.2},\"x\":{\"value\":3},\"y\":{\"value\":0.0}},\"id\":\"3486\",\"type\":\"Rect\"},{\"attributes\":{},\"id\":\"3624\",\"type\":\"UnionRenderers\"},{\"attributes\":{\"data\":{},\"selected\":{\"id\":\"3627\"},\"selection_policy\":{\"id\":\"3626\"}},\"id\":\"3450\",\"type\":\"ColumnDataSource\"},{\"attributes\":{\"fill_alpha\":{\"value\":0.1},\"fill_color\":{\"value\":\"#FDE725\"},\"line_alpha\":{\"value\":0.1},\"top\":{\"value\":0.0},\"width\":{\"value\":0.7},\"x\":{\"value\":2}},\"id\":\"3447\",\"type\":\"VBar\"},{\"attributes\":{},\"id\":\"3625\",\"type\":\"Selection\"},{\"attributes\":{\"source\":{\"id\":\"3480\"}},\"id\":\"3484\",\"type\":\"CDSView\"},{\"attributes\":{\"data_source\":{\"id\":\"3450\"},\"glyph\":{\"id\":\"3451\"},\"hover_glyph\":null,\"muted_glyph\":null,\"nonselection_glyph\":{\"id\":\"3452\"},\"selection_glyph\":null,\"view\":{\"id\":\"3454\"}},\"id\":\"3453\",\"type\":\"GlyphRenderer\"},{\"attributes\":{},\"id\":\"3626\",\"type\":\"UnionRenderers\"},{\"attributes\":{\"data_source\":{\"id\":\"3455\"},\"glyph\":{\"id\":\"3456\"},\"hover_glyph\":null,\"muted_glyph\":null,\"nonselection_glyph\":{\"id\":\"3457\"},\"selection_glyph\":null,\"view\":{\"id\":\"3459\"}},\"id\":\"3458\",\"type\":\"GlyphRenderer\"},{\"attributes\":{\"fill_alpha\":{\"value\":0.1},\"fill_color\":{\"value\":\"#440154\"},\"line_alpha\":{\"value\":0.1},\"top\":{\"value\":0.0},\"width\":{\"value\":0.7},\"x\":{\"value\":3}},\"id\":\"3482\",\"type\":\"VBar\"},{\"attributes\":{\"fill_color\":{\"value\":\"#1f77b4\"},\"height\":{\"units\":\"data\",\"value\":0.01},\"width\":{\"units\":\"data\",\"value\":0.2},\"x\":{\"value\":2},\"y\":{\"value\":0.0}},\"id\":\"3456\",\"type\":\"Rect\"},{\"attributes\":{},\"id\":\"3627\",\"type\":\"Selection\"},{\"attributes\":{\"fill_alpha\":{\"value\":0.1},\"fill_color\":{\"value\":\"#1f77b4\"},\"height\":{\"units\":\"data\",\"value\":0.01},\"line_alpha\":{\"value\":0.1},\"width\":{\"units\":\"data\",\"value\":0.2},\"x\":{\"value\":3},\"y\":{\"value\":0.0}},\"id\":\"3487\",\"type\":\"Rect\"},{\"attributes\":{},\"id\":\"3628\",\"type\":\"UnionRenderers\"},{\"attributes\":{\"source\":{\"id\":\"3450\"}},\"id\":\"3454\",\"type\":\"CDSView\"},{\"attributes\":{\"fill_color\":{\"value\":\"#1f77b4\"},\"height\":{\"units\":\"data\",\"value\":0.01},\"width\":{\"units\":\"data\",\"value\":0.2},\"x\":{\"value\":3},\"y\":{\"value\":0.0}},\"id\":\"3491\",\"type\":\"Rect\"},{\"attributes\":{},\"id\":\"3629\",\"type\":\"Selection\"},{\"attributes\":{\"fill_alpha\":{\"value\":0.1},\"fill_color\":{\"value\":\"#440154\"},\"line_alpha\":{\"value\":0.1},\"top\":{\"value\":0.0},\"width\":{\"value\":0.7},\"x\":{\"value\":2}},\"id\":\"3452\",\"type\":\"VBar\"},{\"attributes\":{},\"id\":\"3630\",\"type\":\"UnionRenderers\"},{\"attributes\":{\"fill_alpha\":{\"value\":0.1},\"fill_color\":{\"value\":\"#1f77b4\"},\"height\":{\"units\":\"data\",\"value\":0.01},\"line_alpha\":{\"value\":0.1},\"width\":{\"units\":\"data\",\"value\":0.2},\"x\":{\"value\":2},\"y\":{\"value\":0.0}},\"id\":\"3457\",\"type\":\"Rect\"},{\"attributes\":{\"source\":{\"id\":\"3485\"}},\"id\":\"3489\",\"type\":\"CDSView\"},{\"attributes\":{\"data_source\":{\"id\":\"3490\"},\"glyph\":{\"id\":\"3491\"},\"hover_glyph\":null,\"muted_glyph\":null,\"nonselection_glyph\":{\"id\":\"3492\"},\"selection_glyph\":null,\"view\":{\"id\":\"3494\"}},\"id\":\"3493\",\"type\":\"GlyphRenderer\"},{\"attributes\":{},\"id\":\"3631\",\"type\":\"Selection\"},{\"attributes\":{\"fill_color\":{\"value\":\"#1f77b4\"},\"height\":{\"units\":\"data\",\"value\":0.01},\"width\":{\"units\":\"data\",\"value\":0.2},\"x\":{\"value\":2},\"y\":{\"value\":0.0}},\"id\":\"3461\",\"type\":\"Rect\"},{\"attributes\":{\"data\":{},\"selected\":{\"id\":\"3643\"},\"selection_policy\":{\"id\":\"3642\"}},\"id\":\"3490\",\"type\":\"ColumnDataSource\"},{\"attributes\":{},\"id\":\"3632\",\"type\":\"UnionRenderers\"},{\"attributes\":{\"fill_alpha\":{\"value\":0.1},\"fill_color\":{\"value\":\"#1f77b4\"},\"height\":{\"units\":\"data\",\"value\":0.01},\"line_alpha\":{\"value\":0.1},\"width\":{\"units\":\"data\",\"value\":0.2},\"x\":{\"value\":3},\"y\":{\"value\":0.0}},\"id\":\"3492\",\"type\":\"Rect\"},{\"attributes\":{},\"id\":\"3633\",\"type\":\"Selection\"},{\"attributes\":{\"source\":{\"id\":\"3455\"}},\"id\":\"3459\",\"type\":\"CDSView\"},{\"attributes\":{\"data_source\":{\"id\":\"3460\"},\"glyph\":{\"id\":\"3461\"},\"hover_glyph\":null,\"muted_glyph\":null,\"nonselection_glyph\":{\"id\":\"3462\"},\"selection_glyph\":null,\"view\":{\"id\":\"3464\"}},\"id\":\"3463\",\"type\":\"GlyphRenderer\"},{\"attributes\":{},\"id\":\"3610\",\"type\":\"UnionRenderers\"},{\"attributes\":{},\"id\":\"3634\",\"type\":\"UnionRenderers\"},{\"attributes\":{\"data\":{},\"selected\":{\"id\":\"3631\"},\"selection_policy\":{\"id\":\"3630\"}},\"id\":\"3460\",\"type\":\"ColumnDataSource\"},{\"attributes\":{},\"id\":\"3635\",\"type\":\"Selection\"},{\"attributes\":{\"fill_alpha\":{\"value\":0.1},\"fill_color\":{\"value\":\"#1f77b4\"},\"height\":{\"units\":\"data\",\"value\":0.01},\"line_alpha\":{\"value\":0.1},\"width\":{\"units\":\"data\",\"value\":0.2},\"x\":{\"value\":2},\"y\":{\"value\":0.0}},\"id\":\"3462\",\"type\":\"Rect\"},{\"attributes\":{\"source\":{\"id\":\"3490\"}},\"id\":\"3494\",\"type\":\"CDSView\"},{\"attributes\":{},\"id\":\"3636\",\"type\":\"UnionRenderers\"},{\"attributes\":{\"x0\":{\"value\":3},\"x1\":{\"value\":3},\"y0\":{\"value\":0.0},\"y1\":{\"value\":0.0}},\"id\":\"3466\",\"type\":\"Segment\"},{\"attributes\":{\"line_alpha\":{\"value\":0.1},\"x0\":{\"value\":3},\"x1\":{\"value\":3},\"y0\":{\"value\":0.0},\"y1\":{\"value\":0.0}},\"id\":\"3472\",\"type\":\"Segment\"},{\"attributes\":{},\"id\":\"3637\",\"type\":\"Selection\"},{\"attributes\":{},\"id\":\"3607\",\"type\":\"BasicTickFormatter\"},{\"attributes\":{},\"id\":\"3638\",\"type\":\"UnionRenderers\"},{\"attributes\":{\"source\":{\"id\":\"3460\"}},\"id\":\"3464\",\"type\":\"CDSView\"},{\"attributes\":{},\"id\":\"3608\",\"type\":\"UnionRenderers\"},{\"attributes\":{},\"id\":\"3605\",\"type\":\"BasicTickFormatter\"},{\"attributes\":{\"line_alpha\":{\"value\":0.1},\"x0\":{\"value\":3},\"x1\":{\"value\":3},\"y0\":{\"value\":0.0},\"y1\":{\"value\":0.0}},\"id\":\"3467\",\"type\":\"Segment\"},{\"attributes\":{},\"id\":\"3639\",\"type\":\"Selection\"},{\"attributes\":{},\"id\":\"3640\",\"type\":\"UnionRenderers\"},{\"attributes\":{\"data\":{},\"selected\":{\"id\":\"3633\"},\"selection_policy\":{\"id\":\"3632\"}},\"id\":\"3465\",\"type\":\"ColumnDataSource\"},{\"attributes\":{\"data\":{},\"selected\":{\"id\":\"3635\"},\"selection_policy\":{\"id\":\"3634\"}},\"id\":\"3470\",\"type\":\"ColumnDataSource\"},{\"attributes\":{},\"id\":\"3609\",\"type\":\"Selection\"},{\"attributes\":{},\"id\":\"3641\",\"type\":\"Selection\"},{\"attributes\":{\"source\":{\"id\":\"3470\"}},\"id\":\"3474\",\"type\":\"CDSView\"},{\"attributes\":{},\"id\":\"3642\",\"type\":\"UnionRenderers\"},{\"attributes\":{},\"id\":\"3611\",\"type\":\"Selection\"},{\"attributes\":{\"data\":{},\"selected\":{\"id\":\"3637\"},\"selection_policy\":{\"id\":\"3636\"}},\"id\":\"3475\",\"type\":\"ColumnDataSource\"},{\"attributes\":{},\"id\":\"3612\",\"type\":\"UnionRenderers\"},{\"attributes\":{},\"id\":\"3643\",\"type\":\"Selection\"},{\"attributes\":{\"ticks\":[0,1,2,3]},\"id\":\"3495\",\"type\":\"FixedTicker\"},{\"attributes\":{\"line_alpha\":{\"value\":0.1},\"x0\":{\"value\":1},\"x1\":{\"value\":1},\"y0\":{\"value\":39.613749999999996},\"y1\":{\"value\":49.0}},\"id\":\"3412\",\"type\":\"Segment\"},{\"attributes\":{},\"id\":\"3613\",\"type\":\"Selection\"},{\"attributes\":{\"data_source\":{\"id\":\"3465\"},\"glyph\":{\"id\":\"3466\"},\"hover_glyph\":null,\"muted_glyph\":null,\"nonselection_glyph\":{\"id\":\"3467\"},\"selection_glyph\":null,\"view\":{\"id\":\"3469\"}},\"id\":\"3468\",\"type\":\"GlyphRenderer\"},{\"attributes\":{\"fill_alpha\":{\"value\":0.1},\"fill_color\":{\"value\":\"#FDE725\"},\"line_alpha\":{\"value\":0.1},\"top\":{\"value\":0.0},\"width\":{\"value\":0.7},\"x\":{\"value\":3}},\"id\":\"3477\",\"type\":\"VBar\"},{\"attributes\":{},\"id\":\"3614\",\"type\":\"UnionRenderers\"},{\"attributes\":{\"fill_color\":{\"value\":\"#FDE725\"},\"top\":{\"value\":0.0},\"width\":{\"value\":0.7},\"x\":{\"value\":3}},\"id\":\"3476\",\"type\":\"VBar\"},{\"attributes\":{},\"id\":\"3615\",\"type\":\"Selection\"},{\"attributes\":{\"x0\":{\"value\":1},\"x1\":{\"value\":1},\"y0\":{\"value\":64.64375},\"y1\":{\"value\":55.2575}},\"id\":\"3406\",\"type\":\"Segment\"},{\"attributes\":{},\"id\":\"3616\",\"type\":\"UnionRenderers\"},{\"attributes\":{\"data_source\":{\"id\":\"3470\"},\"glyph\":{\"id\":\"3471\"},\"hover_glyph\":null,\"muted_glyph\":null,\"nonselection_glyph\":{\"id\":\"3472\"},\"selection_glyph\":null,\"view\":{\"id\":\"3474\"}},\"id\":\"3473\",\"type\":\"GlyphRenderer\"},{\"attributes\":{},\"id\":\"3617\",\"type\":\"Selection\"},{\"attributes\":{\"data_source\":{\"id\":\"3475\"},\"glyph\":{\"id\":\"3476\"},\"hover_glyph\":null,\"muted_glyph\":null,\"nonselection_glyph\":{\"id\":\"3477\"},\"selection_glyph\":null,\"view\":{\"id\":\"3479\"}},\"id\":\"3478\",\"type\":\"GlyphRenderer\"},{\"attributes\":{},\"id\":\"3618\",\"type\":\"UnionRenderers\"},{\"attributes\":{\"source\":{\"id\":\"3475\"}},\"id\":\"3479\",\"type\":\"CDSView\"},{\"attributes\":{},\"id\":\"3619\",\"type\":\"Selection\"},{\"attributes\":{},\"id\":\"3620\",\"type\":\"UnionRenderers\"}],\"root_ids\":[\"3377\"]},\"title\":\"Bokeh Application\",\"version\":\"2.2.3\"}};\n",
       "  var render_items = [{\"docid\":\"165ed771-3b17-4d11-ba26-e39f1ee9aa75\",\"root_ids\":[\"3377\"],\"roots\":{\"3377\":\"f06eb19c-5560-4661-b74d-96d38a6df6e9\"}}];\n",
       "  root.Bokeh.embed.embed_items_notebook(docs_json, render_items);\n",
       "\n",
       "  }\n",
       "  if (root.Bokeh !== undefined) {\n",
       "    embed_document(root);\n",
       "  } else {\n",
       "    var attempts = 0;\n",
       "    var timer = setInterval(function(root) {\n",
       "      if (root.Bokeh !== undefined) {\n",
       "        clearInterval(timer);\n",
       "        embed_document(root);\n",
       "      } else {\n",
       "        attempts++;\n",
       "        if (attempts > 100) {\n",
       "          clearInterval(timer);\n",
       "          console.log(\"Bokeh: ERROR: Unable to run BokehJS code because BokehJS library is missing\");\n",
       "        }\n",
       "      }\n",
       "    }, 10, root)\n",
       "  }\n",
       "})(window);"
      ],
      "application/vnd.bokehjs_exec.v0+json": ""
     },
     "metadata": {
      "application/vnd.bokehjs_exec.v0+json": {
       "id": "3377"
      }
     },
     "output_type": "display_data"
    }
   ],
   "source": [
    "if analyse_phase == \"training\":\n",
    "    display(Markdown(\"\"\" ### Batch size\"\"\"))\n",
    "    report = load_report('BatchSize')\n",
    "    if report:\n",
    "        params = report['RuleParameters'].split('\\n')\n",
    "        cpu_threshold_p95 = int(params[0].split(':')[1])\n",
    "        gpu_threshold_p95 = int(params[1].split(':')[1])\n",
    "        gpu_memory_threshold_p95 = int(params[2].split(':')[1])\n",
    "        patience = int(params[3].split(':')[1])\n",
    "        window = int(params[4].split(':')[1])\n",
    "        violations = report['Violations']\n",
    "        triggered = report['RuleTriggered']\n",
    "        datapoints = report['Datapoints']\n",
    "        \n",
    "        text = Paragraph(text=f\"\"\"The BatchSize rule helps to detect if GPU is underutilized because of the batch size being \n",
    "        too small. To detect this the rule analyzes the GPU memory footprint, CPU and GPU utilization. The rule checked if the 95th percentile of CPU utilization is below cpu_threshold_p95 of \n",
    "        {cpu_threshold_p95}%, the 95th percentile of GPU utilization is below gpu_threshold_p95 of {gpu_threshold_p95}% and the 95th percentile of memory footprint \\\n",
    "        below gpu_memory_threshold_p95 of {gpu_memory_threshold_p95}%. In your training job this happened {violations} times. \\\n",
    "        The rule skipped the first {patience} datapoints. The rule computed the percentiles over window size of {window} continuous datapoints.\\n\n",
    "        The rule analysed {datapoints} datapoints and triggered {triggered} times.\n",
    "        \"\"\", width=800)\n",
    "        show(text)\n",
    "        if len(report['Details']) >0: \n",
    "            timestamp = us_since_epoch_to_human_readable_time(report['Details']['last_timestamp'])\n",
    "            date = datetime.datetime.strptime(timestamp, '%Y-%m-%dT%H:%M:%S:%f')\n",
    "            day = date.date().strftime(\"%m/%d/%Y\")\n",
    "            hour = date.time().strftime(\"%H:%M:%S\")\n",
    "            del report['Details']['last_timestamp']\n",
    "            text = Paragraph(text=f\"\"\"Your training job is underutilizing the instance. You may want to consider\n",
    "            either switch to a smaller instance type or to increase the batch size. \n",
    "            The last time the BatchSize rule triggered in your training job was on {day} at {hour}.\n",
    "            The following boxplots are a snapshot from the timestamps. They the total \n",
    "            CPU utilization, the GPU utilization, and the GPU memory usage per GPU (without outliers).\"\"\", \n",
    "            width=800)\n",
    "            show(text)\n",
    "\n",
    "            for node_id in report['Details']:\n",
    "                xmax = max(20, len(report['Details'][node_id]))\n",
    "                \n",
    "                plot = figure(plot_height=350, \n",
    "                          plot_width=1000,\n",
    "                          toolbar_location='right',\n",
    "                          tools=\"hover,wheel_zoom,reset,pan\", \n",
    "                          title=f\"Node {node_id}\",\n",
    "                          x_range=(0,xmax)\n",
    "                          )\n",
    "                \n",
    "                for index, key in enumerate(report['Details'][node_id]):\n",
    "                        upper = report['Details'][node_id][key]['upper']\n",
    "                        lower = report['Details'][node_id][key]['lower']\n",
    "                        p75 = report['Details'][node_id][key]['p75']\n",
    "                        p25 = report['Details'][node_id][key]['p25']\n",
    "                        p50 = report['Details'][node_id][key]['p50']\n",
    "\n",
    "                        plot.segment(index+1, upper, index+1, p75, line_color=\"black\")\n",
    "                        plot.segment(index+1, lower, index+1, p25, line_color=\"black\")\n",
    "\n",
    "                        plot.vbar(index+1, 0.7, p50, p75, fill_color=\"#FDE725\", line_color=\"black\")\n",
    "                        plot.vbar(index+1, 0.7, p25, p50, fill_color=\"#440154\", line_color=\"black\")\n",
    "\n",
    "                        plot.rect(index+1, lower, 0.2, 0.01, line_color=\"black\")\n",
    "                        plot.rect(index+1, upper, 0.2, 0.01, line_color=\"black\")\n",
    "\n",
    "                        plot.xaxis.major_label_overrides[index+1] = key\n",
    "                        plot.xgrid.grid_line_color = None\n",
    "                        plot.ygrid.grid_line_color = \"white\"\n",
    "                        plot.grid.grid_line_width = 0\n",
    "\n",
    "                        plot.xaxis.major_label_text_font_size=\"10px\"\n",
    "                plot.xaxis.ticker = np.arange(index+2)\n",
    "                plot.yaxis.axis_label = \"Utilization in %\"\n",
    "                show(plot)"
   ]
  },
  {
   "cell_type": "code",
   "execution_count": 27,
   "metadata": {
    "execution": {
     "iopub.execute_input": "2021-12-03T21:44:35.972035Z",
     "iopub.status.busy": "2021-12-03T21:44:35.971435Z",
     "iopub.status.idle": "2021-12-03T21:44:36.149956Z",
     "shell.execute_reply": "2021-12-03T21:44:36.150332Z"
    },
    "papermill": {
     "duration": 0.284589,
     "end_time": "2021-12-03T21:44:36.150472",
     "exception": false,
     "start_time": "2021-12-03T21:44:35.865883",
     "status": "completed"
    },
    "tags": [
     "hide-input"
    ]
   },
   "outputs": [
    {
     "data": {
      "text/markdown": [
       "### CPU bottlenecks\n",
       "\n"
      ],
      "text/plain": [
       "<IPython.core.display.Markdown object>"
      ]
     },
     "metadata": {},
     "output_type": "display_data"
    },
    {
     "data": {
      "text/html": [
       "\n",
       "\n",
       "\n",
       "\n",
       "\n",
       "\n",
       "  <div class=\"bk-root\" id=\"2c7fb39f-c94f-425a-9b7a-5f0bc2c758d7\" data-root-id=\"3844\"></div>\n"
      ]
     },
     "metadata": {},
     "output_type": "display_data"
    },
    {
     "data": {
      "application/javascript": [
       "(function(root) {\n",
       "  function embed_document(root) {\n",
       "    \n",
       "  var docs_json = {\"13e1a365-9db6-4871-930a-9b4137abe8b1\":{\"roots\":{\"references\":[{\"attributes\":{\"text\":\"The CPUBottleneck rule checked when the CPU utilization was above cpu_threshold of 90% \\n        and GPU utilization was below gpu_threshold of 10%. \\n        During initialization utilization is likely to be zero, so the rule skipped the first 1000 datapoints.\\n        With this configuration the rule found 2181 CPU bottlenecks which is 78% of the total time. This is above the threshold of 50%\\n        The rule analysed 2791 data points and triggered 15 times.\",\"width\":900},\"id\":\"3844\",\"type\":\"Paragraph\"}],\"root_ids\":[\"3844\"]},\"title\":\"Bokeh Application\",\"version\":\"2.2.3\"}};\n",
       "  var render_items = [{\"docid\":\"13e1a365-9db6-4871-930a-9b4137abe8b1\",\"root_ids\":[\"3844\"],\"roots\":{\"3844\":\"2c7fb39f-c94f-425a-9b7a-5f0bc2c758d7\"}}];\n",
       "  root.Bokeh.embed.embed_items_notebook(docs_json, render_items);\n",
       "\n",
       "  }\n",
       "  if (root.Bokeh !== undefined) {\n",
       "    embed_document(root);\n",
       "  } else {\n",
       "    var attempts = 0;\n",
       "    var timer = setInterval(function(root) {\n",
       "      if (root.Bokeh !== undefined) {\n",
       "        clearInterval(timer);\n",
       "        embed_document(root);\n",
       "      } else {\n",
       "        attempts++;\n",
       "        if (attempts > 100) {\n",
       "          clearInterval(timer);\n",
       "          console.log(\"Bokeh: ERROR: Unable to run BokehJS code because BokehJS library is missing\");\n",
       "        }\n",
       "      }\n",
       "    }, 10, root)\n",
       "  }\n",
       "})(window);"
      ],
      "application/vnd.bokehjs_exec.v0+json": ""
     },
     "metadata": {
      "application/vnd.bokehjs_exec.v0+json": {
       "id": "3844"
      }
     },
     "output_type": "display_data"
    },
    {
     "data": {
      "text/html": [
       "\n",
       "\n",
       "\n",
       "\n",
       "\n",
       "\n",
       "  <div class=\"bk-root\" id=\"f40b9e0b-badd-49f4-84fa-4d4b0aec372e\" data-root-id=\"4084\"></div>\n"
      ]
     },
     "metadata": {},
     "output_type": "display_data"
    },
    {
     "data": {
      "application/javascript": [
       "(function(root) {\n",
       "  function embed_document(root) {\n",
       "    \n",
       "  var docs_json = {\"c5b521b7-abdc-4af3-a7ad-5886ee8c6bae\":{\"roots\":{\"references\":[{\"attributes\":{\"children\":[{\"id\":\"4082\"},{\"id\":\"4083\"}]},\"id\":\"4084\",\"type\":\"Column\"},{\"attributes\":{\"text\":\"The following chart (left) shows how many datapoints were below the gpu_threshold of 10%\\n                and how many of those datapoints were likely caused by a CPU bottleneck. The rule found 2776 out of 2791 datapoints which had a GPU utilization \\n                below 10%. Out of those datapoints 78.14% were likely caused by CPU bottlenecks. \\n                 The chart (in the middle) shows whether CPU bottlenecks mainly \\n                    happened during train/validation phase.\\n                    \",\"width\":900},\"id\":\"4082\",\"type\":\"Paragraph\"},{\"attributes\":{\"end\":0.8999999999999999,\"start\":-0.5},\"id\":\"4040\",\"type\":\"Range1d\"},{\"attributes\":{\"label\":{\"field\":\"phase\"},\"renderers\":[{\"id\":\"4071\"}]},\"id\":\"4081\",\"type\":\"LegendItem\"},{\"attributes\":{\"callback\":null,\"tooltips\":\"@phase:@value\"},\"id\":\"4011\",\"type\":\"HoverTool\"},{\"attributes\":{\"items\":[{\"id\":\"4081\"}],\"label_text_font_size\":\"8pt\",\"location\":\"center_right\"},\"id\":\"4080\",\"type\":\"Legend\"},{\"attributes\":{\"field\":\"angle\",\"include_zero\":true},\"id\":\"4020\",\"type\":\"CumSum\"},{\"attributes\":{},\"id\":\"4012\",\"type\":\"WheelZoomTool\"},{\"attributes\":{\"data_source\":{\"id\":\"4067\"},\"glyph\":{\"id\":\"4069\"},\"hover_glyph\":null,\"muted_glyph\":null,\"nonselection_glyph\":{\"id\":\"4070\"},\"selection_glyph\":null,\"view\":{\"id\":\"4072\"}},\"id\":\"4071\",\"type\":\"GlyphRenderer\"},{\"attributes\":{},\"id\":\"4046\",\"type\":\"LinearScale\"},{\"attributes\":{\"end_angle\":{\"expr\":{\"id\":\"4021\"},\"units\":\"rad\"},\"fill_color\":{\"field\":\"color\"},\"line_color\":{\"value\":\"white\"},\"radius\":{\"units\":\"data\",\"value\":0.3},\"start_angle\":{\"expr\":{\"id\":\"4020\"},\"units\":\"rad\"},\"x\":{\"value\":0},\"y\":{\"value\":0.0}},\"id\":\"4024\",\"type\":\"Wedge\"},{\"attributes\":{},\"id\":\"4013\",\"type\":\"ResetTool\"},{\"attributes\":{\"axis_label\":null,\"formatter\":{\"id\":\"4075\"},\"ticker\":{\"id\":\"4049\"},\"visible\":false},\"id\":\"4048\",\"type\":\"LinearAxis\"},{\"attributes\":{\"text\":\"Low GPU usage caused by CPU bottlenecks\"},\"id\":\"3993\",\"type\":\"Title\"},{\"attributes\":{\"text\":\"The ratio between time spent on TRAIN/EVAL phase\"},\"id\":\"4038\",\"type\":\"Title\"},{\"attributes\":{},\"id\":\"4079\",\"type\":\"Selection\"},{\"attributes\":{},\"id\":\"4014\",\"type\":\"PanTool\"},{\"attributes\":{},\"id\":\"4053\",\"type\":\"BasicTicker\"},{\"attributes\":{},\"id\":\"4034\",\"type\":\"Selection\"},{\"attributes\":{\"end_angle\":{\"expr\":{\"id\":\"4021\"},\"units\":\"rad\"},\"fill_alpha\":{\"value\":0.1},\"fill_color\":{\"field\":\"color\"},\"line_alpha\":{\"value\":0.1},\"line_color\":{\"value\":\"white\"},\"radius\":{\"units\":\"data\",\"value\":0.3},\"start_angle\":{\"expr\":{\"id\":\"4020\"},\"units\":\"rad\"},\"x\":{\"value\":0},\"y\":{\"value\":0.0}},\"id\":\"4025\",\"type\":\"Wedge\"},{\"attributes\":{},\"id\":\"4049\",\"type\":\"BasicTicker\"},{\"attributes\":{},\"id\":\"4077\",\"type\":\"BasicTickFormatter\"},{\"attributes\":{\"field\":\"angle\",\"include_zero\":true},\"id\":\"4065\",\"type\":\"CumSum\"},{\"attributes\":{\"source\":{\"id\":\"4022\"}},\"id\":\"4027\",\"type\":\"CDSView\"},{\"attributes\":{},\"id\":\"4032\",\"type\":\"BasicTickFormatter\"},{\"attributes\":{\"field\":\"angle\"},\"id\":\"4021\",\"type\":\"CumSum\"},{\"attributes\":{},\"id\":\"4044\",\"type\":\"LinearScale\"},{\"attributes\":{\"axis\":{\"id\":\"4048\"},\"grid_line_color\":null,\"ticker\":null},\"id\":\"4051\",\"type\":\"Grid\"},{\"attributes\":{\"source\":{\"id\":\"4067\"}},\"id\":\"4072\",\"type\":\"CDSView\"},{\"attributes\":{\"label\":{\"field\":\"phase\"},\"renderers\":[{\"id\":\"4026\"}]},\"id\":\"4036\",\"type\":\"LegendItem\"},{\"attributes\":{},\"id\":\"4078\",\"type\":\"UnionRenderers\"},{\"attributes\":{\"axis\":{\"id\":\"4052\"},\"dimension\":1,\"grid_line_color\":null,\"ticker\":null},\"id\":\"4055\",\"type\":\"Grid\"},{\"attributes\":{\"below\":[{\"id\":\"4003\"}],\"center\":[{\"id\":\"4006\"},{\"id\":\"4010\"},{\"id\":\"4035\"}],\"left\":[{\"id\":\"4007\"}],\"outline_line_color\":\"white\",\"plot_height\":350,\"renderers\":[{\"id\":\"4026\"}],\"title\":{\"id\":\"3993\"},\"toolbar\":{\"id\":\"4015\"},\"x_range\":{\"id\":\"3995\"},\"x_scale\":{\"id\":\"3999\"},\"y_range\":{\"id\":\"3997\"},\"y_scale\":{\"id\":\"4001\"}},\"id\":\"3992\",\"subtype\":\"Figure\",\"type\":\"Plot\"},{\"attributes\":{\"axis\":{\"id\":\"4007\"},\"dimension\":1,\"grid_line_color\":null,\"ticker\":null},\"id\":\"4010\",\"type\":\"Grid\"},{\"attributes\":{\"axis_label\":null,\"formatter\":{\"id\":\"4077\"},\"ticker\":{\"id\":\"4053\"},\"visible\":false},\"id\":\"4052\",\"type\":\"LinearAxis\"},{\"attributes\":{},\"id\":\"3999\",\"type\":\"LinearScale\"},{\"attributes\":{\"active_drag\":\"auto\",\"active_inspect\":\"auto\",\"active_multi\":null,\"active_scroll\":\"auto\",\"active_tap\":\"auto\",\"tools\":[{\"id\":\"4056\"},{\"id\":\"4057\"},{\"id\":\"4058\"},{\"id\":\"4059\"}]},\"id\":\"4060\",\"type\":\"Toolbar\"},{\"attributes\":{},\"id\":\"4033\",\"type\":\"UnionRenderers\"},{\"attributes\":{\"below\":[{\"id\":\"4048\"}],\"center\":[{\"id\":\"4051\"},{\"id\":\"4055\"},{\"id\":\"4080\"}],\"left\":[{\"id\":\"4052\"}],\"outline_line_color\":\"white\",\"plot_height\":350,\"renderers\":[{\"id\":\"4071\"}],\"title\":{\"id\":\"4038\"},\"toolbar\":{\"id\":\"4060\"},\"x_range\":{\"id\":\"4040\"},\"x_scale\":{\"id\":\"4044\"},\"y_range\":{\"id\":\"4042\"},\"y_scale\":{\"id\":\"4046\"}},\"id\":\"4037\",\"subtype\":\"Figure\",\"type\":\"Plot\"},{\"attributes\":{\"end_angle\":{\"expr\":{\"id\":\"4066\"},\"units\":\"rad\"},\"fill_color\":{\"field\":\"color\"},\"line_color\":{\"value\":\"white\"},\"radius\":{\"units\":\"data\",\"value\":0.3},\"start_angle\":{\"expr\":{\"id\":\"4065\"},\"units\":\"rad\"},\"x\":{\"value\":0},\"y\":{\"value\":0.0}},\"id\":\"4069\",\"type\":\"Wedge\"},{\"attributes\":{\"end\":0.8999999999999999,\"start\":-0.5},\"id\":\"3995\",\"type\":\"Range1d\"},{\"attributes\":{\"children\":[{\"id\":\"3992\"},{\"id\":\"4037\"}]},\"id\":\"4083\",\"type\":\"Row\"},{\"attributes\":{},\"id\":\"3997\",\"type\":\"DataRange1d\"},{\"attributes\":{\"axis_label\":null,\"formatter\":{\"id\":\"4030\"},\"ticker\":{\"id\":\"4004\"},\"visible\":false},\"id\":\"4003\",\"type\":\"LinearAxis\"},{\"attributes\":{},\"id\":\"4042\",\"type\":\"DataRange1d\"},{\"attributes\":{},\"id\":\"4075\",\"type\":\"BasicTickFormatter\"},{\"attributes\":{},\"id\":\"4008\",\"type\":\"BasicTicker\"},{\"attributes\":{\"end_angle\":{\"expr\":{\"id\":\"4066\"},\"units\":\"rad\"},\"fill_alpha\":{\"value\":0.1},\"fill_color\":{\"field\":\"color\"},\"line_alpha\":{\"value\":0.1},\"line_color\":{\"value\":\"white\"},\"radius\":{\"units\":\"data\",\"value\":0.3},\"start_angle\":{\"expr\":{\"id\":\"4065\"},\"units\":\"rad\"},\"x\":{\"value\":0},\"y\":{\"value\":0.0}},\"id\":\"4070\",\"type\":\"Wedge\"},{\"attributes\":{\"callback\":null,\"tooltips\":\"@phase:@value\"},\"id\":\"4056\",\"type\":\"HoverTool\"},{\"attributes\":{\"data\":{\"angle\":{\"__ndarray__\":\"GC1EVPshGUA=\",\"dtype\":\"float64\",\"order\":\"little\",\"shape\":[1]},\"color\":[\"#440154\"],\"index\":[0],\"phase\":[\"Step:ModeKeys.GLOBAL\"],\"value\":{\"__ndarray__\":\"AAAAAAAAWUA=\",\"dtype\":\"float64\",\"order\":\"little\",\"shape\":[1]}},\"selected\":{\"id\":\"4079\"},\"selection_policy\":{\"id\":\"4078\"}},\"id\":\"4067\",\"type\":\"ColumnDataSource\"},{\"attributes\":{\"data\":{\"angle\":{\"__ndarray__\":\"mEs3/SBvkz+6G1HtqAkMQN/PPHlvEwZA\",\"dtype\":\"float64\",\"order\":\"little\",\"shape\":[3]},\"color\":[\"#440154\",\"#208F8C\",\"#FDE724\"],\"index\":[0,1,2],\"phase\":[\"GPU usage above threshold\",\"GPU usage below threshold\",\"Low GPU usage due to CPU bottlenecks\"],\"value\":[15,2770,2181]},\"selected\":{\"id\":\"4034\"},\"selection_policy\":{\"id\":\"4033\"}},\"id\":\"4022\",\"type\":\"ColumnDataSource\"},{\"attributes\":{},\"id\":\"4057\",\"type\":\"WheelZoomTool\"},{\"attributes\":{\"field\":\"angle\"},\"id\":\"4066\",\"type\":\"CumSum\"},{\"attributes\":{},\"id\":\"4058\",\"type\":\"ResetTool\"},{\"attributes\":{\"data_source\":{\"id\":\"4022\"},\"glyph\":{\"id\":\"4024\"},\"hover_glyph\":null,\"muted_glyph\":null,\"nonselection_glyph\":{\"id\":\"4025\"},\"selection_glyph\":null,\"view\":{\"id\":\"4027\"}},\"id\":\"4026\",\"type\":\"GlyphRenderer\"},{\"attributes\":{},\"id\":\"4001\",\"type\":\"LinearScale\"},{\"attributes\":{},\"id\":\"4059\",\"type\":\"PanTool\"},{\"attributes\":{\"axis_label\":null,\"formatter\":{\"id\":\"4032\"},\"ticker\":{\"id\":\"4008\"},\"visible\":false},\"id\":\"4007\",\"type\":\"LinearAxis\"},{\"attributes\":{\"active_drag\":\"auto\",\"active_inspect\":\"auto\",\"active_multi\":null,\"active_scroll\":\"auto\",\"active_tap\":\"auto\",\"tools\":[{\"id\":\"4011\"},{\"id\":\"4012\"},{\"id\":\"4013\"},{\"id\":\"4014\"}]},\"id\":\"4015\",\"type\":\"Toolbar\"},{\"attributes\":{},\"id\":\"4004\",\"type\":\"BasicTicker\"},{\"attributes\":{},\"id\":\"4030\",\"type\":\"BasicTickFormatter\"},{\"attributes\":{\"items\":[{\"id\":\"4036\"}],\"label_text_font_size\":\"8pt\",\"location\":\"center_right\"},\"id\":\"4035\",\"type\":\"Legend\"},{\"attributes\":{\"axis\":{\"id\":\"4003\"},\"grid_line_color\":null,\"ticker\":null},\"id\":\"4006\",\"type\":\"Grid\"}],\"root_ids\":[\"4084\"]},\"title\":\"Bokeh Application\",\"version\":\"2.2.3\"}};\n",
       "  var render_items = [{\"docid\":\"c5b521b7-abdc-4af3-a7ad-5886ee8c6bae\",\"root_ids\":[\"4084\"],\"roots\":{\"4084\":\"f40b9e0b-badd-49f4-84fa-4d4b0aec372e\"}}];\n",
       "  root.Bokeh.embed.embed_items_notebook(docs_json, render_items);\n",
       "\n",
       "  }\n",
       "  if (root.Bokeh !== undefined) {\n",
       "    embed_document(root);\n",
       "  } else {\n",
       "    var attempts = 0;\n",
       "    var timer = setInterval(function(root) {\n",
       "      if (root.Bokeh !== undefined) {\n",
       "        clearInterval(timer);\n",
       "        embed_document(root);\n",
       "      } else {\n",
       "        attempts++;\n",
       "        if (attempts > 100) {\n",
       "          clearInterval(timer);\n",
       "          console.log(\"Bokeh: ERROR: Unable to run BokehJS code because BokehJS library is missing\");\n",
       "        }\n",
       "      }\n",
       "    }, 10, root)\n",
       "  }\n",
       "})(window);"
      ],
      "application/vnd.bokehjs_exec.v0+json": ""
     },
     "metadata": {
      "application/vnd.bokehjs_exec.v0+json": {
       "id": "4084"
      }
     },
     "output_type": "display_data"
    },
    {
     "data": {
      "text/html": [
       "\n",
       "\n",
       "\n",
       "\n",
       "\n",
       "\n",
       "  <div class=\"bk-root\" id=\"066cccc3-f398-401b-bb41-d9d186dc4de7\" data-root-id=\"4363\"></div>\n"
      ]
     },
     "metadata": {},
     "output_type": "display_data"
    },
    {
     "data": {
      "application/javascript": [
       "(function(root) {\n",
       "  function embed_document(root) {\n",
       "    \n",
       "  var docs_json = {\"9818b9e4-8935-470f-bc7b-b222024a0eb1\":{\"roots\":{\"references\":[{\"attributes\":{\"children\":[{\"id\":\"4361\"},{\"id\":\"4362\"}]},\"id\":\"4363\",\"type\":\"Column\"},{\"attributes\":{},\"id\":\"4357\",\"type\":\"UnionRenderers\"},{\"attributes\":{},\"id\":\"4332\",\"type\":\"BasicTicker\"},{\"attributes\":{},\"id\":\"4356\",\"type\":\"BasicTickFormatter\"},{\"attributes\":{},\"id\":\"4328\",\"type\":\"BasicTicker\"},{\"attributes\":{},\"id\":\"4358\",\"type\":\"Selection\"},{\"attributes\":{\"axis\":{\"id\":\"4327\"},\"grid_line_color\":null,\"ticker\":null},\"id\":\"4330\",\"type\":\"Grid\"},{\"attributes\":{\"axis_label\":null,\"formatter\":{\"id\":\"4354\"},\"ticker\":{\"id\":\"4328\"},\"visible\":false},\"id\":\"4327\",\"type\":\"LinearAxis\"},{\"attributes\":{\"axis\":{\"id\":\"4331\"},\"dimension\":1,\"grid_line_color\":null,\"ticker\":null},\"id\":\"4334\",\"type\":\"Grid\"},{\"attributes\":{\"axis_label\":null,\"formatter\":{\"id\":\"4356\"},\"ticker\":{\"id\":\"4332\"},\"visible\":false},\"id\":\"4331\",\"type\":\"LinearAxis\"},{\"attributes\":{},\"id\":\"4354\",\"type\":\"BasicTickFormatter\"},{\"attributes\":{\"active_drag\":\"auto\",\"active_inspect\":\"auto\",\"active_multi\":null,\"active_scroll\":\"auto\",\"active_tap\":\"auto\",\"tools\":[{\"id\":\"4335\"},{\"id\":\"4336\"},{\"id\":\"4337\"},{\"id\":\"4338\"}]},\"id\":\"4339\",\"type\":\"Toolbar\"},{\"attributes\":{\"width\":900},\"id\":\"4361\",\"type\":\"Paragraph\"},{\"attributes\":{},\"id\":\"4321\",\"type\":\"DataRange1d\"},{\"attributes\":{\"children\":[{\"id\":\"4316\"}]},\"id\":\"4362\",\"type\":\"Row\"},{\"attributes\":{\"field\":\"angle\"},\"id\":\"4345\",\"type\":\"CumSum\"},{\"attributes\":{\"data_source\":{\"id\":\"4346\"},\"glyph\":{\"id\":\"4348\"},\"hover_glyph\":null,\"muted_glyph\":null,\"nonselection_glyph\":{\"id\":\"4349\"},\"selection_glyph\":null,\"view\":{\"id\":\"4351\"}},\"id\":\"4350\",\"type\":\"GlyphRenderer\"},{\"attributes\":{\"callback\":null,\"tooltips\":\"@phase:@value\"},\"id\":\"4335\",\"type\":\"HoverTool\"},{\"attributes\":{},\"id\":\"4325\",\"type\":\"LinearScale\"},{\"attributes\":{},\"id\":\"4336\",\"type\":\"WheelZoomTool\"},{\"attributes\":{\"below\":[{\"id\":\"4327\"}],\"center\":[{\"id\":\"4330\"},{\"id\":\"4334\"},{\"id\":\"4359\"}],\"left\":[{\"id\":\"4331\"}],\"outline_line_color\":\"white\",\"plot_height\":350,\"renderers\":[{\"id\":\"4350\"}],\"title\":{\"id\":\"4317\"},\"toolbar\":{\"id\":\"4339\"},\"x_range\":{\"id\":\"4319\"},\"x_scale\":{\"id\":\"4323\"},\"y_range\":{\"id\":\"4321\"},\"y_scale\":{\"id\":\"4325\"}},\"id\":\"4316\",\"subtype\":\"Figure\",\"type\":\"Plot\"},{\"attributes\":{\"text\":\"General metrics recorded in framework \"},\"id\":\"4317\",\"type\":\"Title\"},{\"attributes\":{\"source\":{\"id\":\"4346\"}},\"id\":\"4351\",\"type\":\"CDSView\"},{\"attributes\":{},\"id\":\"4337\",\"type\":\"ResetTool\"},{\"attributes\":{\"items\":[{\"id\":\"4360\"}],\"label_text_font_size\":\"8pt\",\"location\":\"center_right\"},\"id\":\"4359\",\"type\":\"Legend\"},{\"attributes\":{},\"id\":\"4338\",\"type\":\"PanTool\"},{\"attributes\":{\"end_angle\":{\"expr\":{\"id\":\"4345\"},\"units\":\"rad\"},\"fill_color\":{\"field\":\"color\"},\"line_color\":{\"value\":\"white\"},\"radius\":{\"units\":\"data\",\"value\":0.3},\"start_angle\":{\"expr\":{\"id\":\"4344\"},\"units\":\"rad\"},\"x\":{\"value\":0},\"y\":{\"value\":0.0}},\"id\":\"4348\",\"type\":\"Wedge\"},{\"attributes\":{\"data\":{\"angle\":{\"__ndarray__\":\"GC1EVPshGUA=\",\"dtype\":\"float64\",\"order\":\"little\",\"shape\":[1]},\"color\":[\"#440154\"],\"index\":[0],\"phase\":[\"Forward\"],\"value\":{\"__ndarray__\":\"AAAAAAAAWUA=\",\"dtype\":\"float64\",\"order\":\"little\",\"shape\":[1]}},\"selected\":{\"id\":\"4358\"},\"selection_policy\":{\"id\":\"4357\"}},\"id\":\"4346\",\"type\":\"ColumnDataSource\"},{\"attributes\":{\"field\":\"angle\",\"include_zero\":true},\"id\":\"4344\",\"type\":\"CumSum\"},{\"attributes\":{\"label\":{\"field\":\"phase\"},\"renderers\":[{\"id\":\"4350\"}]},\"id\":\"4360\",\"type\":\"LegendItem\"},{\"attributes\":{\"end\":0.8999999999999999,\"start\":-0.5},\"id\":\"4319\",\"type\":\"Range1d\"},{\"attributes\":{},\"id\":\"4323\",\"type\":\"LinearScale\"},{\"attributes\":{\"end_angle\":{\"expr\":{\"id\":\"4345\"},\"units\":\"rad\"},\"fill_alpha\":{\"value\":0.1},\"fill_color\":{\"field\":\"color\"},\"line_alpha\":{\"value\":0.1},\"line_color\":{\"value\":\"white\"},\"radius\":{\"units\":\"data\",\"value\":0.3},\"start_angle\":{\"expr\":{\"id\":\"4344\"},\"units\":\"rad\"},\"x\":{\"value\":0},\"y\":{\"value\":0.0}},\"id\":\"4349\",\"type\":\"Wedge\"}],\"root_ids\":[\"4363\"]},\"title\":\"Bokeh Application\",\"version\":\"2.2.3\"}};\n",
       "  var render_items = [{\"docid\":\"9818b9e4-8935-470f-bc7b-b222024a0eb1\",\"root_ids\":[\"4363\"],\"roots\":{\"4363\":\"066cccc3-f398-401b-bb41-d9d186dc4de7\"}}];\n",
       "  root.Bokeh.embed.embed_items_notebook(docs_json, render_items);\n",
       "\n",
       "  }\n",
       "  if (root.Bokeh !== undefined) {\n",
       "    embed_document(root);\n",
       "  } else {\n",
       "    var attempts = 0;\n",
       "    var timer = setInterval(function(root) {\n",
       "      if (root.Bokeh !== undefined) {\n",
       "        clearInterval(timer);\n",
       "        embed_document(root);\n",
       "      } else {\n",
       "        attempts++;\n",
       "        if (attempts > 100) {\n",
       "          clearInterval(timer);\n",
       "          console.log(\"Bokeh: ERROR: Unable to run BokehJS code because BokehJS library is missing\");\n",
       "        }\n",
       "      }\n",
       "    }, 10, root)\n",
       "  }\n",
       "})(window);"
      ],
      "application/vnd.bokehjs_exec.v0+json": ""
     },
     "metadata": {
      "application/vnd.bokehjs_exec.v0+json": {
       "id": "4363"
      }
     },
     "output_type": "display_data"
    }
   ],
   "source": [
    "if analyse_phase == \"training\": \n",
    "    display(Markdown(\"\"\"### CPU bottlenecks\\n\\n\"\"\"))\n",
    "\n",
    "    report = load_report('CPUBottleneck')\n",
    "    if report:\n",
    "        params = report['RuleParameters'].split('\\n')\n",
    "        threshold = int(params[0].split(':')[1])\n",
    "        cpu_threshold = int(params[1].split(':')[1])\n",
    "        gpu_threshold = int(params[2].split(':')[1])\n",
    "        patience = int(params[3].split(':')[1])\n",
    "        violations = report['Violations']\n",
    "        triggered = report['RuleTriggered']\n",
    "        datapoints = report['Datapoints']\n",
    "        \n",
    "        if report['Violations'] > 0:\n",
    "            perc = int(report['Violations']/report['Datapoints']*100)\n",
    "        else:\n",
    "            perc = 0\n",
    "        if perc < threshold:\n",
    "            string = 'below'\n",
    "        else:\n",
    "            string = 'above'\n",
    "        text = f\"\"\"The CPUBottleneck rule checked when the CPU utilization was above cpu_threshold of {cpu_threshold}% \n",
    "        and GPU utilization was below gpu_threshold of {gpu_threshold}%. \n",
    "        During initialization utilization is likely to be zero, so the rule skipped the first {patience} datapoints.\n",
    "        With this configuration the rule found {violations} CPU bottlenecks which is {perc}% of the total time. This is {string} the threshold of {threshold}%\n",
    "        The rule analysed {datapoints} data points and triggered {triggered} times.\"\"\"\n",
    "        \n",
    "        paragraph = Paragraph(text=text, width=900)\n",
    "        show(paragraph)\n",
    "        if report:\n",
    "\n",
    "            plots = []\n",
    "            text = \"\"\n",
    "            if report['RuleTriggered'] > 0:\n",
    "\n",
    "                low_gpu = report['Details']['low_gpu_utilization']\n",
    "                cpu_bottleneck = {}\n",
    "                cpu_bottleneck[\"GPU usage above threshold\"] = report[\"Datapoints\"] - report[\"Details\"][\"low_gpu_utilization\"]\n",
    "                cpu_bottleneck[\"GPU usage below threshold\"] = report[\"Details\"][\"low_gpu_utilization\"] - len(report[\"Details\"])\n",
    "                cpu_bottleneck[\"Low GPU usage due to CPU bottlenecks\"] = len(report[\"Details\"][\"bottlenecks\"])\n",
    "\n",
    "                n_bottlenecks = round(len(report['Details']['bottlenecks'])/datapoints * 100, 2)\n",
    "                text = f\"\"\"The following chart (left) shows how many datapoints were below the gpu_threshold of {gpu_threshold}%\n",
    "                and how many of those datapoints were likely caused by a CPU bottleneck. The rule found {low_gpu} out of {datapoints} datapoints which had a GPU utilization \n",
    "                below {gpu_threshold}%. Out of those datapoints {n_bottlenecks}% were likely caused by CPU bottlenecks. \n",
    "                \"\"\"\n",
    "\n",
    "                plot = create_piechart(cpu_bottleneck, \n",
    "                                    height=350,\n",
    "                                    width=600,\n",
    "                                    x1=0.2,\n",
    "                                    x2=0.6,\n",
    "                                    radius=0.3, \n",
    "                                    title=\"Low GPU usage caused by CPU bottlenecks\")\n",
    "\n",
    "                plots.append(plot)\n",
    "\n",
    "                if 'phase' in report['Details']:\n",
    "                    text = f\"\"\"{text} The chart (in the middle) shows whether CPU bottlenecks mainly \n",
    "                    happened during train/validation phase.\n",
    "                    \"\"\"\n",
    "\n",
    "                    plot = create_piechart(report['Details']['phase'], \n",
    "                                        height=350,\n",
    "                                        width=600,\n",
    "                                        x1=0.2,\n",
    "                                        x2=0.6,\n",
    "                                        radius=0.3, \n",
    "                                        title=\"The ratio between time spent on TRAIN/EVAL phase\")\n",
    "                    plots.append(plot)\n",
    "\n",
    "                if 'forward_backward' in report['Details'] and  len(report['Details']['forward_backward']) > 0:\n",
    "\n",
    "                    event = max(report['Details']['forward_backward'], key=report['Details']['forward_backward'].get)\n",
    "                    perc = report['Details']['forward_backward'][event]\n",
    "\n",
    "                    text = f\"\"\"{text} The pie charts on the right shows a more detailed breakdown. \n",
    "                    It shows that {int(perc)}% of the training time was spent on event {event}\"\"\"\n",
    "\n",
    "                    plot = create_piechart(report['Details']['forward_backward'], \n",
    "                                        height=350,\n",
    "                                        width=600,\n",
    "                                        x1=0.2,\n",
    "                                        x2=0.6,\n",
    "                                        radius=0.3, \n",
    "                                        title=\"The ratio between forward and backward pass\") \n",
    "                    plots.append(plot)\n",
    "\n",
    "                if len(plots) > 0:\n",
    "                    paragraph = Paragraph(text=text, width=900)\n",
    "                    show(column(paragraph, row(plots)))\n",
    "\n",
    "                plots = []\n",
    "                text = \"\"\n",
    "                if 'ratio' in report['Details'] and len(report['Details']['ratio']) > 0:\n",
    "\n",
    "                    key = list(report['Details']['ratio'].keys())[0]\n",
    "                    ratio = report['Details']['ratio'][key]\n",
    "\n",
    "                    text = f\"\"\"The following pie chart shows a breakdown of the CPU/GPU operators that happened during CPU bottlenecks. \n",
    "                        It shows that {int(ratio)}% of the training time was spent on executing operators in \"{key}\".\"\"\"\n",
    "\n",
    "                    plot = create_piechart(report['Details']['ratio'], \n",
    "                                            height=350,\n",
    "                                            width=600,\n",
    "                                            x1=0.2,\n",
    "                                            x2=0.6,\n",
    "                                            radius=0.3, \n",
    "                                            title=\"The ratio between CPU/GPU operators\")\n",
    "                    plots.append(plot)\n",
    "\n",
    "\n",
    "                if 'general' in report['Details'] and len(report['Details']['general']) > 0:\n",
    "\n",
    "                    event = max(report['Details']['general'], key=report['Details']['general'].get)\n",
    "                    perc = report['Details']['general'][event]\n",
    "                \n",
    "                    plot = create_piechart(report['Details']['general'], \n",
    "                                        height=350,\n",
    "                                        width=600,\n",
    "                                        x1=0.2,\n",
    "                                        x2=0.6,\n",
    "                                        radius=0.3, \n",
    "                                        title=\"General metrics recorded in framework \")\n",
    "                    plots.append(plot)\n",
    "\n",
    "                if len(plots) > 0:\n",
    "                    paragraph = Paragraph(text=text, width=900)\n",
    "                    show(column(paragraph, row(plots)))\n",
    "\n",
    "                plots = []\n",
    "                text = \"\"\n",
    "                if 'horovod' in report['Details'] and len(report['Details']['horovod']) > 0:\n",
    "\n",
    "                    event = max(report['Details']['horovod'], key=report['Details']['horovod'].get)\n",
    "                    perc = report['Details']['horovod'][event]\n",
    "                    text = f\"\"\"The following pie chart shows a detailed breakdown of the Horovod metrics \n",
    "                    that have been recorded when the CPU bottleneck happened. The most expensive function was \n",
    "                    {event} with {int(perc)}%\"\"\"\n",
    "\n",
    "                    plot = create_piechart(report['Details']['horovod'], \n",
    "                                        height=350,\n",
    "                                        width=600,\n",
    "                                        x1=0.2,\n",
    "                                        x2=0.6,\n",
    "                                        radius=0.3, \n",
    "                                        title=\"General metrics recorded in framework \")\n",
    "\n",
    "                    paragraph = Paragraph(text=text, width=900)\n",
    "                    show(column(paragraph, row(plot)))"
   ]
  },
  {
   "cell_type": "code",
   "execution_count": 28,
   "metadata": {
    "execution": {
     "iopub.execute_input": "2021-12-03T21:44:36.246805Z",
     "iopub.status.busy": "2021-12-03T21:44:36.227947Z",
     "iopub.status.idle": "2021-12-03T21:44:36.285140Z",
     "shell.execute_reply": "2021-12-03T21:44:36.285520Z"
    },
    "papermill": {
     "duration": 0.097828,
     "end_time": "2021-12-03T21:44:36.285660",
     "exception": false,
     "start_time": "2021-12-03T21:44:36.187832",
     "status": "completed"
    },
    "tags": [
     "hide-input"
    ]
   },
   "outputs": [
    {
     "data": {
      "text/markdown": [
       "### I/O bottlenecks\n",
       "\n"
      ],
      "text/plain": [
       "<IPython.core.display.Markdown object>"
      ]
     },
     "metadata": {},
     "output_type": "display_data"
    },
    {
     "data": {
      "text/html": [
       "\n",
       "\n",
       "\n",
       "\n",
       "\n",
       "\n",
       "  <div class=\"bk-root\" id=\"311efa4a-c105-44fe-b201-263b0cd4e3e1\" data-root-id=\"4567\"></div>\n"
      ]
     },
     "metadata": {},
     "output_type": "display_data"
    },
    {
     "data": {
      "application/javascript": [
       "(function(root) {\n",
       "  function embed_document(root) {\n",
       "    \n",
       "  var docs_json = {\"b9069503-b3f8-4223-9c07-1e790b2d510f\":{\"roots\":{\"references\":[{\"attributes\":{\"text\":\"The IOBottleneck rule checked when I/O wait time was above io_threshold of 50% \\n        and GPU utilization was below gpu_threshold of 10. During initialization utilization is likely to be zero, so the rule skipped the first 1000 datapoints. \\n        With this configuration the rule found 115 I/O bottlenecks which is 4% of the total time. This is below the threshold of 50%.\\n        The rule analysed 2791 datapoints and triggered 0 times.\",\"width\":900},\"id\":\"4567\",\"type\":\"Paragraph\"}],\"root_ids\":[\"4567\"]},\"title\":\"Bokeh Application\",\"version\":\"2.2.3\"}};\n",
       "  var render_items = [{\"docid\":\"b9069503-b3f8-4223-9c07-1e790b2d510f\",\"root_ids\":[\"4567\"],\"roots\":{\"4567\":\"311efa4a-c105-44fe-b201-263b0cd4e3e1\"}}];\n",
       "  root.Bokeh.embed.embed_items_notebook(docs_json, render_items);\n",
       "\n",
       "  }\n",
       "  if (root.Bokeh !== undefined) {\n",
       "    embed_document(root);\n",
       "  } else {\n",
       "    var attempts = 0;\n",
       "    var timer = setInterval(function(root) {\n",
       "      if (root.Bokeh !== undefined) {\n",
       "        clearInterval(timer);\n",
       "        embed_document(root);\n",
       "      } else {\n",
       "        attempts++;\n",
       "        if (attempts > 100) {\n",
       "          clearInterval(timer);\n",
       "          console.log(\"Bokeh: ERROR: Unable to run BokehJS code because BokehJS library is missing\");\n",
       "        }\n",
       "      }\n",
       "    }, 10, root)\n",
       "  }\n",
       "})(window);"
      ],
      "application/vnd.bokehjs_exec.v0+json": ""
     },
     "metadata": {
      "application/vnd.bokehjs_exec.v0+json": {
       "id": "4567"
      }
     },
     "output_type": "display_data"
    }
   ],
   "source": [
    "if analyse_phase == \"training\": \n",
    "    display(Markdown(\"\"\"### I/O bottlenecks\\n\\n\"\"\"))\n",
    "\n",
    "    report = load_report('IOBottleneck')\n",
    "    if report:\n",
    "        params = report['RuleParameters'].split('\\n')\n",
    "        threshold = int(params[0].split(':')[1])\n",
    "        io_threshold = int(params[1].split(':')[1])\n",
    "        gpu_threshold = int(params[2].split(':')[1])\n",
    "        patience = int(params[3].split(':')[1])\n",
    "        violations = report['Violations']\n",
    "        triggered = report['RuleTriggered']\n",
    "        datapoints = report['Datapoints']\n",
    "    \n",
    "        if report['Violations'] > 0:\n",
    "            perc = int(report['Violations']/report['Datapoints']*100)\n",
    "        else:\n",
    "            perc = 0\n",
    "        if perc < threshold:\n",
    "            string = 'below'\n",
    "        else:\n",
    "            string = 'above'\n",
    "        text = f\"\"\"The IOBottleneck rule checked when I/O wait time was above io_threshold of {io_threshold}% \n",
    "        and GPU utilization was below gpu_threshold of {gpu_threshold}. During initialization utilization is likely to be zero, so the rule skipped the first {patience} datapoints. \n",
    "        With this configuration the rule found {violations} I/O bottlenecks which is {perc}% of the total time. This is {string} the threshold of {threshold}%.\n",
    "        The rule analysed {datapoints} datapoints and triggered {triggered} times.\"\"\"\n",
    "        paragraph = Paragraph(text=text, width=900)\n",
    "        show(paragraph)\n",
    "        \n",
    "        if report:\n",
    "\n",
    "            plots = []\n",
    "            text = \"\"\n",
    "            if report['RuleTriggered'] > 0:\n",
    "\n",
    "                low_gpu = report['Details']['low_gpu_utilization']\n",
    "                cpu_bottleneck = {}\n",
    "                cpu_bottleneck[\"GPU usage above threshold\"] = report[\"Datapoints\"] - report[\"Details\"][\"low_gpu_utilization\"]\n",
    "                cpu_bottleneck[\"GPU usage below threshold\"] = report[\"Details\"][\"low_gpu_utilization\"] - len(report[\"Details\"])\n",
    "                cpu_bottleneck[\"Low GPU usage due to I/O bottlenecks\"] = len(report[\"Details\"][\"bottlenecks\"])\n",
    "\n",
    "                n_bottlenecks = round(len(report['Details']['bottlenecks'])/datapoints * 100, 2)\n",
    "                text = f\"\"\"The following chart (left) shows how many datapoints were below the gpu_threshold of {gpu_threshold}%\n",
    "                and how many of those datapoints were likely caused by a I/O bottleneck. The rule found {low_gpu} out of {datapoints} datapoints which had a GPU utilization \n",
    "                below {gpu_threshold}%. Out of those datapoints {n_bottlenecks}% were likely caused by I/O bottlenecks. \n",
    "                \"\"\"\n",
    "\n",
    "                plot = create_piechart(cpu_bottleneck, \n",
    "                                    height=350,\n",
    "                                    width=600,\n",
    "                                    x1=0.2,\n",
    "                                    x2=0.6,\n",
    "                                    radius=0.3, \n",
    "                                    title=\"Low GPU usage caused by I/O bottlenecks\")\n",
    "\n",
    "                plots.append(plot)\n",
    "\n",
    "                if 'phase' in report['Details']:\n",
    "                    text = f\"\"\"{text} The chart (in the middle) shows whether I/O bottlenecks mainly happened during the training or validation phase.\n",
    "                    \"\"\"\n",
    "\n",
    "                    plot = create_piechart(report['Details']['phase'], \n",
    "                                        height=350,\n",
    "                                        width=600,\n",
    "                                        x1=0.2,\n",
    "                                        x2=0.6,\n",
    "                                        radius=0.3, \n",
    "                                        title=\"The ratio between the time spent on the TRAIN/EVAL phase\")\n",
    "                    plots.append(plot)\n",
    "\n",
    "                if 'forward_backward' in report['Details'] and  len(report['Details']['forward_backward']) > 0:\n",
    "\n",
    "                    event = max(report['Details']['forward_backward'], key=report['Details']['forward_backward'].get)\n",
    "                    perc = report['Details']['forward_backward'][event]\n",
    "\n",
    "                    text = f\"\"\"{text} The pie charts on the right shows a more detailed breakdown. \n",
    "                    It shows that {int(perc)}% of the training time was spent on event \"{event}\".\"\"\"\n",
    "\n",
    "                    plot = create_piechart(report['Details']['forward_backward'], \n",
    "                                        height=350,\n",
    "                                        width=600,\n",
    "                                        x1=0.2,\n",
    "                                        x2=0.6,\n",
    "                                        radius=0.3, \n",
    "                                        title=\"The ratio between forward and backward pass\") \n",
    "                    plots.append(plot)\n",
    "\n",
    "                if len(plots) > 0:\n",
    "                    paragraph = Paragraph(text=text, width=900)\n",
    "                    show(column(paragraph, row(plots)))\n",
    "\n",
    "                plots = []\n",
    "                text = \"\"\n",
    "                if 'ratio' in report['Details'] and len(report['Details']['ratio']) > 0:\n",
    "\n",
    "                    key = list(report['Details']['ratio'].keys())[0]\n",
    "                    ratio = report['Details']['ratio'][key]\n",
    "\n",
    "                    text = f\"\"\"The following pie chart shows a breakdown of the CPU/GPU operators that happened \n",
    "                    during I/O bottlenecks. It shows that {int(ratio)}% of the training time was spent on executing operators in \"{key}\".\"\"\"\n",
    "\n",
    "                    plot = create_piechart(report['Details']['ratio'], \n",
    "                                            height=350,\n",
    "                                            width=600,\n",
    "                                            x1=0.2,\n",
    "                                            x2=0.6,\n",
    "                                            radius=0.3, \n",
    "                                            title=\"Ratio between CPU/GPU operators\")\n",
    "                    plots.append(plot)\n",
    "\n",
    "\n",
    "                if 'general' in report['Details'] and len(report['Details']['general']) > 0:\n",
    "\n",
    "                    event = max(report['Details']['general'], key=report['Details']['general'].get)\n",
    "                    perc = report['Details']['general'][event]\n",
    "\n",
    "                    plot = create_piechart(report['Details']['general'], \n",
    "                                        height=350,\n",
    "                                        width=600,\n",
    "                                        x1=0.2,\n",
    "                                        x2=0.6,\n",
    "                                        radius=0.3, \n",
    "                                        title=\"General metrics recorded in framework \")\n",
    "                    plots.append(plot)\n",
    "\n",
    "                if len(plots) > 0:\n",
    "                    paragraph = Paragraph(text=text, width=900)\n",
    "                    show(column(paragraph, row(plots)))\n",
    "\n",
    "                plots = []\n",
    "                text = \"\"\n",
    "                if 'horovod' in report['Details'] and len(report['Details']['horovod']) > 0:\n",
    "\n",
    "                    event = max(report['Details']['horovod'], key=report['Details']['horovod'].get)\n",
    "                    perc = report['Details']['horovod'][event]\n",
    "                    text = f\"\"\"The following pie chart shows a detailed breakdown of the Horovod metrics that have been\n",
    "                    recorded when I/O bottleneck happened. The most expensive function was {event} with {int(perc)}%\"\"\"\n",
    "\n",
    "                    plot = create_piechart(report['Details']['horovod'], \n",
    "                                        height=350,\n",
    "                                        width=600,\n",
    "                                        x1=0.2,\n",
    "                                        x2=0.6,\n",
    "                                        radius=0.3, \n",
    "                                        title=\"General metrics recorded in framework \")\n",
    "\n",
    "                    paragraph = Paragraph(text=text, width=900)\n",
    "                    show(column(paragraph, row(plot)))    \n"
   ]
  },
  {
   "cell_type": "code",
   "execution_count": 29,
   "metadata": {
    "execution": {
     "iopub.execute_input": "2021-12-03T21:44:36.377860Z",
     "iopub.status.busy": "2021-12-03T21:44:36.374821Z",
     "iopub.status.idle": "2021-12-03T21:44:36.416422Z",
     "shell.execute_reply": "2021-12-03T21:44:36.416796Z"
    },
    "papermill": {
     "duration": 0.092718,
     "end_time": "2021-12-03T21:44:36.416954",
     "exception": false,
     "start_time": "2021-12-03T21:44:36.324236",
     "status": "completed"
    },
    "tags": [
     "hide-input"
    ]
   },
   "outputs": [
    {
     "data": {
      "text/markdown": [
       "### GPU memory\n",
       "\n"
      ],
      "text/plain": [
       "<IPython.core.display.Markdown object>"
      ]
     },
     "metadata": {},
     "output_type": "display_data"
    },
    {
     "data": {
      "text/html": [
       "\n",
       "\n",
       "\n",
       "\n",
       "\n",
       "\n",
       "  <div class=\"bk-root\" id=\"e9712139-bc2b-4fc9-8fd1-7825f9186c03\" data-root-id=\"4736\"></div>\n"
      ]
     },
     "metadata": {},
     "output_type": "display_data"
    },
    {
     "data": {
      "application/javascript": [
       "(function(root) {\n",
       "  function embed_document(root) {\n",
       "    \n",
       "  var docs_json = {\"6b59bf80-fb07-44a9-ae55-d14c82c81450\":{\"roots\":{\"references\":[{\"attributes\":{\"text\":\"The GPUMemoryIncrease rule helps to detect large increase in memory usage on GPUs. \\n        The rule checked if the moving average of memory increased by more than 5.0%. \\n        So if the moving average increased for instance from 10% to 16.0%, \\n        the rule would have triggered. During initialization utilization  is likely 0, so the rule skipped the first 1000 datapoints.\\n        The moving average was computed on a window size of 10 continuous datapoints. The rule detected 0 violations\\n        where the moving average between previous and current time window increased by more than 5.0%.\\n        The rule analysed 2776 datapoints and triggered 0 times.\",\"width\":900},\"id\":\"4736\",\"type\":\"Paragraph\"}],\"root_ids\":[\"4736\"]},\"title\":\"Bokeh Application\",\"version\":\"2.2.3\"}};\n",
       "  var render_items = [{\"docid\":\"6b59bf80-fb07-44a9-ae55-d14c82c81450\",\"root_ids\":[\"4736\"],\"roots\":{\"4736\":\"e9712139-bc2b-4fc9-8fd1-7825f9186c03\"}}];\n",
       "  root.Bokeh.embed.embed_items_notebook(docs_json, render_items);\n",
       "\n",
       "  }\n",
       "  if (root.Bokeh !== undefined) {\n",
       "    embed_document(root);\n",
       "  } else {\n",
       "    var attempts = 0;\n",
       "    var timer = setInterval(function(root) {\n",
       "      if (root.Bokeh !== undefined) {\n",
       "        clearInterval(timer);\n",
       "        embed_document(root);\n",
       "      } else {\n",
       "        attempts++;\n",
       "        if (attempts > 100) {\n",
       "          clearInterval(timer);\n",
       "          console.log(\"Bokeh: ERROR: Unable to run BokehJS code because BokehJS library is missing\");\n",
       "        }\n",
       "      }\n",
       "    }, 10, root)\n",
       "  }\n",
       "})(window);"
      ],
      "application/vnd.bokehjs_exec.v0+json": ""
     },
     "metadata": {
      "application/vnd.bokehjs_exec.v0+json": {
       "id": "4736"
      }
     },
     "output_type": "display_data"
    }
   ],
   "source": [
    "if analyse_phase == \"training\":\n",
    "    display(Markdown(\"\"\"### GPU memory\\n\\n\"\"\"))\n",
    "    \n",
    "    report = load_report('GPUMemoryIncrease')\n",
    "    if report:\n",
    "        params = report['RuleParameters'].split('\\n')\n",
    "        increase = float(params[0].split(':')[1])\n",
    "        patience = params[1].split(':')[1]\n",
    "        window = params[2].split(':')[1]\n",
    "        violations = report['Violations']\n",
    "        triggered = report['RuleTriggered']\n",
    "        datapoints = report['Datapoints']\n",
    "    \n",
    "        text=Paragraph(text=f\"\"\"The GPUMemoryIncrease rule helps to detect large increase in memory usage on GPUs. \n",
    "        The rule checked if the moving average of memory increased by more than {increase}%. \n",
    "        So if the moving average increased for instance from 10% to {11+increase}%, \n",
    "        the rule would have triggered. During initialization utilization  is likely 0, so the rule skipped the first {patience} datapoints.\n",
    "        The moving average was computed on a window size of {window} continuous datapoints. The rule detected {violations} violations\n",
    "        where the moving average between previous and current time window increased by more than {increase}%.\n",
    "        The rule analysed {datapoints} datapoints and triggered {triggered} times.\"\"\",\n",
    "                       width=900)\n",
    "        show(text)\n",
    "\n",
    "        if len(report['Details']) > 0:\n",
    "            \n",
    "            timestamp = us_since_epoch_to_human_readable_time(report['Details']['last_timestamp'])\n",
    "            date = datetime.datetime.strptime(timestamp, '%Y-%m-%dT%H:%M:%S:%f')\n",
    "            day = date.date().strftime(\"%m/%d/%Y\")\n",
    "            hour = date.time().strftime(\"%H:%M:%S\")\n",
    "            text = Paragraph(text=f\"\"\"Your training job triggered memory spikes. \n",
    "            The last time the GPUMemoryIncrease rule triggered in your training job was on {day} at {hour}.\n",
    "            The following boxplots are a snapshot from the timestamps. They show for each node and GPU the corresponding\n",
    "            memory utilization (without outliers).\"\"\", width=900)\n",
    "            show(text)\n",
    "            \n",
    "            del report['Details']['last_timestamp']\n",
    "            \n",
    "            for node_id in report['Details']:\n",
    "    \n",
    "                plot = figure(plot_height=350, \n",
    "                          plot_width=1000,\n",
    "                          toolbar_location='right',\n",
    "                          tools=\"hover,wheel_zoom,reset,pan\", \n",
    "                          title=f\"Node {node_id}\",\n",
    "                          x_range=(0,17),\n",
    "                          )\n",
    "\n",
    "                for index, key in enumerate(report['Details'][node_id]):\n",
    "                    display(Markdown(f\"\"\"**Memory utilization of {key} on node {node_id}:**\"\"\"))\n",
    "                    text = \"\"\n",
    "                    gpu_max = report['Details'][node_id][key]['gpu_max']\n",
    "                    text = f\"\"\"{text} The max memory utilization of {key} on node {node_id} was {gpu_max}%.\"\"\"\n",
    "                    \n",
    "                    p_95 = int(report['Details'][node_id][key]['p95'])\n",
    "                    p_5 = report['Details'][node_id][key]['p05']\n",
    "                    if p_95 < int(50): \n",
    "                        text = f\"\"\"{text} The 95th percentile was only {p_95}%.\"\"\"\n",
    "                    if p_5 < int(5): \n",
    "                        text = f\"\"\"{text} The 5th percentile was only {p_5}%.\"\"\"\n",
    "                    if p_95 - p_5 > 50:\n",
    "                        text = f\"\"\"{text} The difference between 5th percentile {p_5}% and 95th percentile {p_95}% is quite \n",
    "                        significant, which means that memory utilization on {key} is fluctuating quite a lot.\"\"\"\n",
    "                        \n",
    "                    text = Paragraph(text=f\"\"\"{text}\"\"\", width=900)\n",
    "                    show(text)\n",
    "                    \n",
    "                    upper = report['Details'][node_id][key]['upper']\n",
    "                    lower = report['Details'][node_id][key]['lower']\n",
    "                    p75 = report['Details'][node_id][key]['p75']\n",
    "                    p25 = report['Details'][node_id][key]['p25']\n",
    "                    p50 = report['Details'][node_id][key]['p50']\n",
    "\n",
    "                    plot.segment(index+1, upper, index+1, p75, line_color=\"black\")\n",
    "                    plot.segment(index+1, lower, index+1, p25, line_color=\"black\")\n",
    "\n",
    "                    plot.vbar(index+1, 0.7, p50, p75, fill_color=\"#FDE725\", line_color=\"black\")\n",
    "                    plot.vbar(index+1, 0.7, p25, p50, fill_color=\"#440154\", line_color=\"black\")\n",
    "\n",
    "                    plot.rect(index+1, lower, 0.2, 0.01, line_color=\"black\")\n",
    "                    plot.rect(index+1, upper, 0.2, 0.01, line_color=\"black\")\n",
    "\n",
    "                    plot.xaxis.major_label_overrides[index+1] = key\n",
    "                    plot.xgrid.grid_line_color = None\n",
    "                    plot.ygrid.grid_line_color = \"white\"\n",
    "                    plot.grid.grid_line_width = 0\n",
    "\n",
    "                    plot.xaxis.major_label_text_font_size=\"10px\"\n",
    "                plot.xaxis.ticker = np.arange(index+2)\n",
    "                plot.yaxis.axis_label = \"Utilization in %\"\n",
    "                show(plot)"
   ]
  }
 ],
 "metadata": {
  "celltoolbar": "Tags",
  "kernelspec": {
   "display_name": "Python 3",
   "language": "python",
   "name": "python3"
  },
  "language_info": {
   "codemirror_mode": {
    "name": "ipython",
    "version": 3
   },
   "file_extension": ".py",
   "mimetype": "text/x-python",
   "name": "python",
   "nbconvert_exporter": "python",
   "pygments_lexer": "ipython3",
   "version": "3.7.10"
  },
  "papermill": {
   "duration": 4.510843,
   "end_time": "2021-12-03T21:44:36.760774",
   "environment_variables": {},
   "exception": null,
   "input_path": "/opt/ml/code/profiler_report.ipynb",
   "output_path": "/opt/ml/processing/output/rule/profiler-output/.sagemaker-ignore/out.tmp",
   "parameters": {
    "processing_job_arn": "arn:aws:sagemaker:us-east-1:767753516712:processing-job/dog-pytorch-train-2021-12--profilerreport-c47fdba1"
   },
   "start_time": "2021-12-03T21:44:32.249931",
   "version": "2.1.2"
  }
 },
 "nbformat": 4,
 "nbformat_minor": 4
}